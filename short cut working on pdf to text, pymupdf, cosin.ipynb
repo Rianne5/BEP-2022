{
 "cells": [
  {
   "cell_type": "code",
   "execution_count": 1,
   "id": "e8c805f1",
   "metadata": {},
   "outputs": [],
   "source": [
    "import pandas as pd\n",
    "import os\n",
    "import arxiv\n",
    "\n",
    "import urllib\n",
    "from sklearn.metrics.pairwise import cosine_similarity\n",
    "import fitz\n",
    "import tensorflow_hub as hub\n",
    "import numpy as np \n"
   ]
  },
  {
   "cell_type": "code",
   "execution_count": 2,
   "id": "b194ae8b",
   "metadata": {},
   "outputs": [],
   "source": [
    "from function import *"
   ]
  },
  {
   "cell_type": "code",
   "execution_count": 3,
   "id": "2ab6261a",
   "metadata": {},
   "outputs": [],
   "source": [
    "import time\n",
    "import matplotlib as plt"
   ]
  },
  {
   "cell_type": "code",
   "execution_count": 4,
   "id": "0769bec8",
   "metadata": {},
   "outputs": [],
   "source": [
    "# sample.loc[:,['title','Succes', 'w_Anth', 'w_Arxiv', 'w_both', 'pages_Anth', 'pages_Arxiv', 'cosine', 'len_blocks', 'len_Anth', 'len_Arxiv', 'len_both', 'ref_Anth', 'ref_Arxiv', 'Jaccard' ]]\n"
   ]
  },
  {
   "cell_type": "markdown",
   "id": "10fbd53c",
   "metadata": {},
   "source": [
    "# Store and load tables/csv of sample and not sample"
   ]
  },
  {
   "cell_type": "code",
   "execution_count": 5,
   "id": "f5a4af38",
   "metadata": {},
   "outputs": [],
   "source": [
    "#ran comparison\n",
    "ran_sample = pd.read_csv('ran_sample.csv',index_col='Unnamed: 0')"
   ]
  },
  {
   "cell_type": "code",
   "execution_count": 6,
   "id": "79e23435",
   "metadata": {
    "scrolled": true
   },
   "outputs": [],
   "source": [
    "#reading csv\n",
    "sample = pd.read_csv('sample.csv',index_col='Unnamed: 0')\n",
    "not_sample = pd.read_csv('not_sample.csv',index_col='Unnamed: 0')"
   ]
  },
  {
   "cell_type": "code",
   "execution_count": 8,
   "id": "5ce0fe40",
   "metadata": {},
   "outputs": [
    {
     "name": "stderr",
     "output_type": "stream",
     "text": [
      "C:\\Users\\20193635\\Anaconda3\\lib\\site-packages\\IPython\\core\\interactiveshell.py:3444: DtypeWarning: Columns (6,8) have mixed types.Specify dtype option on import or set low_memory=False.\n",
      "  exec(code_obj, self.user_global_ns, self.user_ns)\n",
      "\n"
     ]
    }
   ],
   "source": [
    "table = pd.read_csv('combined_table.csv',index_col='Unnamed: 0')"
   ]
  },
  {
   "cell_type": "code",
   "execution_count": 9,
   "id": "1454c9e4",
   "metadata": {},
   "outputs": [
    {
     "data": {
      "text/plain": [
       "array([nan, 'English'], dtype=object)"
      ]
     },
     "execution_count": 9,
     "metadata": {},
     "output_type": "execute_result"
    }
   ],
   "source": [
    "table.language.unique()"
   ]
  },
  {
   "cell_type": "code",
   "execution_count": 12,
   "id": "0f8f1a17",
   "metadata": {},
   "outputs": [
    {
     "name": "stderr",
     "output_type": "stream",
     "text": [
      "C:\\Users\\20193635\\Anaconda3\\lib\\site-packages\\IPython\\core\\interactiveshell.py:3444: DtypeWarning: Columns (8,9) have mixed types.Specify dtype option on import or set low_memory=False.\n",
      "  exec(code_obj, self.user_global_ns, self.user_ns)\n",
      "\n"
     ]
    }
   ],
   "source": [
    "anth = pd.read_csv('anthology_table.csv',index_col='Unnamed: 0')"
   ]
  },
  {
   "cell_type": "code",
   "execution_count": 19,
   "id": "308dd428",
   "metadata": {},
   "outputs": [
    {
     "data": {
      "text/plain": [
       "French     1440\n",
       "English    1384\n",
       "Chinese     204\n",
       "German        1\n",
       "Name: language, dtype: int64"
      ]
     },
     "execution_count": 19,
     "metadata": {},
     "output_type": "execute_result"
    }
   ],
   "source": [
    "anth.language.value_counts()"
   ]
  },
  {
   "cell_type": "code",
   "execution_count": 28,
   "id": "810576ba",
   "metadata": {},
   "outputs": [
    {
     "data": {
      "text/html": [
       "<div>\n",
       "<style scoped>\n",
       "    .dataframe tbody tr th:only-of-type {\n",
       "        vertical-align: middle;\n",
       "    }\n",
       "\n",
       "    .dataframe tbody tr th {\n",
       "        vertical-align: top;\n",
       "    }\n",
       "\n",
       "    .dataframe thead th {\n",
       "        text-align: right;\n",
       "    }\n",
       "</style>\n",
       "<table border=\"1\" class=\"dataframe\">\n",
       "  <thead>\n",
       "    <tr style=\"text-align: right;\">\n",
       "      <th></th>\n",
       "      <th>ISBN</th>\n",
       "      <th>address</th>\n",
       "      <th>booktitle</th>\n",
       "      <th>doi</th>\n",
       "      <th>journal</th>\n",
       "      <th>language</th>\n",
       "      <th>month</th>\n",
       "      <th>note</th>\n",
       "      <th>number</th>\n",
       "      <th>pages</th>\n",
       "      <th>publisher</th>\n",
       "      <th>title</th>\n",
       "      <th>url</th>\n",
       "      <th>volume</th>\n",
       "      <th>year</th>\n",
       "    </tr>\n",
       "  </thead>\n",
       "  <tbody>\n",
       "    <tr>\n",
       "      <th>0</th>\n",
       "      <td>NaN</td>\n",
       "      <td>Online</td>\n",
       "      <td>NaN</td>\n",
       "      <td>NaN</td>\n",
       "      <td>NaN</td>\n",
       "      <td>NaN</td>\n",
       "      <td>August</td>\n",
       "      <td>NaN</td>\n",
       "      <td>NaN</td>\n",
       "      <td>NaN</td>\n",
       "      <td>Association for Computational Linguistics</td>\n",
       "      <td>Proceedings of the 5th Workshop on Online Abus...</td>\n",
       "      <td>https://aclanthology.org/2021.woah-1.0</td>\n",
       "      <td>NaN</td>\n",
       "      <td>2021</td>\n",
       "    </tr>\n",
       "    <tr>\n",
       "      <th>1</th>\n",
       "      <td>NaN</td>\n",
       "      <td>Online</td>\n",
       "      <td>Proceedings of the 5th Workshop on Online Abus...</td>\n",
       "      <td>10.18653/v1/2021.woah-1.1</td>\n",
       "      <td>NaN</td>\n",
       "      <td>NaN</td>\n",
       "      <td>August</td>\n",
       "      <td>NaN</td>\n",
       "      <td>NaN</td>\n",
       "      <td>1--5</td>\n",
       "      <td>Association for Computational Linguistics</td>\n",
       "      <td>Exploiting Auxiliary Data for Offensive Langua...</td>\n",
       "      <td>https://aclanthology.org/2021.woah-1.1</td>\n",
       "      <td>NaN</td>\n",
       "      <td>2021</td>\n",
       "    </tr>\n",
       "  </tbody>\n",
       "</table>\n",
       "</div>"
      ],
      "text/plain": [
       "  ISBN address                                          booktitle  \\\n",
       "0  NaN  Online                                                NaN   \n",
       "1  NaN  Online  Proceedings of the 5th Workshop on Online Abus...   \n",
       "\n",
       "                         doi journal language   month note number pages  \\\n",
       "0                        NaN     NaN      NaN  August  NaN    NaN   NaN   \n",
       "1  10.18653/v1/2021.woah-1.1     NaN      NaN  August  NaN    NaN  1--5   \n",
       "\n",
       "                                   publisher  \\\n",
       "0  Association for Computational Linguistics   \n",
       "1  Association for Computational Linguistics   \n",
       "\n",
       "                                               title  \\\n",
       "0  Proceedings of the 5th Workshop on Online Abus...   \n",
       "1  Exploiting Auxiliary Data for Offensive Langua...   \n",
       "\n",
       "                                      url  volume  year  \n",
       "0  https://aclanthology.org/2021.woah-1.0     NaN  2021  \n",
       "1  https://aclanthology.org/2021.woah-1.1     NaN  2021  "
      ]
     },
     "execution_count": 28,
     "metadata": {},
     "output_type": "execute_result"
    }
   ],
   "source": [
    "anth.head(2)"
   ]
  },
  {
   "cell_type": "code",
   "execution_count": 99,
   "id": "c172eb08",
   "metadata": {},
   "outputs": [
    {
     "data": {
      "text/plain": [
       "(0.14229736983360172, 0.8577026301663982)"
      ]
     },
     "execution_count": 99,
     "metadata": {},
     "output_type": "execute_result"
    }
   ],
   "source": [
    "(74520-63916)/74520, (63916)/74520"
   ]
  },
  {
   "cell_type": "code",
   "execution_count": 67,
   "id": "2fb35b30",
   "metadata": {},
   "outputs": [
    {
     "data": {
      "text/plain": [
       "2585"
      ]
     },
     "execution_count": 67,
     "metadata": {},
     "output_type": "execute_result"
    }
   ],
   "source": [
    "66501-63916"
   ]
  },
  {
   "cell_type": "code",
   "execution_count": 69,
   "id": "35a9bc87",
   "metadata": {},
   "outputs": [
    {
     "data": {
      "text/plain": [
       "649"
      ]
     },
     "execution_count": 69,
     "metadata": {},
     "output_type": "execute_result"
    }
   ],
   "source": [
    "2585-1440-204-292 #"
   ]
  },
  {
   "cell_type": "code",
   "execution_count": 74,
   "id": "95e832bc",
   "metadata": {},
   "outputs": [
    {
     "data": {
      "text/plain": [
       "63786"
      ]
     },
     "execution_count": 74,
     "metadata": {},
     "output_type": "execute_result"
    }
   ],
   "source": [
    "66501-292-204-"
   ]
  },
  {
   "cell_type": "code",
   "execution_count": 75,
   "id": "a443df39",
   "metadata": {},
   "outputs": [
    {
     "data": {
      "text/plain": [
       "32"
      ]
     },
     "execution_count": 75,
     "metadata": {},
     "output_type": "execute_result"
    }
   ],
   "source": [
    "63948-63916"
   ]
  },
  {
   "cell_type": "code",
   "execution_count": 77,
   "id": "3b5e9c37",
   "metadata": {},
   "outputs": [
    {
     "data": {
      "text/plain": [
       "2348"
      ]
     },
     "execution_count": 77,
     "metadata": {},
     "output_type": "execute_result"
    }
   ],
   "source": [
    "66501-64153"
   ]
  },
  {
   "cell_type": "code",
   "execution_count": 37,
   "id": "9313a743",
   "metadata": {},
   "outputs": [
    {
     "data": {
      "text/plain": [
       "63948"
      ]
     },
     "execution_count": 37,
     "metadata": {},
     "output_type": "execute_result"
    }
   ],
   "source": [
    "66501-1384-204-965"
   ]
  },
  {
   "cell_type": "code",
   "execution_count": 46,
   "id": "1b541639",
   "metadata": {},
   "outputs": [
    {
     "data": {
      "text/plain": [
       "(204, 1440)"
      ]
     },
     "execution_count": 46,
     "metadata": {},
     "output_type": "execute_result"
    }
   ],
   "source": [
    "len(anth2[anth2['language']=='Chinese']), len(anth2[anth2['language']=='French'])\n"
   ]
  },
  {
   "cell_type": "code",
   "execution_count": 54,
   "id": "5c0cc280",
   "metadata": {},
   "outputs": [
    {
     "data": {
      "text/plain": [
       "(English    1383\n",
       " Name: language, dtype: int64,\n",
       " 63916)"
      ]
     },
     "execution_count": 54,
     "metadata": {},
     "output_type": "execute_result"
    }
   ],
   "source": [
    "table.language.value_counts(), len(table)"
   ]
  },
  {
   "cell_type": "code",
   "execution_count": 76,
   "id": "05af6015",
   "metadata": {},
   "outputs": [
    {
     "data": {
      "text/plain": [
       "French     1440\n",
       "English    1384\n",
       "Chinese     204\n",
       "German        1\n",
       "Name: language, dtype: int64"
      ]
     },
     "execution_count": 76,
     "metadata": {},
     "output_type": "execute_result"
    }
   ],
   "source": [
    "anth.language.value_counts()"
   ]
  },
  {
   "cell_type": "code",
   "execution_count": 59,
   "id": "4bd70385",
   "metadata": {},
   "outputs": [
    {
     "name": "stdout",
     "output_type": "stream",
     "text": [
      "64153\n"
     ]
    }
   ],
   "source": [
    "print(len(anth2.duplicated(subset = ['title'])))"
   ]
  },
  {
   "cell_type": "code",
   "execution_count": 71,
   "id": "84033185",
   "metadata": {},
   "outputs": [],
   "source": [
    "# table[table['title'].str.contains(\"In Chinese\")]"
   ]
  },
  {
   "cell_type": "code",
   "execution_count": 85,
   "id": "06628c0c",
   "metadata": {
    "scrolled": true
   },
   "outputs": [
    {
     "name": "stdout",
     "output_type": "stream",
     "text": [
      "64153\n",
      "64153 wait what\n",
      "66199\n",
      "65797\n",
      "65593\n",
      "64153\n",
      "64153\n"
     ]
    }
   ],
   "source": [
    "anth1 = anth.dropna(axis =0 , subset=['month'])\n",
    "print(len(anth2))\n",
    "print(len(anth2['title'].duplicated()), 'wait what')\n",
    "anth2 = anth1.drop_duplicates(subset= ['title'])\n",
    "print(len(anth2))\n",
    "# .language.value_counts()\n",
    "anth2 = anth2.drop(anth2[anth2['title'].str.contains(\"In Chinese\")].index)\n",
    "print(len(anth2))\n",
    "anth2 = anth2[anth2['language']!= 'Chinese']\n",
    "print(len(anth2))\n",
    "anth2 = anth2[anth2['language']!= 'French']\n",
    "print(len(anth2))\n",
    "\n",
    "\n",
    "print(len(anth2)) #.language.value_counts()\n",
    "\n",
    "\n",
    "# table = table[table['language']!= 'Chinese']\n",
    "# table = table[table['language']!= 'French']"
   ]
  },
  {
   "cell_type": "code",
   "execution_count": 43,
   "id": "629ce1da",
   "metadata": {},
   "outputs": [
    {
     "data": {
      "text/plain": [
       "63480"
      ]
     },
     "execution_count": 43,
     "metadata": {},
     "output_type": "execute_result"
    }
   ],
   "source": [
    "len(anth2)-1440-204-965"
   ]
  },
  {
   "cell_type": "code",
   "execution_count": 29,
   "id": "8ed2d6eb",
   "metadata": {},
   "outputs": [
    {
     "data": {
      "text/plain": [
       "66501"
      ]
     },
     "execution_count": 29,
     "metadata": {},
     "output_type": "execute_result"
    }
   ],
   "source": [
    "len(anth)-anth.month.isna().sum()"
   ]
  },
  {
   "cell_type": "code",
   "execution_count": 25,
   "id": "1c356503",
   "metadata": {},
   "outputs": [
    {
     "data": {
      "text/plain": [
       "8019"
      ]
     },
     "execution_count": 25,
     "metadata": {},
     "output_type": "execute_result"
    }
   ],
   "source": [
    "anth.month.isna().sum()"
   ]
  },
  {
   "cell_type": "code",
   "execution_count": 36,
   "id": "87603e46",
   "metadata": {},
   "outputs": [
    {
     "data": {
      "text/plain": [
       "965"
      ]
     },
     "execution_count": 36,
     "metadata": {},
     "output_type": "execute_result"
    }
   ],
   "source": [
    "anth['title'].duplicated().sum()"
   ]
  },
  {
   "cell_type": "code",
   "execution_count": 109,
   "id": "ed7c5a27",
   "metadata": {},
   "outputs": [
    {
     "data": {
      "text/plain": [
       "24448"
      ]
     },
     "execution_count": 109,
     "metadata": {},
     "output_type": "execute_result"
    }
   ],
   "source": [
    "len(table[table['title_Arxiv']=='NF'])"
   ]
  },
  {
   "cell_type": "code",
   "execution_count": 106,
   "id": "c0c793c6",
   "metadata": {},
   "outputs": [
    {
     "data": {
      "text/plain": [
       "63916"
      ]
     },
     "execution_count": 106,
     "metadata": {},
     "output_type": "execute_result"
    }
   ],
   "source": [
    "len(table)"
   ]
  },
  {
   "cell_type": "code",
   "execution_count": 105,
   "id": "11d050d2",
   "metadata": {},
   "outputs": [
    {
     "data": {
      "text/plain": [
       "ISBN               62513\n",
       "address              741\n",
       "booktitle           2491\n",
       "doi                36791\n",
       "journal            63243\n",
       "language           62533\n",
       "month                  0\n",
       "note               63723\n",
       "number             63451\n",
       "pages               9870\n",
       "publisher           3903\n",
       "title                  0\n",
       "url                    0\n",
       "volume             63451\n",
       "year                   0\n",
       "clean                  0\n",
       "title_Arxiv        30603\n",
       "pdf_url_Arxiv      55031\n",
       "published_Arxiv    55031\n",
       "result_Arxiv       55031\n",
       "dtype: int64"
      ]
     },
     "execution_count": 105,
     "metadata": {},
     "output_type": "execute_result"
    }
   ],
   "source": [
    "table.isna().sum()"
   ]
  },
  {
   "cell_type": "markdown",
   "id": "476d8170",
   "metadata": {},
   "source": [
    "# see tables"
   ]
  },
  {
   "cell_type": "code",
   "execution_count": 7,
   "id": "15fc1822",
   "metadata": {
    "scrolled": true
   },
   "outputs": [
    {
     "data": {
      "text/html": [
       "<div>\n",
       "<style scoped>\n",
       "    .dataframe tbody tr th:only-of-type {\n",
       "        vertical-align: middle;\n",
       "    }\n",
       "\n",
       "    .dataframe tbody tr th {\n",
       "        vertical-align: top;\n",
       "    }\n",
       "\n",
       "    .dataframe thead th {\n",
       "        text-align: right;\n",
       "    }\n",
       "</style>\n",
       "<table border=\"1\" class=\"dataframe\">\n",
       "  <thead>\n",
       "    <tr style=\"text-align: right;\">\n",
       "      <th></th>\n",
       "      <th>title</th>\n",
       "      <th>year</th>\n",
       "      <th>month</th>\n",
       "      <th>url</th>\n",
       "      <th>title_Arxiv</th>\n",
       "      <th>pdf_url_Arxiv</th>\n",
       "      <th>published_Arxiv</th>\n",
       "      <th>result_Arxiv</th>\n",
       "    </tr>\n",
       "  </thead>\n",
       "  <tbody>\n",
       "    <tr>\n",
       "      <th>2</th>\n",
       "      <td>Modeling Profanity and Hate Speech in Social M...</td>\n",
       "      <td>2021</td>\n",
       "      <td>August</td>\n",
       "      <td>https://aclanthology.org/2021.woah-1.2</td>\n",
       "      <td>Modeling Profanity and Hate Speech in Social M...</td>\n",
       "      <td>http://arxiv.org/pdf/2106.07505v1</td>\n",
       "      <td>2021-06-14 15:34:37+00:00</td>\n",
       "      <td>http://arxiv.org/abs/2106.07505v2</td>\n",
       "    </tr>\n",
       "    <tr>\n",
       "      <th>3</th>\n",
       "      <td>HateBERT: Retraining BERT for Abusive Language...</td>\n",
       "      <td>2021</td>\n",
       "      <td>August</td>\n",
       "      <td>https://aclanthology.org/2021.woah-1.3</td>\n",
       "      <td>HateBERT: Retraining BERT for Abusive Language...</td>\n",
       "      <td>http://arxiv.org/pdf/2010.12472v1</td>\n",
       "      <td>2020-10-23 15:14:14+00:00</td>\n",
       "      <td>http://arxiv.org/abs/2010.12472v2</td>\n",
       "    </tr>\n",
       "    <tr>\n",
       "      <th>4</th>\n",
       "      <td>Memes in the Wild: Assessing the Generalizabil...</td>\n",
       "      <td>2021</td>\n",
       "      <td>August</td>\n",
       "      <td>https://aclanthology.org/2021.woah-1.4</td>\n",
       "      <td>Memes in the Wild: Assessing the Generalizabil...</td>\n",
       "      <td>http://arxiv.org/pdf/2107.04313v1</td>\n",
       "      <td>2021-07-09 09:04:05+00:00</td>\n",
       "      <td>http://arxiv.org/abs/2107.04313v1</td>\n",
       "    </tr>\n",
       "    <tr>\n",
       "      <th>26</th>\n",
       "      <td>Text Simplification for Comprehension-based Qu...</td>\n",
       "      <td>2021</td>\n",
       "      <td>November</td>\n",
       "      <td>https://aclanthology.org/2021.wnut-1.1</td>\n",
       "      <td>Text Simplification for Comprehension-based Qu...</td>\n",
       "      <td>http://arxiv.org/pdf/2109.13984v1</td>\n",
       "      <td>2021-09-28 18:48:00+00:00</td>\n",
       "      <td>http://arxiv.org/abs/2109.13984v1</td>\n",
       "    </tr>\n",
       "    <tr>\n",
       "      <th>28</th>\n",
       "      <td>Detecting Depression in Thai Blog Posts: a Dat...</td>\n",
       "      <td>2021</td>\n",
       "      <td>November</td>\n",
       "      <td>https://aclanthology.org/2021.wnut-1.3</td>\n",
       "      <td>Detecting Depression in Thai Blog Posts: a Dat...</td>\n",
       "      <td>http://arxiv.org/pdf/2111.04574v1</td>\n",
       "      <td>2021-11-08 15:36:21+00:00</td>\n",
       "      <td>http://arxiv.org/abs/2111.04574v1</td>\n",
       "    </tr>\n",
       "    <tr>\n",
       "      <th>...</th>\n",
       "      <td>...</td>\n",
       "      <td>...</td>\n",
       "      <td>...</td>\n",
       "      <td>...</td>\n",
       "      <td>...</td>\n",
       "      <td>...</td>\n",
       "      <td>...</td>\n",
       "      <td>...</td>\n",
       "    </tr>\n",
       "    <tr>\n",
       "      <th>32995</th>\n",
       "      <td>Arabizi Detection and Conversion to Arabic</td>\n",
       "      <td>2014</td>\n",
       "      <td>October</td>\n",
       "      <td>https://aclanthology.org/W14-3629</td>\n",
       "      <td>Arabizi Detection and Conversion to Arabic</td>\n",
       "      <td>http://arxiv.org/pdf/1306.6755v1</td>\n",
       "      <td>2013-06-28 08:46:11+00:00</td>\n",
       "      <td>http://arxiv.org/abs/1306.6755v1</td>\n",
       "    </tr>\n",
       "    <tr>\n",
       "      <th>33080</th>\n",
       "      <td>DiscoTK: Using Discourse Structure for Machine...</td>\n",
       "      <td>2014</td>\n",
       "      <td>June</td>\n",
       "      <td>https://aclanthology.org/W14-3352</td>\n",
       "      <td>DiscoTK: Using Discourse Structure for Machine...</td>\n",
       "      <td>http://arxiv.org/pdf/1911.12547v1</td>\n",
       "      <td>2019-11-28 06:05:12+00:00</td>\n",
       "      <td>http://arxiv.org/abs/1911.12547v1</td>\n",
       "    </tr>\n",
       "    <tr>\n",
       "      <th>33180</th>\n",
       "      <td>Credibility Adjusted Term Frequency: A Supervi...</td>\n",
       "      <td>2014</td>\n",
       "      <td>June</td>\n",
       "      <td>https://aclanthology.org/W14-2614</td>\n",
       "      <td>Credibility Adjusted Term Frequency: A Supervi...</td>\n",
       "      <td>http://arxiv.org/pdf/1405.3518v1</td>\n",
       "      <td>2014-05-14 14:50:59+00:00</td>\n",
       "      <td>http://arxiv.org/abs/1405.3518v2</td>\n",
       "    </tr>\n",
       "    <tr>\n",
       "      <th>33183</th>\n",
       "      <td>Improving Agreement and Disagreement Identific...</td>\n",
       "      <td>2014</td>\n",
       "      <td>June</td>\n",
       "      <td>https://aclanthology.org/W14-2617</td>\n",
       "      <td>Improving Agreement and Disagreement Identific...</td>\n",
       "      <td>http://arxiv.org/pdf/1606.05706v1</td>\n",
       "      <td>2016-06-17 23:29:11+00:00</td>\n",
       "      <td>http://arxiv.org/abs/1606.05706v1</td>\n",
       "    </tr>\n",
       "    <tr>\n",
       "      <th>33208</th>\n",
       "      <td>Temporal Analysis of Language through Neural L...</td>\n",
       "      <td>2014</td>\n",
       "      <td>June</td>\n",
       "      <td>https://aclanthology.org/W14-2517</td>\n",
       "      <td>Temporal Analysis of Language through Neural L...</td>\n",
       "      <td>http://arxiv.org/pdf/1405.3515v1</td>\n",
       "      <td>2014-05-14 14:47:22+00:00</td>\n",
       "      <td>http://arxiv.org/abs/1405.3515v1</td>\n",
       "    </tr>\n",
       "  </tbody>\n",
       "</table>\n",
       "<p>6885 rows × 8 columns</p>\n",
       "</div>"
      ],
      "text/plain": [
       "                                                   title  year     month  \\\n",
       "2      Modeling Profanity and Hate Speech in Social M...  2021    August   \n",
       "3      HateBERT: Retraining BERT for Abusive Language...  2021    August   \n",
       "4      Memes in the Wild: Assessing the Generalizabil...  2021    August   \n",
       "26     Text Simplification for Comprehension-based Qu...  2021  November   \n",
       "28     Detecting Depression in Thai Blog Posts: a Dat...  2021  November   \n",
       "...                                                  ...   ...       ...   \n",
       "32995         Arabizi Detection and Conversion to Arabic  2014   October   \n",
       "33080  DiscoTK: Using Discourse Structure for Machine...  2014      June   \n",
       "33180  Credibility Adjusted Term Frequency: A Supervi...  2014      June   \n",
       "33183  Improving Agreement and Disagreement Identific...  2014      June   \n",
       "33208  Temporal Analysis of Language through Neural L...  2014      June   \n",
       "\n",
       "                                          url  \\\n",
       "2      https://aclanthology.org/2021.woah-1.2   \n",
       "3      https://aclanthology.org/2021.woah-1.3   \n",
       "4      https://aclanthology.org/2021.woah-1.4   \n",
       "26     https://aclanthology.org/2021.wnut-1.1   \n",
       "28     https://aclanthology.org/2021.wnut-1.3   \n",
       "...                                       ...   \n",
       "32995       https://aclanthology.org/W14-3629   \n",
       "33080       https://aclanthology.org/W14-3352   \n",
       "33180       https://aclanthology.org/W14-2614   \n",
       "33183       https://aclanthology.org/W14-2617   \n",
       "33208       https://aclanthology.org/W14-2517   \n",
       "\n",
       "                                             title_Arxiv  \\\n",
       "2      Modeling Profanity and Hate Speech in Social M...   \n",
       "3      HateBERT: Retraining BERT for Abusive Language...   \n",
       "4      Memes in the Wild: Assessing the Generalizabil...   \n",
       "26     Text Simplification for Comprehension-based Qu...   \n",
       "28     Detecting Depression in Thai Blog Posts: a Dat...   \n",
       "...                                                  ...   \n",
       "32995         Arabizi Detection and Conversion to Arabic   \n",
       "33080  DiscoTK: Using Discourse Structure for Machine...   \n",
       "33180  Credibility Adjusted Term Frequency: A Supervi...   \n",
       "33183  Improving Agreement and Disagreement Identific...   \n",
       "33208  Temporal Analysis of Language through Neural L...   \n",
       "\n",
       "                           pdf_url_Arxiv            published_Arxiv  \\\n",
       "2      http://arxiv.org/pdf/2106.07505v1  2021-06-14 15:34:37+00:00   \n",
       "3      http://arxiv.org/pdf/2010.12472v1  2020-10-23 15:14:14+00:00   \n",
       "4      http://arxiv.org/pdf/2107.04313v1  2021-07-09 09:04:05+00:00   \n",
       "26     http://arxiv.org/pdf/2109.13984v1  2021-09-28 18:48:00+00:00   \n",
       "28     http://arxiv.org/pdf/2111.04574v1  2021-11-08 15:36:21+00:00   \n",
       "...                                  ...                        ...   \n",
       "32995   http://arxiv.org/pdf/1306.6755v1  2013-06-28 08:46:11+00:00   \n",
       "33080  http://arxiv.org/pdf/1911.12547v1  2019-11-28 06:05:12+00:00   \n",
       "33180   http://arxiv.org/pdf/1405.3518v1  2014-05-14 14:50:59+00:00   \n",
       "33183  http://arxiv.org/pdf/1606.05706v1  2016-06-17 23:29:11+00:00   \n",
       "33208   http://arxiv.org/pdf/1405.3515v1  2014-05-14 14:47:22+00:00   \n",
       "\n",
       "                            result_Arxiv  \n",
       "2      http://arxiv.org/abs/2106.07505v2  \n",
       "3      http://arxiv.org/abs/2010.12472v2  \n",
       "4      http://arxiv.org/abs/2107.04313v1  \n",
       "26     http://arxiv.org/abs/2109.13984v1  \n",
       "28     http://arxiv.org/abs/2111.04574v1  \n",
       "...                                  ...  \n",
       "32995   http://arxiv.org/abs/1306.6755v1  \n",
       "33080  http://arxiv.org/abs/1911.12547v1  \n",
       "33180   http://arxiv.org/abs/1405.3518v2  \n",
       "33183  http://arxiv.org/abs/1606.05706v1  \n",
       "33208   http://arxiv.org/abs/1405.3515v1  \n",
       "\n",
       "[6885 rows x 8 columns]"
      ]
     },
     "execution_count": 7,
     "metadata": {},
     "output_type": "execute_result"
    }
   ],
   "source": [
    "not_sample"
   ]
  },
  {
   "cell_type": "code",
   "execution_count": 8,
   "id": "fe07bc64",
   "metadata": {
    "scrolled": true
   },
   "outputs": [
    {
     "data": {
      "text/html": [
       "<div>\n",
       "<style scoped>\n",
       "    .dataframe tbody tr th:only-of-type {\n",
       "        vertical-align: middle;\n",
       "    }\n",
       "\n",
       "    .dataframe tbody tr th {\n",
       "        vertical-align: top;\n",
       "    }\n",
       "\n",
       "    .dataframe thead th {\n",
       "        text-align: right;\n",
       "    }\n",
       "</style>\n",
       "<table border=\"1\" class=\"dataframe\">\n",
       "  <thead>\n",
       "    <tr style=\"text-align: right;\">\n",
       "      <th></th>\n",
       "      <th>title</th>\n",
       "      <th>year</th>\n",
       "      <th>month</th>\n",
       "      <th>url</th>\n",
       "      <th>title_Arxiv</th>\n",
       "      <th>pdf_url_Arxiv</th>\n",
       "      <th>published_Arxiv</th>\n",
       "      <th>result_Arxiv</th>\n",
       "      <th>Succes</th>\n",
       "      <th>w_Anth</th>\n",
       "      <th>...</th>\n",
       "      <th>pages_Anth</th>\n",
       "      <th>pages_Arxiv</th>\n",
       "      <th>cosine</th>\n",
       "      <th>len_blocks</th>\n",
       "      <th>len_Anth</th>\n",
       "      <th>len_Arxiv</th>\n",
       "      <th>len_both</th>\n",
       "      <th>ref_Anth</th>\n",
       "      <th>ref_Arxiv</th>\n",
       "      <th>Jaccard</th>\n",
       "    </tr>\n",
       "  </thead>\n",
       "  <tbody>\n",
       "    <tr>\n",
       "      <th>0</th>\n",
       "      <td>Artificial Text Detection via Examining the To...</td>\n",
       "      <td>2021</td>\n",
       "      <td>November</td>\n",
       "      <td>https://aclanthology.org/2021.emnlp-main.50</td>\n",
       "      <td>Artificial Text Detection via Examining the To...</td>\n",
       "      <td>http://arxiv.org/pdf/2109.04825v1</td>\n",
       "      <td>2021-09-10 12:13:45+00:00</td>\n",
       "      <td>http://arxiv.org/abs/2109.04825v2</td>\n",
       "      <td>1.0</td>\n",
       "      <td>8305.0</td>\n",
       "      <td>...</td>\n",
       "      <td>15.0</td>\n",
       "      <td>15.0</td>\n",
       "      <td>0.999025</td>\n",
       "      <td>222.0</td>\n",
       "      <td>222.0</td>\n",
       "      <td>222.0</td>\n",
       "      <td>222.0</td>\n",
       "      <td>103.0</td>\n",
       "      <td>98.0</td>\n",
       "      <td>0.993084</td>\n",
       "    </tr>\n",
       "    <tr>\n",
       "      <th>1</th>\n",
       "      <td>The CLaC Discourse Parser at CoNLL-2015</td>\n",
       "      <td>2015</td>\n",
       "      <td>July</td>\n",
       "      <td>https://aclanthology.org/K15-2008</td>\n",
       "      <td>The CLaC Discourse Parser at CoNLL-2015</td>\n",
       "      <td>http://arxiv.org/pdf/1708.05857v1</td>\n",
       "      <td>2017-08-19 14:43:50+00:00</td>\n",
       "      <td>http://arxiv.org/abs/1708.05857v1</td>\n",
       "      <td>1.0</td>\n",
       "      <td>2307.0</td>\n",
       "      <td>...</td>\n",
       "      <td>5.0</td>\n",
       "      <td>6.0</td>\n",
       "      <td>0.999497</td>\n",
       "      <td>113.0</td>\n",
       "      <td>113.0</td>\n",
       "      <td>113.0</td>\n",
       "      <td>113.0</td>\n",
       "      <td>10.0</td>\n",
       "      <td>9.0</td>\n",
       "      <td>0.975108</td>\n",
       "    </tr>\n",
       "    <tr>\n",
       "      <th>2</th>\n",
       "      <td>A Probabilistic Generative Model for Typograph...</td>\n",
       "      <td>2020</td>\n",
       "      <td>July</td>\n",
       "      <td>https://aclanthology.org/2020.acl-main.266</td>\n",
       "      <td>A Probabilistic Generative Model for Typograph...</td>\n",
       "      <td>http://arxiv.org/pdf/2005.01646v1</td>\n",
       "      <td>2020-05-04 17:01:11+00:00</td>\n",
       "      <td>http://arxiv.org/abs/2005.01646v1</td>\n",
       "      <td>1.0</td>\n",
       "      <td>3966.0</td>\n",
       "      <td>...</td>\n",
       "      <td>7.0</td>\n",
       "      <td>8.0</td>\n",
       "      <td>0.910497</td>\n",
       "      <td>110.0</td>\n",
       "      <td>110.0</td>\n",
       "      <td>110.0</td>\n",
       "      <td>110.0</td>\n",
       "      <td>52.0</td>\n",
       "      <td>52.0</td>\n",
       "      <td>0.981017</td>\n",
       "    </tr>\n",
       "    <tr>\n",
       "      <th>3</th>\n",
       "      <td>Personalizing Dialogue Agents: I have a dog, d...</td>\n",
       "      <td>2018</td>\n",
       "      <td>July</td>\n",
       "      <td>https://aclanthology.org/P18-1205</td>\n",
       "      <td>Personalizing Dialogue Agents: I have a dog, d...</td>\n",
       "      <td>http://arxiv.org/pdf/1801.07243v1</td>\n",
       "      <td>2018-01-22 18:58:18+00:00</td>\n",
       "      <td>http://arxiv.org/abs/1801.07243v5</td>\n",
       "      <td>0.0</td>\n",
       "      <td>NaN</td>\n",
       "      <td>...</td>\n",
       "      <td>NaN</td>\n",
       "      <td>NaN</td>\n",
       "      <td>NaN</td>\n",
       "      <td>NaN</td>\n",
       "      <td>NaN</td>\n",
       "      <td>NaN</td>\n",
       "      <td>NaN</td>\n",
       "      <td>NaN</td>\n",
       "      <td>NaN</td>\n",
       "      <td>NaN</td>\n",
       "    </tr>\n",
       "    <tr>\n",
       "      <th>4</th>\n",
       "      <td>Zero-Shot Semantic Parsing for Instructions</td>\n",
       "      <td>2019</td>\n",
       "      <td>July</td>\n",
       "      <td>https://aclanthology.org/P19-1438</td>\n",
       "      <td>Zero-Shot Semantic Parsing for Instructions</td>\n",
       "      <td>http://arxiv.org/pdf/1911.08827v1</td>\n",
       "      <td>2019-11-20 11:14:07+00:00</td>\n",
       "      <td>http://arxiv.org/abs/1911.08827v1</td>\n",
       "      <td>1.0</td>\n",
       "      <td>7204.0</td>\n",
       "      <td>...</td>\n",
       "      <td>11.0</td>\n",
       "      <td>11.0</td>\n",
       "      <td>0.999967</td>\n",
       "      <td>171.0</td>\n",
       "      <td>171.0</td>\n",
       "      <td>171.0</td>\n",
       "      <td>171.0</td>\n",
       "      <td>43.0</td>\n",
       "      <td>41.0</td>\n",
       "      <td>0.991091</td>\n",
       "    </tr>\n",
       "    <tr>\n",
       "      <th>...</th>\n",
       "      <td>...</td>\n",
       "      <td>...</td>\n",
       "      <td>...</td>\n",
       "      <td>...</td>\n",
       "      <td>...</td>\n",
       "      <td>...</td>\n",
       "      <td>...</td>\n",
       "      <td>...</td>\n",
       "      <td>...</td>\n",
       "      <td>...</td>\n",
       "      <td>...</td>\n",
       "      <td>...</td>\n",
       "      <td>...</td>\n",
       "      <td>...</td>\n",
       "      <td>...</td>\n",
       "      <td>...</td>\n",
       "      <td>...</td>\n",
       "      <td>...</td>\n",
       "      <td>...</td>\n",
       "      <td>...</td>\n",
       "      <td>...</td>\n",
       "    </tr>\n",
       "    <tr>\n",
       "      <th>1995</th>\n",
       "      <td>Relative Importance in Sentence Processing</td>\n",
       "      <td>2021</td>\n",
       "      <td>August</td>\n",
       "      <td>https://aclanthology.org/2021.acl-short.19</td>\n",
       "      <td>Relative Importance in Sentence Processing</td>\n",
       "      <td>http://arxiv.org/pdf/2106.03471v1</td>\n",
       "      <td>2021-06-07 09:56:18+00:00</td>\n",
       "      <td>http://arxiv.org/abs/2106.03471v1</td>\n",
       "      <td>1.0</td>\n",
       "      <td>4980.0</td>\n",
       "      <td>...</td>\n",
       "      <td>10.0</td>\n",
       "      <td>10.0</td>\n",
       "      <td>0.999369</td>\n",
       "      <td>122.0</td>\n",
       "      <td>122.0</td>\n",
       "      <td>122.0</td>\n",
       "      <td>122.0</td>\n",
       "      <td>70</td>\n",
       "      <td>65</td>\n",
       "      <td>0.989617</td>\n",
       "    </tr>\n",
       "    <tr>\n",
       "      <th>1996</th>\n",
       "      <td>Tired of Topic Models? Clusters of Pretrained ...</td>\n",
       "      <td>2020</td>\n",
       "      <td>November</td>\n",
       "      <td>https://aclanthology.org/2020.emnlp-main.135</td>\n",
       "      <td>Tired of Topic Models? Clusters of Pretrained ...</td>\n",
       "      <td>http://arxiv.org/pdf/2004.14914v1</td>\n",
       "      <td>2020-04-30 16:18:18+00:00</td>\n",
       "      <td>http://arxiv.org/abs/2004.14914v2</td>\n",
       "      <td>1.0</td>\n",
       "      <td>4968.0</td>\n",
       "      <td>...</td>\n",
       "      <td>9.0</td>\n",
       "      <td>6.0</td>\n",
       "      <td>0.934366</td>\n",
       "      <td>1.0</td>\n",
       "      <td>30.0</td>\n",
       "      <td>31.0</td>\n",
       "      <td>30.0</td>\n",
       "      <td>76</td>\n",
       "      <td>44</td>\n",
       "      <td>0.396257</td>\n",
       "    </tr>\n",
       "    <tr>\n",
       "      <th>1997</th>\n",
       "      <td>Partially-Aligned Data-to-Text Generation with...</td>\n",
       "      <td>2020</td>\n",
       "      <td>November</td>\n",
       "      <td>https://aclanthology.org/2020.emnlp-main.738</td>\n",
       "      <td>Partially-Aligned Data-to-Text Generation with...</td>\n",
       "      <td>http://arxiv.org/pdf/2010.01268v1</td>\n",
       "      <td>2020-10-03 03:18:52+00:00</td>\n",
       "      <td>http://arxiv.org/abs/2010.01268v1</td>\n",
       "      <td>1.0</td>\n",
       "      <td>7288.0</td>\n",
       "      <td>...</td>\n",
       "      <td>11.0</td>\n",
       "      <td>11.0</td>\n",
       "      <td>0.999646</td>\n",
       "      <td>234.0</td>\n",
       "      <td>234.0</td>\n",
       "      <td>234.0</td>\n",
       "      <td>234.0</td>\n",
       "      <td>35</td>\n",
       "      <td>33</td>\n",
       "      <td>0.992841</td>\n",
       "    </tr>\n",
       "    <tr>\n",
       "      <th>1998</th>\n",
       "      <td>Regressing Location on Text for Probabilistic ...</td>\n",
       "      <td>2021</td>\n",
       "      <td>August</td>\n",
       "      <td>https://aclanthology.org/2021.case-1.8</td>\n",
       "      <td>Regressing Location on Text for Probabilistic ...</td>\n",
       "      <td>http://arxiv.org/pdf/2107.00080v1</td>\n",
       "      <td>2021-06-30 20:04:55+00:00</td>\n",
       "      <td>http://arxiv.org/abs/2107.00080v1</td>\n",
       "      <td>1.0</td>\n",
       "      <td>2566.0</td>\n",
       "      <td>...</td>\n",
       "      <td>5.0</td>\n",
       "      <td>5.0</td>\n",
       "      <td>0.996497</td>\n",
       "      <td>73.0</td>\n",
       "      <td>73.0</td>\n",
       "      <td>73.0</td>\n",
       "      <td>73.0</td>\n",
       "      <td>13</td>\n",
       "      <td>17</td>\n",
       "      <td>0.978793</td>\n",
       "    </tr>\n",
       "    <tr>\n",
       "      <th>1999</th>\n",
       "      <td>Towards A Friendly Online Community: An Unsupe...</td>\n",
       "      <td>2020</td>\n",
       "      <td>December</td>\n",
       "      <td>https://aclanthology.org/2020.coling-main.190</td>\n",
       "      <td>Towards A Friendly Online Community: An Unsupe...</td>\n",
       "      <td>http://arxiv.org/pdf/2011.00403v1</td>\n",
       "      <td>2020-11-01 02:10:25+00:00</td>\n",
       "      <td>http://arxiv.org/abs/2011.00403v1</td>\n",
       "      <td>1.0</td>\n",
       "      <td>4233.0</td>\n",
       "      <td>...</td>\n",
       "      <td>8.0</td>\n",
       "      <td>8.0</td>\n",
       "      <td>0.975993</td>\n",
       "      <td>145.0</td>\n",
       "      <td>145.0</td>\n",
       "      <td>145.0</td>\n",
       "      <td>145.0</td>\n",
       "      <td>94</td>\n",
       "      <td>91</td>\n",
       "      <td>0.985747</td>\n",
       "    </tr>\n",
       "  </tbody>\n",
       "</table>\n",
       "<p>2000 rows × 22 columns</p>\n",
       "</div>"
      ],
      "text/plain": [
       "                                                  title  year     month  \\\n",
       "0     Artificial Text Detection via Examining the To...  2021  November   \n",
       "1               The CLaC Discourse Parser at CoNLL-2015  2015      July   \n",
       "2     A Probabilistic Generative Model for Typograph...  2020      July   \n",
       "3     Personalizing Dialogue Agents: I have a dog, d...  2018      July   \n",
       "4           Zero-Shot Semantic Parsing for Instructions  2019      July   \n",
       "...                                                 ...   ...       ...   \n",
       "1995         Relative Importance in Sentence Processing  2021    August   \n",
       "1996  Tired of Topic Models? Clusters of Pretrained ...  2020  November   \n",
       "1997  Partially-Aligned Data-to-Text Generation with...  2020  November   \n",
       "1998  Regressing Location on Text for Probabilistic ...  2021    August   \n",
       "1999  Towards A Friendly Online Community: An Unsupe...  2020  December   \n",
       "\n",
       "                                                url  \\\n",
       "0       https://aclanthology.org/2021.emnlp-main.50   \n",
       "1                 https://aclanthology.org/K15-2008   \n",
       "2        https://aclanthology.org/2020.acl-main.266   \n",
       "3                 https://aclanthology.org/P18-1205   \n",
       "4                 https://aclanthology.org/P19-1438   \n",
       "...                                             ...   \n",
       "1995     https://aclanthology.org/2021.acl-short.19   \n",
       "1996   https://aclanthology.org/2020.emnlp-main.135   \n",
       "1997   https://aclanthology.org/2020.emnlp-main.738   \n",
       "1998         https://aclanthology.org/2021.case-1.8   \n",
       "1999  https://aclanthology.org/2020.coling-main.190   \n",
       "\n",
       "                                            title_Arxiv  \\\n",
       "0     Artificial Text Detection via Examining the To...   \n",
       "1               The CLaC Discourse Parser at CoNLL-2015   \n",
       "2     A Probabilistic Generative Model for Typograph...   \n",
       "3     Personalizing Dialogue Agents: I have a dog, d...   \n",
       "4           Zero-Shot Semantic Parsing for Instructions   \n",
       "...                                                 ...   \n",
       "1995         Relative Importance in Sentence Processing   \n",
       "1996  Tired of Topic Models? Clusters of Pretrained ...   \n",
       "1997  Partially-Aligned Data-to-Text Generation with...   \n",
       "1998  Regressing Location on Text for Probabilistic ...   \n",
       "1999  Towards A Friendly Online Community: An Unsupe...   \n",
       "\n",
       "                          pdf_url_Arxiv            published_Arxiv  \\\n",
       "0     http://arxiv.org/pdf/2109.04825v1  2021-09-10 12:13:45+00:00   \n",
       "1     http://arxiv.org/pdf/1708.05857v1  2017-08-19 14:43:50+00:00   \n",
       "2     http://arxiv.org/pdf/2005.01646v1  2020-05-04 17:01:11+00:00   \n",
       "3     http://arxiv.org/pdf/1801.07243v1  2018-01-22 18:58:18+00:00   \n",
       "4     http://arxiv.org/pdf/1911.08827v1  2019-11-20 11:14:07+00:00   \n",
       "...                                 ...                        ...   \n",
       "1995  http://arxiv.org/pdf/2106.03471v1  2021-06-07 09:56:18+00:00   \n",
       "1996  http://arxiv.org/pdf/2004.14914v1  2020-04-30 16:18:18+00:00   \n",
       "1997  http://arxiv.org/pdf/2010.01268v1  2020-10-03 03:18:52+00:00   \n",
       "1998  http://arxiv.org/pdf/2107.00080v1  2021-06-30 20:04:55+00:00   \n",
       "1999  http://arxiv.org/pdf/2011.00403v1  2020-11-01 02:10:25+00:00   \n",
       "\n",
       "                           result_Arxiv  Succes  w_Anth  ...  pages_Anth  \\\n",
       "0     http://arxiv.org/abs/2109.04825v2     1.0  8305.0  ...        15.0   \n",
       "1     http://arxiv.org/abs/1708.05857v1     1.0  2307.0  ...         5.0   \n",
       "2     http://arxiv.org/abs/2005.01646v1     1.0  3966.0  ...         7.0   \n",
       "3     http://arxiv.org/abs/1801.07243v5     0.0     NaN  ...         NaN   \n",
       "4     http://arxiv.org/abs/1911.08827v1     1.0  7204.0  ...        11.0   \n",
       "...                                 ...     ...     ...  ...         ...   \n",
       "1995  http://arxiv.org/abs/2106.03471v1     1.0  4980.0  ...        10.0   \n",
       "1996  http://arxiv.org/abs/2004.14914v2     1.0  4968.0  ...         9.0   \n",
       "1997  http://arxiv.org/abs/2010.01268v1     1.0  7288.0  ...        11.0   \n",
       "1998  http://arxiv.org/abs/2107.00080v1     1.0  2566.0  ...         5.0   \n",
       "1999  http://arxiv.org/abs/2011.00403v1     1.0  4233.0  ...         8.0   \n",
       "\n",
       "      pages_Arxiv    cosine  len_blocks  len_Anth  len_Arxiv  len_both  \\\n",
       "0            15.0  0.999025       222.0     222.0      222.0     222.0   \n",
       "1             6.0  0.999497       113.0     113.0      113.0     113.0   \n",
       "2             8.0  0.910497       110.0     110.0      110.0     110.0   \n",
       "3             NaN       NaN         NaN       NaN        NaN       NaN   \n",
       "4            11.0  0.999967       171.0     171.0      171.0     171.0   \n",
       "...           ...       ...         ...       ...        ...       ...   \n",
       "1995         10.0  0.999369       122.0     122.0      122.0     122.0   \n",
       "1996          6.0  0.934366         1.0      30.0       31.0      30.0   \n",
       "1997         11.0  0.999646       234.0     234.0      234.0     234.0   \n",
       "1998          5.0  0.996497        73.0      73.0       73.0      73.0   \n",
       "1999          8.0  0.975993       145.0     145.0      145.0     145.0   \n",
       "\n",
       "      ref_Anth  ref_Arxiv   Jaccard  \n",
       "0        103.0       98.0  0.993084  \n",
       "1         10.0        9.0  0.975108  \n",
       "2         52.0       52.0  0.981017  \n",
       "3          NaN        NaN       NaN  \n",
       "4         43.0       41.0  0.991091  \n",
       "...        ...        ...       ...  \n",
       "1995        70         65  0.989617  \n",
       "1996        76         44  0.396257  \n",
       "1997        35         33  0.992841  \n",
       "1998        13         17  0.978793  \n",
       "1999        94         91  0.985747  \n",
       "\n",
       "[2000 rows x 22 columns]"
      ]
     },
     "execution_count": 8,
     "metadata": {},
     "output_type": "execute_result"
    }
   ],
   "source": [
    "sample"
   ]
  },
  {
   "cell_type": "code",
   "execution_count": 9,
   "id": "93373ac5",
   "metadata": {
    "scrolled": true
   },
   "outputs": [
    {
     "data": {
      "text/html": [
       "<div>\n",
       "<style scoped>\n",
       "    .dataframe tbody tr th:only-of-type {\n",
       "        vertical-align: middle;\n",
       "    }\n",
       "\n",
       "    .dataframe tbody tr th {\n",
       "        vertical-align: top;\n",
       "    }\n",
       "\n",
       "    .dataframe thead th {\n",
       "        text-align: right;\n",
       "    }\n",
       "</style>\n",
       "<table border=\"1\" class=\"dataframe\">\n",
       "  <thead>\n",
       "    <tr style=\"text-align: right;\">\n",
       "      <th></th>\n",
       "      <th>title</th>\n",
       "      <th>url</th>\n",
       "      <th>index</th>\n",
       "      <th>title_Arxiv</th>\n",
       "      <th>pdf_url_Arxiv</th>\n",
       "      <th>result_Arxiv</th>\n",
       "      <th>Succes</th>\n",
       "      <th>w_Anth</th>\n",
       "      <th>w_Arxiv</th>\n",
       "      <th>w_both</th>\n",
       "      <th>...</th>\n",
       "      <th>pages_Arxiv</th>\n",
       "      <th>cosin</th>\n",
       "      <th>len_blocks</th>\n",
       "      <th>len_Anth</th>\n",
       "      <th>len_Arxiv</th>\n",
       "      <th>len_both</th>\n",
       "      <th>ref_Anth</th>\n",
       "      <th>ref_Arxiv</th>\n",
       "      <th>Jaccard</th>\n",
       "      <th>cosine</th>\n",
       "    </tr>\n",
       "  </thead>\n",
       "  <tbody>\n",
       "    <tr>\n",
       "      <th>0</th>\n",
       "      <td>Mitigating Biases in Toxic Language Detection ...</td>\n",
       "      <td>https://aclanthology.org/2021.woah-1.12</td>\n",
       "      <td>8880</td>\n",
       "      <td>Credibility Adjusted Term Frequency: A Supervi...</td>\n",
       "      <td>http://arxiv.org/pdf/1405.3518v1</td>\n",
       "      <td>http://arxiv.org/abs/1405.3518v2</td>\n",
       "      <td>1.0</td>\n",
       "      <td>4248.0</td>\n",
       "      <td>2542.0</td>\n",
       "      <td>4.0</td>\n",
       "      <td>...</td>\n",
       "      <td>5.0</td>\n",
       "      <td>NaN</td>\n",
       "      <td>3.0</td>\n",
       "      <td>3.0</td>\n",
       "      <td>3.0</td>\n",
       "      <td>3.0</td>\n",
       "      <td>36.0</td>\n",
       "      <td>22.0</td>\n",
       "      <td>0.096110</td>\n",
       "      <td>0.839718</td>\n",
       "    </tr>\n",
       "    <tr>\n",
       "      <th>1</th>\n",
       "      <td>HateBERT: Retraining BERT for Abusive Language...</td>\n",
       "      <td>https://aclanthology.org/2021.woah-1.3</td>\n",
       "      <td>8876</td>\n",
       "      <td>A Novel Two-stage Framework for Extracting Opi...</td>\n",
       "      <td>http://arxiv.org/pdf/2101.09743v1</td>\n",
       "      <td>http://arxiv.org/abs/2101.09743v1</td>\n",
       "      <td>1.0</td>\n",
       "      <td>4919.0</td>\n",
       "      <td>5728.0</td>\n",
       "      <td>4.0</td>\n",
       "      <td>...</td>\n",
       "      <td>9.0</td>\n",
       "      <td>NaN</td>\n",
       "      <td>3.0</td>\n",
       "      <td>3.0</td>\n",
       "      <td>3.0</td>\n",
       "      <td>3.0</td>\n",
       "      <td>65.0</td>\n",
       "      <td>26.0</td>\n",
       "      <td>0.106205</td>\n",
       "      <td>0.812526</td>\n",
       "    </tr>\n",
       "    <tr>\n",
       "      <th>2</th>\n",
       "      <td>Text Simplification for Comprehension-based Qu...</td>\n",
       "      <td>https://aclanthology.org/2021.wnut-1.1</td>\n",
       "      <td>8882</td>\n",
       "      <td>Finding Eyewitness Tweets During Crises</td>\n",
       "      <td>http://arxiv.org/pdf/1403.1773v1</td>\n",
       "      <td>http://arxiv.org/abs/1403.1773v1</td>\n",
       "      <td>1.0</td>\n",
       "      <td>5292.0</td>\n",
       "      <td>6346.0</td>\n",
       "      <td>4.0</td>\n",
       "      <td>...</td>\n",
       "      <td>11.0</td>\n",
       "      <td>NaN</td>\n",
       "      <td>3.0</td>\n",
       "      <td>3.0</td>\n",
       "      <td>3.0</td>\n",
       "      <td>3.0</td>\n",
       "      <td>40.0</td>\n",
       "      <td>23.0</td>\n",
       "      <td>0.115042</td>\n",
       "      <td>0.819863</td>\n",
       "    </tr>\n",
       "    <tr>\n",
       "      <th>3</th>\n",
       "      <td>Memes in the Wild: Assessing the Generalizabil...</td>\n",
       "      <td>https://aclanthology.org/2021.woah-1.4</td>\n",
       "      <td>8877</td>\n",
       "      <td>Arabic Spelling Correction using Supervised Le...</td>\n",
       "      <td>http://arxiv.org/pdf/1409.8309v1</td>\n",
       "      <td>http://arxiv.org/abs/1409.8309v1</td>\n",
       "      <td>1.0</td>\n",
       "      <td>4865.0</td>\n",
       "      <td>3723.0</td>\n",
       "      <td>4.0</td>\n",
       "      <td>...</td>\n",
       "      <td>6.0</td>\n",
       "      <td>NaN</td>\n",
       "      <td>3.0</td>\n",
       "      <td>3.0</td>\n",
       "      <td>3.0</td>\n",
       "      <td>3.0</td>\n",
       "      <td>87.0</td>\n",
       "      <td>16.0</td>\n",
       "      <td>0.104698</td>\n",
       "      <td>0.736999</td>\n",
       "    </tr>\n",
       "    <tr>\n",
       "      <th>4</th>\n",
       "      <td>Measuring and Improving Model-Moderator Collab...</td>\n",
       "      <td>https://aclanthology.org/2021.woah-1.5</td>\n",
       "      <td>8878</td>\n",
       "      <td>Arabizi Detection and Conversion to Arabic</td>\n",
       "      <td>http://arxiv.org/pdf/1306.6755v1</td>\n",
       "      <td>http://arxiv.org/abs/1306.6755v1</td>\n",
       "      <td>1.0</td>\n",
       "      <td>10061.0</td>\n",
       "      <td>4631.0</td>\n",
       "      <td>8.0</td>\n",
       "      <td>...</td>\n",
       "      <td>8.0</td>\n",
       "      <td>NaN</td>\n",
       "      <td>5.0</td>\n",
       "      <td>5.0</td>\n",
       "      <td>5.0</td>\n",
       "      <td>5.0</td>\n",
       "      <td>405.0</td>\n",
       "      <td>3.0</td>\n",
       "      <td>0.097291</td>\n",
       "      <td>0.698223</td>\n",
       "    </tr>\n",
       "    <tr>\n",
       "      <th>5</th>\n",
       "      <td>Modeling Profanity and Hate Speech in Social M...</td>\n",
       "      <td>https://aclanthology.org/2021.woah-1.2</td>\n",
       "      <td>8875</td>\n",
       "      <td>Overcoming the Curse of Sentence Length for Ne...</td>\n",
       "      <td>http://arxiv.org/pdf/1409.1257v1</td>\n",
       "      <td>http://arxiv.org/abs/1409.1257v2</td>\n",
       "      <td>1.0</td>\n",
       "      <td>7037.0</td>\n",
       "      <td>4359.0</td>\n",
       "      <td>5.0</td>\n",
       "      <td>...</td>\n",
       "      <td>7.0</td>\n",
       "      <td>NaN</td>\n",
       "      <td>1.0</td>\n",
       "      <td>4.0</td>\n",
       "      <td>6.0</td>\n",
       "      <td>4.0</td>\n",
       "      <td>28.0</td>\n",
       "      <td>57.0</td>\n",
       "      <td>0.105679</td>\n",
       "      <td>0.895097</td>\n",
       "    </tr>\n",
       "    <tr>\n",
       "      <th>6</th>\n",
       "      <td>When the Echo Chamber Shatters: Examining the ...</td>\n",
       "      <td>https://aclanthology.org/2021.woah-1.18</td>\n",
       "      <td>8881</td>\n",
       "      <td>Improving Agreement and Disagreement Identific...</td>\n",
       "      <td>http://arxiv.org/pdf/1606.05706v1</td>\n",
       "      <td>http://arxiv.org/abs/1606.05706v1</td>\n",
       "      <td>1.0</td>\n",
       "      <td>8666.0</td>\n",
       "      <td>6637.0</td>\n",
       "      <td>4.0</td>\n",
       "      <td>...</td>\n",
       "      <td>10.0</td>\n",
       "      <td>NaN</td>\n",
       "      <td>3.0</td>\n",
       "      <td>3.0</td>\n",
       "      <td>3.0</td>\n",
       "      <td>3.0</td>\n",
       "      <td>78.0</td>\n",
       "      <td>35.0</td>\n",
       "      <td>0.114820</td>\n",
       "      <td>0.822923</td>\n",
       "    </tr>\n",
       "    <tr>\n",
       "      <th>7</th>\n",
       "      <td>Detecting Depression in Thai Blog Posts: a Dat...</td>\n",
       "      <td>https://aclanthology.org/2021.wnut-1.3</td>\n",
       "      <td>8883</td>\n",
       "      <td>Temporal Analysis of Language through Neural L...</td>\n",
       "      <td>http://arxiv.org/pdf/1405.3515v1</td>\n",
       "      <td>http://arxiv.org/abs/1405.3515v1</td>\n",
       "      <td>1.0</td>\n",
       "      <td>3460.0</td>\n",
       "      <td>2732.0</td>\n",
       "      <td>4.0</td>\n",
       "      <td>...</td>\n",
       "      <td>5.0</td>\n",
       "      <td>NaN</td>\n",
       "      <td>3.0</td>\n",
       "      <td>3.0</td>\n",
       "      <td>3.0</td>\n",
       "      <td>3.0</td>\n",
       "      <td>37.0</td>\n",
       "      <td>17.0</td>\n",
       "      <td>0.110707</td>\n",
       "      <td>0.756279</td>\n",
       "    </tr>\n",
       "    <tr>\n",
       "      <th>8</th>\n",
       "      <td>Can images help recognize entities? A study of...</td>\n",
       "      <td>https://aclanthology.org/2021.wnut-1.11</td>\n",
       "      <td>8884</td>\n",
       "      <td>A Deep Architecture for Semantic Parsing</td>\n",
       "      <td>http://arxiv.org/pdf/1404.7296v1</td>\n",
       "      <td>http://arxiv.org/abs/1404.7296v1</td>\n",
       "      <td>1.0</td>\n",
       "      <td>6047.0</td>\n",
       "      <td>3070.0</td>\n",
       "      <td>5.0</td>\n",
       "      <td>...</td>\n",
       "      <td>6.0</td>\n",
       "      <td>NaN</td>\n",
       "      <td>4.0</td>\n",
       "      <td>4.0</td>\n",
       "      <td>4.0</td>\n",
       "      <td>4.0</td>\n",
       "      <td>27.0</td>\n",
       "      <td>24.0</td>\n",
       "      <td>0.120555</td>\n",
       "      <td>0.776954</td>\n",
       "    </tr>\n",
       "    <tr>\n",
       "      <th>9</th>\n",
       "      <td>Improving Counterfactual Generation for Fair H...</td>\n",
       "      <td>https://aclanthology.org/2021.woah-1.10</td>\n",
       "      <td>8879</td>\n",
       "      <td>DiscoTK: Using Discourse Structure for Machine...</td>\n",
       "      <td>http://arxiv.org/pdf/1911.12547v1</td>\n",
       "      <td>http://arxiv.org/abs/1911.12547v1</td>\n",
       "      <td>1.0</td>\n",
       "      <td>5436.0</td>\n",
       "      <td>4296.0</td>\n",
       "      <td>4.0</td>\n",
       "      <td>...</td>\n",
       "      <td>8.0</td>\n",
       "      <td>NaN</td>\n",
       "      <td>3.0</td>\n",
       "      <td>3.0</td>\n",
       "      <td>3.0</td>\n",
       "      <td>3.0</td>\n",
       "      <td>75.0</td>\n",
       "      <td>22.0</td>\n",
       "      <td>0.095070</td>\n",
       "      <td>0.846595</td>\n",
       "    </tr>\n",
       "  </tbody>\n",
       "</table>\n",
       "<p>10 rows × 21 columns</p>\n",
       "</div>"
      ],
      "text/plain": [
       "                                               title  \\\n",
       "0  Mitigating Biases in Toxic Language Detection ...   \n",
       "1  HateBERT: Retraining BERT for Abusive Language...   \n",
       "2  Text Simplification for Comprehension-based Qu...   \n",
       "3  Memes in the Wild: Assessing the Generalizabil...   \n",
       "4  Measuring and Improving Model-Moderator Collab...   \n",
       "5  Modeling Profanity and Hate Speech in Social M...   \n",
       "6  When the Echo Chamber Shatters: Examining the ...   \n",
       "7  Detecting Depression in Thai Blog Posts: a Dat...   \n",
       "8  Can images help recognize entities? A study of...   \n",
       "9  Improving Counterfactual Generation for Fair H...   \n",
       "\n",
       "                                       url  index  \\\n",
       "0  https://aclanthology.org/2021.woah-1.12   8880   \n",
       "1   https://aclanthology.org/2021.woah-1.3   8876   \n",
       "2   https://aclanthology.org/2021.wnut-1.1   8882   \n",
       "3   https://aclanthology.org/2021.woah-1.4   8877   \n",
       "4   https://aclanthology.org/2021.woah-1.5   8878   \n",
       "5   https://aclanthology.org/2021.woah-1.2   8875   \n",
       "6  https://aclanthology.org/2021.woah-1.18   8881   \n",
       "7   https://aclanthology.org/2021.wnut-1.3   8883   \n",
       "8  https://aclanthology.org/2021.wnut-1.11   8884   \n",
       "9  https://aclanthology.org/2021.woah-1.10   8879   \n",
       "\n",
       "                                         title_Arxiv  \\\n",
       "0  Credibility Adjusted Term Frequency: A Supervi...   \n",
       "1  A Novel Two-stage Framework for Extracting Opi...   \n",
       "2            Finding Eyewitness Tweets During Crises   \n",
       "3  Arabic Spelling Correction using Supervised Le...   \n",
       "4         Arabizi Detection and Conversion to Arabic   \n",
       "5  Overcoming the Curse of Sentence Length for Ne...   \n",
       "6  Improving Agreement and Disagreement Identific...   \n",
       "7  Temporal Analysis of Language through Neural L...   \n",
       "8           A Deep Architecture for Semantic Parsing   \n",
       "9  DiscoTK: Using Discourse Structure for Machine...   \n",
       "\n",
       "                       pdf_url_Arxiv                       result_Arxiv  \\\n",
       "0   http://arxiv.org/pdf/1405.3518v1   http://arxiv.org/abs/1405.3518v2   \n",
       "1  http://arxiv.org/pdf/2101.09743v1  http://arxiv.org/abs/2101.09743v1   \n",
       "2   http://arxiv.org/pdf/1403.1773v1   http://arxiv.org/abs/1403.1773v1   \n",
       "3   http://arxiv.org/pdf/1409.8309v1   http://arxiv.org/abs/1409.8309v1   \n",
       "4   http://arxiv.org/pdf/1306.6755v1   http://arxiv.org/abs/1306.6755v1   \n",
       "5   http://arxiv.org/pdf/1409.1257v1   http://arxiv.org/abs/1409.1257v2   \n",
       "6  http://arxiv.org/pdf/1606.05706v1  http://arxiv.org/abs/1606.05706v1   \n",
       "7   http://arxiv.org/pdf/1405.3515v1   http://arxiv.org/abs/1405.3515v1   \n",
       "8   http://arxiv.org/pdf/1404.7296v1   http://arxiv.org/abs/1404.7296v1   \n",
       "9  http://arxiv.org/pdf/1911.12547v1  http://arxiv.org/abs/1911.12547v1   \n",
       "\n",
       "   Succes   w_Anth  w_Arxiv  w_both  ...  pages_Arxiv  cosin  len_blocks  \\\n",
       "0     1.0   4248.0   2542.0     4.0  ...          5.0    NaN         3.0   \n",
       "1     1.0   4919.0   5728.0     4.0  ...          9.0    NaN         3.0   \n",
       "2     1.0   5292.0   6346.0     4.0  ...         11.0    NaN         3.0   \n",
       "3     1.0   4865.0   3723.0     4.0  ...          6.0    NaN         3.0   \n",
       "4     1.0  10061.0   4631.0     8.0  ...          8.0    NaN         5.0   \n",
       "5     1.0   7037.0   4359.0     5.0  ...          7.0    NaN         1.0   \n",
       "6     1.0   8666.0   6637.0     4.0  ...         10.0    NaN         3.0   \n",
       "7     1.0   3460.0   2732.0     4.0  ...          5.0    NaN         3.0   \n",
       "8     1.0   6047.0   3070.0     5.0  ...          6.0    NaN         4.0   \n",
       "9     1.0   5436.0   4296.0     4.0  ...          8.0    NaN         3.0   \n",
       "\n",
       "   len_Anth  len_Arxiv  len_both  ref_Anth  ref_Arxiv   Jaccard    cosine  \n",
       "0       3.0        3.0       3.0      36.0       22.0  0.096110  0.839718  \n",
       "1       3.0        3.0       3.0      65.0       26.0  0.106205  0.812526  \n",
       "2       3.0        3.0       3.0      40.0       23.0  0.115042  0.819863  \n",
       "3       3.0        3.0       3.0      87.0       16.0  0.104698  0.736999  \n",
       "4       5.0        5.0       5.0     405.0        3.0  0.097291  0.698223  \n",
       "5       4.0        6.0       4.0      28.0       57.0  0.105679  0.895097  \n",
       "6       3.0        3.0       3.0      78.0       35.0  0.114820  0.822923  \n",
       "7       3.0        3.0       3.0      37.0       17.0  0.110707  0.756279  \n",
       "8       4.0        4.0       4.0      27.0       24.0  0.120555  0.776954  \n",
       "9       3.0        3.0       3.0      75.0       22.0  0.095070  0.846595  \n",
       "\n",
       "[10 rows x 21 columns]"
      ]
     },
     "execution_count": 9,
     "metadata": {},
     "output_type": "execute_result"
    }
   ],
   "source": [
    "ran_sample"
   ]
  },
  {
   "cell_type": "markdown",
   "id": "1fbf5bee",
   "metadata": {},
   "source": [
    "# statistics and explore results"
   ]
  },
  {
   "cell_type": "code",
   "execution_count": 86,
   "id": "d64dea7f",
   "metadata": {},
   "outputs": [
    {
     "data": {
      "text/plain": [
       "Index(['title', 'year', 'month', 'url', 'title_Arxiv', 'pdf_url_Arxiv',\n",
       "       'published_Arxiv', 'result_Arxiv', 'Succes', 'w_Anth', 'w_Arxiv',\n",
       "       'w_both', 'pages_Anth', 'pages_Arxiv', 'cosine', 'len_blocks',\n",
       "       'len_Anth', 'len_Arxiv', 'len_both', 'ref_Anth', 'ref_Arxiv',\n",
       "       'Jaccard'],\n",
       "      dtype='object')"
      ]
     },
     "execution_count": 86,
     "metadata": {},
     "output_type": "execute_result"
    }
   ],
   "source": [
    "sample.columns"
   ]
  },
  {
   "cell_type": "markdown",
   "id": "d3e52a8a",
   "metadata": {},
   "source": [
    "# Figures"
   ]
  },
  {
   "cell_type": "code",
   "execution_count": 87,
   "id": "69372bc5",
   "metadata": {},
   "outputs": [
    {
     "data": {
      "image/png": "[encoded data removed]",
      "text/plain": [
       "<Figure size 432x288 with 1 Axes>"
      ]
     },
     "metadata": {
      "needs_background": "light"
     },
     "output_type": "display_data"
    }
   ],
   "source": [
    "ax = sample.plot(x= 'w_Anth',y = 'cosine', kind = 'scatter') # xlabel = 'Section', ylabel = 'Number of words')\n",
    "fig = ax.get_figure()\n",
    "# fig\n",
    "# fig.savefig('No title bar df2')"
   ]
  },
  {
   "cell_type": "code",
   "execution_count": null,
   "id": "93c68138",
   "metadata": {
    "scrolled": false
   },
   "outputs": [],
   "source": [
    "ax = sample.plot(x= 'w_Anth',y = 'Jaccard', kind = 'scatter') # xlabel = 'Section', ylabel = 'Number of words')\n",
    "fig = ax.get_figure()"
   ]
  },
  {
   "cell_type": "code",
   "execution_count": 89,
   "id": "3d2d75ac",
   "metadata": {
    "scrolled": false
   },
   "outputs": [
    {
     "data": {
      "image/png": "[encoded data removed]",
      "text/plain": [
       "<Figure size 432x288 with 1 Axes>"
      ]
     },
     "metadata": {
      "needs_background": "light"
     },
     "output_type": "display_data"
    }
   ],
   "source": [
    "ax = sample.plot(x= 'cosine',y = 'Jaccard', kind = 'scatter') # xlabel = 'Section', ylabel = 'Number of words')\n",
    "fig = ax.get_figure()"
   ]
  },
  {
   "cell_type": "code",
   "execution_count": 112,
   "id": "bb2fb226",
   "metadata": {},
   "outputs": [
    {
     "data": {
      "text/html": [
       "<div>\n",
       "<style scoped>\n",
       "    .dataframe tbody tr th:only-of-type {\n",
       "        vertical-align: middle;\n",
       "    }\n",
       "\n",
       "    .dataframe tbody tr th {\n",
       "        vertical-align: top;\n",
       "    }\n",
       "\n",
       "    .dataframe thead th {\n",
       "        text-align: right;\n",
       "    }\n",
       "</style>\n",
       "<table border=\"1\" class=\"dataframe\">\n",
       "  <thead>\n",
       "    <tr style=\"text-align: right;\">\n",
       "      <th></th>\n",
       "      <th>year</th>\n",
       "      <th>Succes</th>\n",
       "      <th>w_Anth</th>\n",
       "      <th>w_Arxiv</th>\n",
       "      <th>w_both</th>\n",
       "      <th>pages_Anth</th>\n",
       "      <th>pages_Arxiv</th>\n",
       "      <th>cosine</th>\n",
       "      <th>len_blocks</th>\n",
       "      <th>len_Anth</th>\n",
       "      <th>len_Arxiv</th>\n",
       "      <th>len_both</th>\n",
       "      <th>Jaccard</th>\n",
       "    </tr>\n",
       "  </thead>\n",
       "  <tbody>\n",
       "    <tr>\n",
       "      <th>count</th>\n",
       "      <td>2000.000000</td>\n",
       "      <td>2000.000000</td>\n",
       "      <td>1799.000000</td>\n",
       "      <td>1799.000000</td>\n",
       "      <td>1799.000000</td>\n",
       "      <td>1799.000000</td>\n",
       "      <td>1799.000000</td>\n",
       "      <td>1799.000000</td>\n",
       "      <td>1799.000000</td>\n",
       "      <td>1799.000000</td>\n",
       "      <td>1799.000000</td>\n",
       "      <td>1799.000000</td>\n",
       "      <td>1799.000000</td>\n",
       "    </tr>\n",
       "    <tr>\n",
       "      <th>mean</th>\n",
       "      <td>2019.339000</td>\n",
       "      <td>0.899500</td>\n",
       "      <td>6256.074486</td>\n",
       "      <td>6143.641467</td>\n",
       "      <td>4109.546415</td>\n",
       "      <td>10.495275</td>\n",
       "      <td>10.503057</td>\n",
       "      <td>0.958994</td>\n",
       "      <td>130.876042</td>\n",
       "      <td>141.816565</td>\n",
       "      <td>142.230128</td>\n",
       "      <td>141.814897</td>\n",
       "      <td>0.907562</td>\n",
       "    </tr>\n",
       "    <tr>\n",
       "      <th>std</th>\n",
       "      <td>1.580927</td>\n",
       "      <td>0.300741</td>\n",
       "      <td>2307.860855</td>\n",
       "      <td>2242.695046</td>\n",
       "      <td>2648.813332</td>\n",
       "      <td>3.940302</td>\n",
       "      <td>3.906565</td>\n",
       "      <td>0.087035</td>\n",
       "      <td>85.302463</td>\n",
       "      <td>77.730852</td>\n",
       "      <td>77.628586</td>\n",
       "      <td>77.733885</td>\n",
       "      <td>0.147273</td>\n",
       "    </tr>\n",
       "    <tr>\n",
       "      <th>min</th>\n",
       "      <td>2014.000000</td>\n",
       "      <td>0.000000</td>\n",
       "      <td>502.000000</td>\n",
       "      <td>1375.000000</td>\n",
       "      <td>0.000000</td>\n",
       "      <td>3.000000</td>\n",
       "      <td>3.000000</td>\n",
       "      <td>0.308500</td>\n",
       "      <td>1.000000</td>\n",
       "      <td>1.000000</td>\n",
       "      <td>1.000000</td>\n",
       "      <td>0.000000</td>\n",
       "      <td>0.005949</td>\n",
       "    </tr>\n",
       "    <tr>\n",
       "      <th>25%</th>\n",
       "      <td>2018.000000</td>\n",
       "      <td>1.000000</td>\n",
       "      <td>4444.000000</td>\n",
       "      <td>4432.000000</td>\n",
       "      <td>1794.000000</td>\n",
       "      <td>8.000000</td>\n",
       "      <td>8.000000</td>\n",
       "      <td>0.966810</td>\n",
       "      <td>68.500000</td>\n",
       "      <td>84.000000</td>\n",
       "      <td>84.000000</td>\n",
       "      <td>84.000000</td>\n",
       "      <td>0.896704</td>\n",
       "    </tr>\n",
       "    <tr>\n",
       "      <th>50%</th>\n",
       "      <td>2020.000000</td>\n",
       "      <td>1.000000</td>\n",
       "      <td>6273.000000</td>\n",
       "      <td>6148.000000</td>\n",
       "      <td>3990.000000</td>\n",
       "      <td>10.000000</td>\n",
       "      <td>10.000000</td>\n",
       "      <td>0.997527</td>\n",
       "      <td>127.000000</td>\n",
       "      <td>133.000000</td>\n",
       "      <td>134.000000</td>\n",
       "      <td>133.000000</td>\n",
       "      <td>0.982561</td>\n",
       "    </tr>\n",
       "    <tr>\n",
       "      <th>75%</th>\n",
       "      <td>2021.000000</td>\n",
       "      <td>1.000000</td>\n",
       "      <td>7406.000000</td>\n",
       "      <td>7282.000000</td>\n",
       "      <td>6180.000000</td>\n",
       "      <td>12.000000</td>\n",
       "      <td>12.000000</td>\n",
       "      <td>0.999667</td>\n",
       "      <td>190.000000</td>\n",
       "      <td>193.000000</td>\n",
       "      <td>193.000000</td>\n",
       "      <td>193.000000</td>\n",
       "      <td>0.990166</td>\n",
       "    </tr>\n",
       "    <tr>\n",
       "      <th>max</th>\n",
       "      <td>2021.000000</td>\n",
       "      <td>1.000000</td>\n",
       "      <td>29143.000000</td>\n",
       "      <td>28067.000000</td>\n",
       "      <td>25440.000000</td>\n",
       "      <td>55.000000</td>\n",
       "      <td>54.000000</td>\n",
       "      <td>1.000000</td>\n",
       "      <td>696.000000</td>\n",
       "      <td>696.000000</td>\n",
       "      <td>696.000000</td>\n",
       "      <td>696.000000</td>\n",
       "      <td>1.000000</td>\n",
       "    </tr>\n",
       "  </tbody>\n",
       "</table>\n",
       "</div>"
      ],
      "text/plain": [
       "              year       Succes        w_Anth       w_Arxiv        w_both  \\\n",
       "count  2000.000000  2000.000000   1799.000000   1799.000000   1799.000000   \n",
       "mean   2019.339000     0.899500   6256.074486   6143.641467   4109.546415   \n",
       "std       1.580927     0.300741   2307.860855   2242.695046   2648.813332   \n",
       "min    2014.000000     0.000000    502.000000   1375.000000      0.000000   \n",
       "25%    2018.000000     1.000000   4444.000000   4432.000000   1794.000000   \n",
       "50%    2020.000000     1.000000   6273.000000   6148.000000   3990.000000   \n",
       "75%    2021.000000     1.000000   7406.000000   7282.000000   6180.000000   \n",
       "max    2021.000000     1.000000  29143.000000  28067.000000  25440.000000   \n",
       "\n",
       "        pages_Anth  pages_Arxiv       cosine   len_blocks     len_Anth  \\\n",
       "count  1799.000000  1799.000000  1799.000000  1799.000000  1799.000000   \n",
       "mean     10.495275    10.503057     0.958994   130.876042   141.816565   \n",
       "std       3.940302     3.906565     0.087035    85.302463    77.730852   \n",
       "min       3.000000     3.000000     0.308500     1.000000     1.000000   \n",
       "25%       8.000000     8.000000     0.966810    68.500000    84.000000   \n",
       "50%      10.000000    10.000000     0.997527   127.000000   133.000000   \n",
       "75%      12.000000    12.000000     0.999667   190.000000   193.000000   \n",
       "max      55.000000    54.000000     1.000000   696.000000   696.000000   \n",
       "\n",
       "         len_Arxiv     len_both      Jaccard  \n",
       "count  1799.000000  1799.000000  1799.000000  \n",
       "mean    142.230128   141.814897     0.907562  \n",
       "std      77.628586    77.733885     0.147273  \n",
       "min       1.000000     0.000000     0.005949  \n",
       "25%      84.000000    84.000000     0.896704  \n",
       "50%     134.000000   133.000000     0.982561  \n",
       "75%     193.000000   193.000000     0.990166  \n",
       "max     696.000000   696.000000     1.000000  "
      ]
     },
     "execution_count": 112,
     "metadata": {},
     "output_type": "execute_result"
    }
   ],
   "source": [
    "sample.describe()"
   ]
  },
  {
   "cell_type": "code",
   "execution_count": 116,
   "id": "dbf6f3e2",
   "metadata": {},
   "outputs": [
    {
     "data": {
      "text/html": [
       "<div>\n",
       "<style scoped>\n",
       "    .dataframe tbody tr th:only-of-type {\n",
       "        vertical-align: middle;\n",
       "    }\n",
       "\n",
       "    .dataframe tbody tr th {\n",
       "        vertical-align: top;\n",
       "    }\n",
       "\n",
       "    .dataframe thead th {\n",
       "        text-align: right;\n",
       "    }\n",
       "</style>\n",
       "<table border=\"1\" class=\"dataframe\">\n",
       "  <thead>\n",
       "    <tr style=\"text-align: right;\">\n",
       "      <th></th>\n",
       "      <th>title</th>\n",
       "      <th>url</th>\n",
       "      <th>index</th>\n",
       "      <th>title_Arxiv</th>\n",
       "      <th>pdf_url_Arxiv</th>\n",
       "      <th>result_Arxiv</th>\n",
       "      <th>Succes</th>\n",
       "      <th>w_Anth</th>\n",
       "      <th>w_Arxiv</th>\n",
       "      <th>w_both</th>\n",
       "      <th>...</th>\n",
       "      <th>pages_Arxiv</th>\n",
       "      <th>cosin</th>\n",
       "      <th>len_blocks</th>\n",
       "      <th>len_Anth</th>\n",
       "      <th>len_Arxiv</th>\n",
       "      <th>len_both</th>\n",
       "      <th>ref_Anth</th>\n",
       "      <th>ref_Arxiv</th>\n",
       "      <th>Jaccard</th>\n",
       "      <th>cosine</th>\n",
       "    </tr>\n",
       "  </thead>\n",
       "  <tbody>\n",
       "    <tr>\n",
       "      <th>0</th>\n",
       "      <td>Mitigating Biases in Toxic Language Detection ...</td>\n",
       "      <td>https://aclanthology.org/2021.woah-1.12</td>\n",
       "      <td>8880</td>\n",
       "      <td>Credibility Adjusted Term Frequency: A Supervi...</td>\n",
       "      <td>http://arxiv.org/pdf/1405.3518v1</td>\n",
       "      <td>http://arxiv.org/abs/1405.3518v2</td>\n",
       "      <td>1.0</td>\n",
       "      <td>4248.0</td>\n",
       "      <td>2542.0</td>\n",
       "      <td>4.0</td>\n",
       "      <td>...</td>\n",
       "      <td>5.0</td>\n",
       "      <td>NaN</td>\n",
       "      <td>3.0</td>\n",
       "      <td>3.0</td>\n",
       "      <td>3.0</td>\n",
       "      <td>3.0</td>\n",
       "      <td>36.0</td>\n",
       "      <td>22.0</td>\n",
       "      <td>0.096110</td>\n",
       "      <td>0.839718</td>\n",
       "    </tr>\n",
       "    <tr>\n",
       "      <th>1</th>\n",
       "      <td>HateBERT: Retraining BERT for Abusive Language...</td>\n",
       "      <td>https://aclanthology.org/2021.woah-1.3</td>\n",
       "      <td>8876</td>\n",
       "      <td>A Novel Two-stage Framework for Extracting Opi...</td>\n",
       "      <td>http://arxiv.org/pdf/2101.09743v1</td>\n",
       "      <td>http://arxiv.org/abs/2101.09743v1</td>\n",
       "      <td>1.0</td>\n",
       "      <td>4919.0</td>\n",
       "      <td>5728.0</td>\n",
       "      <td>4.0</td>\n",
       "      <td>...</td>\n",
       "      <td>9.0</td>\n",
       "      <td>NaN</td>\n",
       "      <td>3.0</td>\n",
       "      <td>3.0</td>\n",
       "      <td>3.0</td>\n",
       "      <td>3.0</td>\n",
       "      <td>65.0</td>\n",
       "      <td>26.0</td>\n",
       "      <td>0.106205</td>\n",
       "      <td>0.812526</td>\n",
       "    </tr>\n",
       "    <tr>\n",
       "      <th>2</th>\n",
       "      <td>Text Simplification for Comprehension-based Qu...</td>\n",
       "      <td>https://aclanthology.org/2021.wnut-1.1</td>\n",
       "      <td>8882</td>\n",
       "      <td>Finding Eyewitness Tweets During Crises</td>\n",
       "      <td>http://arxiv.org/pdf/1403.1773v1</td>\n",
       "      <td>http://arxiv.org/abs/1403.1773v1</td>\n",
       "      <td>1.0</td>\n",
       "      <td>5292.0</td>\n",
       "      <td>6346.0</td>\n",
       "      <td>4.0</td>\n",
       "      <td>...</td>\n",
       "      <td>11.0</td>\n",
       "      <td>NaN</td>\n",
       "      <td>3.0</td>\n",
       "      <td>3.0</td>\n",
       "      <td>3.0</td>\n",
       "      <td>3.0</td>\n",
       "      <td>40.0</td>\n",
       "      <td>23.0</td>\n",
       "      <td>0.115042</td>\n",
       "      <td>0.819863</td>\n",
       "    </tr>\n",
       "    <tr>\n",
       "      <th>3</th>\n",
       "      <td>Memes in the Wild: Assessing the Generalizabil...</td>\n",
       "      <td>https://aclanthology.org/2021.woah-1.4</td>\n",
       "      <td>8877</td>\n",
       "      <td>Arabic Spelling Correction using Supervised Le...</td>\n",
       "      <td>http://arxiv.org/pdf/1409.8309v1</td>\n",
       "      <td>http://arxiv.org/abs/1409.8309v1</td>\n",
       "      <td>1.0</td>\n",
       "      <td>4865.0</td>\n",
       "      <td>3723.0</td>\n",
       "      <td>4.0</td>\n",
       "      <td>...</td>\n",
       "      <td>6.0</td>\n",
       "      <td>NaN</td>\n",
       "      <td>3.0</td>\n",
       "      <td>3.0</td>\n",
       "      <td>3.0</td>\n",
       "      <td>3.0</td>\n",
       "      <td>87.0</td>\n",
       "      <td>16.0</td>\n",
       "      <td>0.104698</td>\n",
       "      <td>0.736999</td>\n",
       "    </tr>\n",
       "    <tr>\n",
       "      <th>4</th>\n",
       "      <td>Measuring and Improving Model-Moderator Collab...</td>\n",
       "      <td>https://aclanthology.org/2021.woah-1.5</td>\n",
       "      <td>8878</td>\n",
       "      <td>Arabizi Detection and Conversion to Arabic</td>\n",
       "      <td>http://arxiv.org/pdf/1306.6755v1</td>\n",
       "      <td>http://arxiv.org/abs/1306.6755v1</td>\n",
       "      <td>1.0</td>\n",
       "      <td>10061.0</td>\n",
       "      <td>4631.0</td>\n",
       "      <td>8.0</td>\n",
       "      <td>...</td>\n",
       "      <td>8.0</td>\n",
       "      <td>NaN</td>\n",
       "      <td>5.0</td>\n",
       "      <td>5.0</td>\n",
       "      <td>5.0</td>\n",
       "      <td>5.0</td>\n",
       "      <td>405.0</td>\n",
       "      <td>3.0</td>\n",
       "      <td>0.097291</td>\n",
       "      <td>0.698223</td>\n",
       "    </tr>\n",
       "    <tr>\n",
       "      <th>5</th>\n",
       "      <td>Modeling Profanity and Hate Speech in Social M...</td>\n",
       "      <td>https://aclanthology.org/2021.woah-1.2</td>\n",
       "      <td>8875</td>\n",
       "      <td>Overcoming the Curse of Sentence Length for Ne...</td>\n",
       "      <td>http://arxiv.org/pdf/1409.1257v1</td>\n",
       "      <td>http://arxiv.org/abs/1409.1257v2</td>\n",
       "      <td>1.0</td>\n",
       "      <td>7037.0</td>\n",
       "      <td>4359.0</td>\n",
       "      <td>5.0</td>\n",
       "      <td>...</td>\n",
       "      <td>7.0</td>\n",
       "      <td>NaN</td>\n",
       "      <td>1.0</td>\n",
       "      <td>4.0</td>\n",
       "      <td>6.0</td>\n",
       "      <td>4.0</td>\n",
       "      <td>28.0</td>\n",
       "      <td>57.0</td>\n",
       "      <td>0.105679</td>\n",
       "      <td>0.895097</td>\n",
       "    </tr>\n",
       "    <tr>\n",
       "      <th>6</th>\n",
       "      <td>When the Echo Chamber Shatters: Examining the ...</td>\n",
       "      <td>https://aclanthology.org/2021.woah-1.18</td>\n",
       "      <td>8881</td>\n",
       "      <td>Improving Agreement and Disagreement Identific...</td>\n",
       "      <td>http://arxiv.org/pdf/1606.05706v1</td>\n",
       "      <td>http://arxiv.org/abs/1606.05706v1</td>\n",
       "      <td>1.0</td>\n",
       "      <td>8666.0</td>\n",
       "      <td>6637.0</td>\n",
       "      <td>4.0</td>\n",
       "      <td>...</td>\n",
       "      <td>10.0</td>\n",
       "      <td>NaN</td>\n",
       "      <td>3.0</td>\n",
       "      <td>3.0</td>\n",
       "      <td>3.0</td>\n",
       "      <td>3.0</td>\n",
       "      <td>78.0</td>\n",
       "      <td>35.0</td>\n",
       "      <td>0.114820</td>\n",
       "      <td>0.822923</td>\n",
       "    </tr>\n",
       "    <tr>\n",
       "      <th>7</th>\n",
       "      <td>Detecting Depression in Thai Blog Posts: a Dat...</td>\n",
       "      <td>https://aclanthology.org/2021.wnut-1.3</td>\n",
       "      <td>8883</td>\n",
       "      <td>Temporal Analysis of Language through Neural L...</td>\n",
       "      <td>http://arxiv.org/pdf/1405.3515v1</td>\n",
       "      <td>http://arxiv.org/abs/1405.3515v1</td>\n",
       "      <td>1.0</td>\n",
       "      <td>3460.0</td>\n",
       "      <td>2732.0</td>\n",
       "      <td>4.0</td>\n",
       "      <td>...</td>\n",
       "      <td>5.0</td>\n",
       "      <td>NaN</td>\n",
       "      <td>3.0</td>\n",
       "      <td>3.0</td>\n",
       "      <td>3.0</td>\n",
       "      <td>3.0</td>\n",
       "      <td>37.0</td>\n",
       "      <td>17.0</td>\n",
       "      <td>0.110707</td>\n",
       "      <td>0.756279</td>\n",
       "    </tr>\n",
       "    <tr>\n",
       "      <th>8</th>\n",
       "      <td>Can images help recognize entities? A study of...</td>\n",
       "      <td>https://aclanthology.org/2021.wnut-1.11</td>\n",
       "      <td>8884</td>\n",
       "      <td>A Deep Architecture for Semantic Parsing</td>\n",
       "      <td>http://arxiv.org/pdf/1404.7296v1</td>\n",
       "      <td>http://arxiv.org/abs/1404.7296v1</td>\n",
       "      <td>1.0</td>\n",
       "      <td>6047.0</td>\n",
       "      <td>3070.0</td>\n",
       "      <td>5.0</td>\n",
       "      <td>...</td>\n",
       "      <td>6.0</td>\n",
       "      <td>NaN</td>\n",
       "      <td>4.0</td>\n",
       "      <td>4.0</td>\n",
       "      <td>4.0</td>\n",
       "      <td>4.0</td>\n",
       "      <td>27.0</td>\n",
       "      <td>24.0</td>\n",
       "      <td>0.120555</td>\n",
       "      <td>0.776954</td>\n",
       "    </tr>\n",
       "    <tr>\n",
       "      <th>9</th>\n",
       "      <td>Improving Counterfactual Generation for Fair H...</td>\n",
       "      <td>https://aclanthology.org/2021.woah-1.10</td>\n",
       "      <td>8879</td>\n",
       "      <td>DiscoTK: Using Discourse Structure for Machine...</td>\n",
       "      <td>http://arxiv.org/pdf/1911.12547v1</td>\n",
       "      <td>http://arxiv.org/abs/1911.12547v1</td>\n",
       "      <td>1.0</td>\n",
       "      <td>5436.0</td>\n",
       "      <td>4296.0</td>\n",
       "      <td>4.0</td>\n",
       "      <td>...</td>\n",
       "      <td>8.0</td>\n",
       "      <td>NaN</td>\n",
       "      <td>3.0</td>\n",
       "      <td>3.0</td>\n",
       "      <td>3.0</td>\n",
       "      <td>3.0</td>\n",
       "      <td>75.0</td>\n",
       "      <td>22.0</td>\n",
       "      <td>0.095070</td>\n",
       "      <td>0.846595</td>\n",
       "    </tr>\n",
       "  </tbody>\n",
       "</table>\n",
       "<p>10 rows × 21 columns</p>\n",
       "</div>"
      ],
      "text/plain": [
       "                                               title  \\\n",
       "0  Mitigating Biases in Toxic Language Detection ...   \n",
       "1  HateBERT: Retraining BERT for Abusive Language...   \n",
       "2  Text Simplification for Comprehension-based Qu...   \n",
       "3  Memes in the Wild: Assessing the Generalizabil...   \n",
       "4  Measuring and Improving Model-Moderator Collab...   \n",
       "5  Modeling Profanity and Hate Speech in Social M...   \n",
       "6  When the Echo Chamber Shatters: Examining the ...   \n",
       "7  Detecting Depression in Thai Blog Posts: a Dat...   \n",
       "8  Can images help recognize entities? A study of...   \n",
       "9  Improving Counterfactual Generation for Fair H...   \n",
       "\n",
       "                                       url  index  \\\n",
       "0  https://aclanthology.org/2021.woah-1.12   8880   \n",
       "1   https://aclanthology.org/2021.woah-1.3   8876   \n",
       "2   https://aclanthology.org/2021.wnut-1.1   8882   \n",
       "3   https://aclanthology.org/2021.woah-1.4   8877   \n",
       "4   https://aclanthology.org/2021.woah-1.5   8878   \n",
       "5   https://aclanthology.org/2021.woah-1.2   8875   \n",
       "6  https://aclanthology.org/2021.woah-1.18   8881   \n",
       "7   https://aclanthology.org/2021.wnut-1.3   8883   \n",
       "8  https://aclanthology.org/2021.wnut-1.11   8884   \n",
       "9  https://aclanthology.org/2021.woah-1.10   8879   \n",
       "\n",
       "                                         title_Arxiv  \\\n",
       "0  Credibility Adjusted Term Frequency: A Supervi...   \n",
       "1  A Novel Two-stage Framework for Extracting Opi...   \n",
       "2            Finding Eyewitness Tweets During Crises   \n",
       "3  Arabic Spelling Correction using Supervised Le...   \n",
       "4         Arabizi Detection and Conversion to Arabic   \n",
       "5  Overcoming the Curse of Sentence Length for Ne...   \n",
       "6  Improving Agreement and Disagreement Identific...   \n",
       "7  Temporal Analysis of Language through Neural L...   \n",
       "8           A Deep Architecture for Semantic Parsing   \n",
       "9  DiscoTK: Using Discourse Structure for Machine...   \n",
       "\n",
       "                       pdf_url_Arxiv                       result_Arxiv  \\\n",
       "0   http://arxiv.org/pdf/1405.3518v1   http://arxiv.org/abs/1405.3518v2   \n",
       "1  http://arxiv.org/pdf/2101.09743v1  http://arxiv.org/abs/2101.09743v1   \n",
       "2   http://arxiv.org/pdf/1403.1773v1   http://arxiv.org/abs/1403.1773v1   \n",
       "3   http://arxiv.org/pdf/1409.8309v1   http://arxiv.org/abs/1409.8309v1   \n",
       "4   http://arxiv.org/pdf/1306.6755v1   http://arxiv.org/abs/1306.6755v1   \n",
       "5   http://arxiv.org/pdf/1409.1257v1   http://arxiv.org/abs/1409.1257v2   \n",
       "6  http://arxiv.org/pdf/1606.05706v1  http://arxiv.org/abs/1606.05706v1   \n",
       "7   http://arxiv.org/pdf/1405.3515v1   http://arxiv.org/abs/1405.3515v1   \n",
       "8   http://arxiv.org/pdf/1404.7296v1   http://arxiv.org/abs/1404.7296v1   \n",
       "9  http://arxiv.org/pdf/1911.12547v1  http://arxiv.org/abs/1911.12547v1   \n",
       "\n",
       "   Succes   w_Anth  w_Arxiv  w_both  ...  pages_Arxiv  cosin  len_blocks  \\\n",
       "0     1.0   4248.0   2542.0     4.0  ...          5.0    NaN         3.0   \n",
       "1     1.0   4919.0   5728.0     4.0  ...          9.0    NaN         3.0   \n",
       "2     1.0   5292.0   6346.0     4.0  ...         11.0    NaN         3.0   \n",
       "3     1.0   4865.0   3723.0     4.0  ...          6.0    NaN         3.0   \n",
       "4     1.0  10061.0   4631.0     8.0  ...          8.0    NaN         5.0   \n",
       "5     1.0   7037.0   4359.0     5.0  ...          7.0    NaN         1.0   \n",
       "6     1.0   8666.0   6637.0     4.0  ...         10.0    NaN         3.0   \n",
       "7     1.0   3460.0   2732.0     4.0  ...          5.0    NaN         3.0   \n",
       "8     1.0   6047.0   3070.0     5.0  ...          6.0    NaN         4.0   \n",
       "9     1.0   5436.0   4296.0     4.0  ...          8.0    NaN         3.0   \n",
       "\n",
       "   len_Anth  len_Arxiv  len_both  ref_Anth  ref_Arxiv   Jaccard    cosine  \n",
       "0       3.0        3.0       3.0      36.0       22.0  0.096110  0.839718  \n",
       "1       3.0        3.0       3.0      65.0       26.0  0.106205  0.812526  \n",
       "2       3.0        3.0       3.0      40.0       23.0  0.115042  0.819863  \n",
       "3       3.0        3.0       3.0      87.0       16.0  0.104698  0.736999  \n",
       "4       5.0        5.0       5.0     405.0        3.0  0.097291  0.698223  \n",
       "5       4.0        6.0       4.0      28.0       57.0  0.105679  0.895097  \n",
       "6       3.0        3.0       3.0      78.0       35.0  0.114820  0.822923  \n",
       "7       3.0        3.0       3.0      37.0       17.0  0.110707  0.756279  \n",
       "8       4.0        4.0       4.0      27.0       24.0  0.120555  0.776954  \n",
       "9       3.0        3.0       3.0      75.0       22.0  0.095070  0.846595  \n",
       "\n",
       "[10 rows x 21 columns]"
      ]
     },
     "execution_count": 116,
     "metadata": {},
     "output_type": "execute_result"
    }
   ],
   "source": [
    "ran_sample"
   ]
  },
  {
   "cell_type": "code",
   "execution_count": 111,
   "id": "c7978975",
   "metadata": {},
   "outputs": [
    {
     "data": {
      "text/plain": [
       "<AxesSubplot:ylabel='Density'>"
      ]
     },
     "execution_count": 111,
     "metadata": {},
     "output_type": "execute_result"
    },
    {
     "data": {
      "image/png": "[encoded data removed]",
      "text/plain": [
       "<Figure size 432x288 with 1 Axes>"
      ]
     },
     "metadata": {
      "needs_background": "light"
     },
     "output_type": "display_data"
    }
   ],
   "source": [
    "sample['cosine'].plot(kind = 'density')"
   ]
  },
  {
   "cell_type": "code",
   "execution_count": 90,
   "id": "9c9e23da",
   "metadata": {},
   "outputs": [
    {
     "data": {
      "image/png": "[encoded data removed]",
      "text/plain": [
       "<Figure size 432x288 with 1 Axes>"
      ]
     },
     "metadata": {
      "needs_background": "light"
     },
     "output_type": "display_data"
    }
   ],
   "source": [
    "ax = sample.plot(x= 'len_blocks',y = 'cosine', kind = 'scatter') # xlabel = 'Section', ylabel = 'Number of words')\n",
    "fig = ax.get_figure()"
   ]
  },
  {
   "cell_type": "code",
   "execution_count": 91,
   "id": "e5fdfbaf",
   "metadata": {
    "scrolled": true
   },
   "outputs": [
    {
     "data": {
      "text/html": [
       "<div>\n",
       "<style scoped>\n",
       "    .dataframe tbody tr th:only-of-type {\n",
       "        vertical-align: middle;\n",
       "    }\n",
       "\n",
       "    .dataframe tbody tr th {\n",
       "        vertical-align: top;\n",
       "    }\n",
       "\n",
       "    .dataframe thead th {\n",
       "        text-align: right;\n",
       "    }\n",
       "</style>\n",
       "<table border=\"1\" class=\"dataframe\">\n",
       "  <thead>\n",
       "    <tr style=\"text-align: right;\">\n",
       "      <th></th>\n",
       "      <th>year</th>\n",
       "      <th>Succes</th>\n",
       "      <th>w_Anth</th>\n",
       "      <th>w_Arxiv</th>\n",
       "      <th>w_both</th>\n",
       "      <th>pages_Anth</th>\n",
       "      <th>pages_Arxiv</th>\n",
       "      <th>cosine</th>\n",
       "      <th>len_blocks</th>\n",
       "      <th>len_Anth</th>\n",
       "      <th>len_Arxiv</th>\n",
       "      <th>len_both</th>\n",
       "      <th>Jaccard</th>\n",
       "    </tr>\n",
       "  </thead>\n",
       "  <tbody>\n",
       "    <tr>\n",
       "      <th>count</th>\n",
       "      <td>2000.000000</td>\n",
       "      <td>2000.000000</td>\n",
       "      <td>1799.000000</td>\n",
       "      <td>1799.000000</td>\n",
       "      <td>1799.000000</td>\n",
       "      <td>1799.000000</td>\n",
       "      <td>1799.000000</td>\n",
       "      <td>1799.000000</td>\n",
       "      <td>1799.000000</td>\n",
       "      <td>1799.000000</td>\n",
       "      <td>1799.000000</td>\n",
       "      <td>1799.000000</td>\n",
       "      <td>1799.000000</td>\n",
       "    </tr>\n",
       "    <tr>\n",
       "      <th>mean</th>\n",
       "      <td>2019.339000</td>\n",
       "      <td>0.899500</td>\n",
       "      <td>6256.074486</td>\n",
       "      <td>6143.641467</td>\n",
       "      <td>4109.546415</td>\n",
       "      <td>10.495275</td>\n",
       "      <td>10.503057</td>\n",
       "      <td>0.958994</td>\n",
       "      <td>130.876042</td>\n",
       "      <td>141.816565</td>\n",
       "      <td>142.230128</td>\n",
       "      <td>141.814897</td>\n",
       "      <td>0.907562</td>\n",
       "    </tr>\n",
       "    <tr>\n",
       "      <th>std</th>\n",
       "      <td>1.580927</td>\n",
       "      <td>0.300741</td>\n",
       "      <td>2307.860855</td>\n",
       "      <td>2242.695046</td>\n",
       "      <td>2648.813332</td>\n",
       "      <td>3.940302</td>\n",
       "      <td>3.906565</td>\n",
       "      <td>0.087035</td>\n",
       "      <td>85.302463</td>\n",
       "      <td>77.730852</td>\n",
       "      <td>77.628586</td>\n",
       "      <td>77.733885</td>\n",
       "      <td>0.147273</td>\n",
       "    </tr>\n",
       "    <tr>\n",
       "      <th>min</th>\n",
       "      <td>2014.000000</td>\n",
       "      <td>0.000000</td>\n",
       "      <td>502.000000</td>\n",
       "      <td>1375.000000</td>\n",
       "      <td>0.000000</td>\n",
       "      <td>3.000000</td>\n",
       "      <td>3.000000</td>\n",
       "      <td>0.308500</td>\n",
       "      <td>1.000000</td>\n",
       "      <td>1.000000</td>\n",
       "      <td>1.000000</td>\n",
       "      <td>0.000000</td>\n",
       "      <td>0.005949</td>\n",
       "    </tr>\n",
       "    <tr>\n",
       "      <th>25%</th>\n",
       "      <td>2018.000000</td>\n",
       "      <td>1.000000</td>\n",
       "      <td>4444.000000</td>\n",
       "      <td>4432.000000</td>\n",
       "      <td>1794.000000</td>\n",
       "      <td>8.000000</td>\n",
       "      <td>8.000000</td>\n",
       "      <td>0.966810</td>\n",
       "      <td>68.500000</td>\n",
       "      <td>84.000000</td>\n",
       "      <td>84.000000</td>\n",
       "      <td>84.000000</td>\n",
       "      <td>0.896704</td>\n",
       "    </tr>\n",
       "    <tr>\n",
       "      <th>50%</th>\n",
       "      <td>2020.000000</td>\n",
       "      <td>1.000000</td>\n",
       "      <td>6273.000000</td>\n",
       "      <td>6148.000000</td>\n",
       "      <td>3990.000000</td>\n",
       "      <td>10.000000</td>\n",
       "      <td>10.000000</td>\n",
       "      <td>0.997527</td>\n",
       "      <td>127.000000</td>\n",
       "      <td>133.000000</td>\n",
       "      <td>134.000000</td>\n",
       "      <td>133.000000</td>\n",
       "      <td>0.982561</td>\n",
       "    </tr>\n",
       "    <tr>\n",
       "      <th>75%</th>\n",
       "      <td>2021.000000</td>\n",
       "      <td>1.000000</td>\n",
       "      <td>7406.000000</td>\n",
       "      <td>7282.000000</td>\n",
       "      <td>6180.000000</td>\n",
       "      <td>12.000000</td>\n",
       "      <td>12.000000</td>\n",
       "      <td>0.999667</td>\n",
       "      <td>190.000000</td>\n",
       "      <td>193.000000</td>\n",
       "      <td>193.000000</td>\n",
       "      <td>193.000000</td>\n",
       "      <td>0.990166</td>\n",
       "    </tr>\n",
       "    <tr>\n",
       "      <th>max</th>\n",
       "      <td>2021.000000</td>\n",
       "      <td>1.000000</td>\n",
       "      <td>29143.000000</td>\n",
       "      <td>28067.000000</td>\n",
       "      <td>25440.000000</td>\n",
       "      <td>55.000000</td>\n",
       "      <td>54.000000</td>\n",
       "      <td>1.000000</td>\n",
       "      <td>696.000000</td>\n",
       "      <td>696.000000</td>\n",
       "      <td>696.000000</td>\n",
       "      <td>696.000000</td>\n",
       "      <td>1.000000</td>\n",
       "    </tr>\n",
       "  </tbody>\n",
       "</table>\n",
       "</div>"
      ],
      "text/plain": [
       "              year       Succes        w_Anth       w_Arxiv        w_both  \\\n",
       "count  2000.000000  2000.000000   1799.000000   1799.000000   1799.000000   \n",
       "mean   2019.339000     0.899500   6256.074486   6143.641467   4109.546415   \n",
       "std       1.580927     0.300741   2307.860855   2242.695046   2648.813332   \n",
       "min    2014.000000     0.000000    502.000000   1375.000000      0.000000   \n",
       "25%    2018.000000     1.000000   4444.000000   4432.000000   1794.000000   \n",
       "50%    2020.000000     1.000000   6273.000000   6148.000000   3990.000000   \n",
       "75%    2021.000000     1.000000   7406.000000   7282.000000   6180.000000   \n",
       "max    2021.000000     1.000000  29143.000000  28067.000000  25440.000000   \n",
       "\n",
       "        pages_Anth  pages_Arxiv       cosine   len_blocks     len_Anth  \\\n",
       "count  1799.000000  1799.000000  1799.000000  1799.000000  1799.000000   \n",
       "mean     10.495275    10.503057     0.958994   130.876042   141.816565   \n",
       "std       3.940302     3.906565     0.087035    85.302463    77.730852   \n",
       "min       3.000000     3.000000     0.308500     1.000000     1.000000   \n",
       "25%       8.000000     8.000000     0.966810    68.500000    84.000000   \n",
       "50%      10.000000    10.000000     0.997527   127.000000   133.000000   \n",
       "75%      12.000000    12.000000     0.999667   190.000000   193.000000   \n",
       "max      55.000000    54.000000     1.000000   696.000000   696.000000   \n",
       "\n",
       "         len_Arxiv     len_both      Jaccard  \n",
       "count  1799.000000  1799.000000  1799.000000  \n",
       "mean    142.230128   141.814897     0.907562  \n",
       "std      77.628586    77.733885     0.147273  \n",
       "min       1.000000     0.000000     0.005949  \n",
       "25%      84.000000    84.000000     0.896704  \n",
       "50%     134.000000   133.000000     0.982561  \n",
       "75%     193.000000   193.000000     0.990166  \n",
       "max     696.000000   696.000000     1.000000  "
      ]
     },
     "execution_count": 91,
     "metadata": {},
     "output_type": "execute_result"
    }
   ],
   "source": [
    "sample.describe()"
   ]
  },
  {
   "cell_type": "code",
   "execution_count": 95,
   "id": "9c82ef3f",
   "metadata": {},
   "outputs": [
    {
     "data": {
      "text/plain": [
       "count    10.000000\n",
       "mean      0.800518\n",
       "std       0.058344\n",
       "min       0.698223\n",
       "25%       0.761448\n",
       "50%       0.816194\n",
       "75%       0.835519\n",
       "max       0.895097\n",
       "Name: cosine, dtype: float64"
      ]
     },
     "execution_count": 95,
     "metadata": {},
     "output_type": "execute_result"
    }
   ],
   "source": [
    "ran_sample.cosine.describe()"
   ]
  },
  {
   "cell_type": "markdown",
   "id": "ac72220c",
   "metadata": {},
   "source": [
    "# Reference figures"
   ]
  },
  {
   "cell_type": "code",
   "execution_count": 11,
   "id": "20e643d4",
   "metadata": {},
   "outputs": [
    {
     "data": {
      "text/plain": [
       "(2000, 201, 5, 5)"
      ]
     },
     "execution_count": 11,
     "metadata": {},
     "output_type": "execute_result"
    }
   ],
   "source": [
    "len(sample), len(sample[sample['ref_Anth'].isna()]), len(sample[sample['ref_Anth']=='NF']), len(sample[sample['ref_Arxiv']=='NF'])\n"
   ]
  },
  {
   "cell_type": "code",
   "execution_count": 138,
   "id": "1dffbf42",
   "metadata": {},
   "outputs": [],
   "source": [
    "ref = sample[['ref_Anth', 'ref_Arxiv', 'cosine', 'Jaccard']]\n",
    "ref = ref[ref['ref_Anth']!='NF']\n",
    "ref = ref.dropna()\n",
    "ref[['ref_Anth', 'ref_Arxiv']] = ref[['ref_Anth', 'ref_Arxiv']].astype(float).astype(int)\n",
    "ref['dif'] = ref['ref_Anth']-ref['ref_Arxiv']"
   ]
  },
  {
   "cell_type": "code",
   "execution_count": 156,
   "id": "9a892864",
   "metadata": {},
   "outputs": [
    {
     "data": {
      "text/html": [
       "<div>\n",
       "<style scoped>\n",
       "    .dataframe tbody tr th:only-of-type {\n",
       "        vertical-align: middle;\n",
       "    }\n",
       "\n",
       "    .dataframe tbody tr th {\n",
       "        vertical-align: top;\n",
       "    }\n",
       "\n",
       "    .dataframe thead th {\n",
       "        text-align: right;\n",
       "    }\n",
       "</style>\n",
       "<table border=\"1\" class=\"dataframe\">\n",
       "  <thead>\n",
       "    <tr style=\"text-align: right;\">\n",
       "      <th></th>\n",
       "      <th>ref_Anth</th>\n",
       "      <th>ref_Arxiv</th>\n",
       "      <th>cosine</th>\n",
       "      <th>Jaccard</th>\n",
       "      <th>dif</th>\n",
       "    </tr>\n",
       "  </thead>\n",
       "  <tbody>\n",
       "    <tr>\n",
       "      <th>count</th>\n",
       "      <td>1794.000000</td>\n",
       "      <td>1794.00000</td>\n",
       "      <td>1794.000000</td>\n",
       "      <td>1794.000000</td>\n",
       "      <td>1794.000000</td>\n",
       "    </tr>\n",
       "    <tr>\n",
       "      <th>mean</th>\n",
       "      <td>70.759197</td>\n",
       "      <td>68.06243</td>\n",
       "      <td>0.959499</td>\n",
       "      <td>0.908649</td>\n",
       "      <td>2.696767</td>\n",
       "    </tr>\n",
       "    <tr>\n",
       "      <th>std</th>\n",
       "      <td>76.887000</td>\n",
       "      <td>83.66064</td>\n",
       "      <td>0.085446</td>\n",
       "      <td>0.144421</td>\n",
       "      <td>55.873468</td>\n",
       "    </tr>\n",
       "    <tr>\n",
       "      <th>min</th>\n",
       "      <td>3.000000</td>\n",
       "      <td>1.00000</td>\n",
       "      <td>0.352412</td>\n",
       "      <td>0.183673</td>\n",
       "      <td>-956.000000</td>\n",
       "    </tr>\n",
       "    <tr>\n",
       "      <th>25%</th>\n",
       "      <td>31.000000</td>\n",
       "      <td>29.00000</td>\n",
       "      <td>0.967024</td>\n",
       "      <td>0.897696</td>\n",
       "      <td>1.000000</td>\n",
       "    </tr>\n",
       "    <tr>\n",
       "      <th>50%</th>\n",
       "      <td>46.000000</td>\n",
       "      <td>43.00000</td>\n",
       "      <td>0.997537</td>\n",
       "      <td>0.982570</td>\n",
       "      <td>2.000000</td>\n",
       "    </tr>\n",
       "    <tr>\n",
       "      <th>75%</th>\n",
       "      <td>80.000000</td>\n",
       "      <td>75.75000</td>\n",
       "      <td>0.999667</td>\n",
       "      <td>0.990173</td>\n",
       "      <td>5.000000</td>\n",
       "    </tr>\n",
       "    <tr>\n",
       "      <th>max</th>\n",
       "      <td>1145.000000</td>\n",
       "      <td>1160.00000</td>\n",
       "      <td>1.000000</td>\n",
       "      <td>1.000000</td>\n",
       "      <td>484.000000</td>\n",
       "    </tr>\n",
       "  </tbody>\n",
       "</table>\n",
       "</div>"
      ],
      "text/plain": [
       "          ref_Anth   ref_Arxiv       cosine      Jaccard          dif\n",
       "count  1794.000000  1794.00000  1794.000000  1794.000000  1794.000000\n",
       "mean     70.759197    68.06243     0.959499     0.908649     2.696767\n",
       "std      76.887000    83.66064     0.085446     0.144421    55.873468\n",
       "min       3.000000     1.00000     0.352412     0.183673  -956.000000\n",
       "25%      31.000000    29.00000     0.967024     0.897696     1.000000\n",
       "50%      46.000000    43.00000     0.997537     0.982570     2.000000\n",
       "75%      80.000000    75.75000     0.999667     0.990173     5.000000\n",
       "max    1145.000000  1160.00000     1.000000     1.000000   484.000000"
      ]
     },
     "execution_count": 156,
     "metadata": {},
     "output_type": "execute_result"
    }
   ],
   "source": [
    "ref.describe()"
   ]
  },
  {
   "cell_type": "code",
   "execution_count": 16,
   "id": "31c4ff72",
   "metadata": {},
   "outputs": [
    {
     "data": {
      "text/plain": [
       "<AxesSubplot:xlabel='ref_Anth', ylabel='ref_Arxiv'>"
      ]
     },
     "execution_count": 16,
     "metadata": {},
     "output_type": "execute_result"
    },
    {
     "data": {
      "image/png": "[encoded data removed]",
      "text/plain": [
       "<Figure size 432x288 with 1 Axes>"
      ]
     },
     "metadata": {
      "needs_background": "light"
     },
     "output_type": "display_data"
    },
    {
     "data": {
      "image/png": "[encoded data removed]",
      "text/plain": [
       "<Figure size 432x288 with 1 Axes>"
      ]
     },
     "metadata": {
      "needs_background": "light"
     },
     "output_type": "display_data"
    }
   ],
   "source": [
    "ref.plot('ref_Anth', 'ref_Arxiv', kind='scatter')\n",
    "ref.plot('ref_Anth', 'ref_Arxiv', kind='scatter', xlim=[0,300], ylim=[0,300])\n"
   ]
  },
  {
   "cell_type": "code",
   "execution_count": 130,
   "id": "a52556b1",
   "metadata": {},
   "outputs": [
    {
     "data": {
      "text/plain": [
       "[<matplotlib.lines.Line2D at 0x19e7d0e8820>]"
      ]
     },
     "execution_count": 130,
     "metadata": {},
     "output_type": "execute_result"
    },
    {
     "data": {
      "image/png": "[encoded data removed]",
      "text/plain": [
       "<Figure size 432x288 with 1 Axes>"
      ]
     },
     "metadata": {
      "needs_background": "light"
     },
     "output_type": "display_data"
    }
   ],
   "source": [
    "ref2 = ref[ref['ref_Anth']<100]\n",
    "ref2 = ref2[ref2['ref_Arxiv']<100]\n",
    "plt.pyplot.plot(ref2['ref_Anth'],ref2['ref_Arxiv'], 'o',alpha=0.1)"
   ]
  },
  {
   "cell_type": "code",
   "execution_count": 121,
   "id": "7601f512",
   "metadata": {},
   "outputs": [
    {
     "data": {
      "text/html": [
       "<div>\n",
       "<style scoped>\n",
       "    .dataframe tbody tr th:only-of-type {\n",
       "        vertical-align: middle;\n",
       "    }\n",
       "\n",
       "    .dataframe tbody tr th {\n",
       "        vertical-align: top;\n",
       "    }\n",
       "\n",
       "    .dataframe thead th {\n",
       "        text-align: right;\n",
       "    }\n",
       "</style>\n",
       "<table border=\"1\" class=\"dataframe\">\n",
       "  <thead>\n",
       "    <tr style=\"text-align: right;\">\n",
       "      <th></th>\n",
       "      <th>ref_Anth</th>\n",
       "      <th>ref_Arxiv</th>\n",
       "      <th>cosine</th>\n",
       "      <th>dif</th>\n",
       "    </tr>\n",
       "  </thead>\n",
       "  <tbody>\n",
       "    <tr>\n",
       "      <th>0</th>\n",
       "      <td>103</td>\n",
       "      <td>98</td>\n",
       "      <td>0.999025</td>\n",
       "      <td>5</td>\n",
       "    </tr>\n",
       "    <tr>\n",
       "      <th>1</th>\n",
       "      <td>10</td>\n",
       "      <td>9</td>\n",
       "      <td>0.999497</td>\n",
       "      <td>1</td>\n",
       "    </tr>\n",
       "  </tbody>\n",
       "</table>\n",
       "</div>"
      ],
      "text/plain": [
       "   ref_Anth  ref_Arxiv    cosine  dif\n",
       "0       103         98  0.999025    5\n",
       "1        10          9  0.999497    1"
      ]
     },
     "execution_count": 121,
     "metadata": {},
     "output_type": "execute_result"
    }
   ],
   "source": [
    "ref.head(2)"
   ]
  },
  {
   "cell_type": "code",
   "execution_count": 43,
   "id": "6e8c99c9",
   "metadata": {},
   "outputs": [
    {
     "data": {
      "text/plain": [
       "count    1794.000000\n",
       "mean        2.696767\n",
       "std        55.873468\n",
       "min      -956.000000\n",
       "25%         1.000000\n",
       "50%         2.000000\n",
       "75%         5.000000\n",
       "max       484.000000\n",
       "Name: dif, dtype: float64"
      ]
     },
     "execution_count": 43,
     "metadata": {},
     "output_type": "execute_result"
    }
   ],
   "source": [
    "ref['dif'].describe()"
   ]
  },
  {
   "cell_type": "code",
   "execution_count": 126,
   "id": "2f87ef2d",
   "metadata": {},
   "outputs": [
    {
     "data": {
      "image/png": "[encoded data removed]",
      "text/plain": [
       "<Figure size 432x288 with 1 Axes>"
      ]
     },
     "metadata": {
      "needs_background": "light"
     },
     "output_type": "display_data"
    },
    {
     "data": {
      "image/png": "[encoded data removed]",
      "text/plain": [
       "<Figure size 432x288 with 1 Axes>"
      ]
     },
     "metadata": {
      "needs_background": "light"
     },
     "output_type": "display_data"
    }
   ],
   "source": [
    "ref['dif'].plot(kind='density', xlim = [-200,200])\n",
    "plt.pyplot.plot([0, 0], [0, 0.03])\n",
    "plt.pyplot.show()\n",
    "\n",
    "ref['dif'].plot(kind='density')\n",
    "plt.pyplot.plot([0, 0], [0, 0.03])\n",
    "plt.pyplot.show()"
   ]
  },
  {
   "cell_type": "code",
   "execution_count": 125,
   "id": "2f671648",
   "metadata": {},
   "outputs": [
    {
     "data": {
      "text/plain": [
       "<AxesSubplot:xlabel='dif', ylabel='ref_Anth'>"
      ]
     },
     "execution_count": 125,
     "metadata": {},
     "output_type": "execute_result"
    },
    {
     "data": {
      "image/png": "[encoded data removed]",
      "text/plain": [
       "<Figure size 432x288 with 1 Axes>"
      ]
     },
     "metadata": {
      "needs_background": "light"
     },
     "output_type": "display_data"
    },
    {
     "data": {
      "image/png": "[encoded data removed]",
      "text/plain": [
       "<Figure size 432x288 with 1 Axes>"
      ]
     },
     "metadata": {
      "needs_background": "light"
     },
     "output_type": "display_data"
    }
   ],
   "source": [
    "ref.groupby('dif').count().reset_index().plot(x='dif', y='ref_Anth', kind='scatter', alpha = 1, xlim=[-10,10], ylim=[0,200])\n",
    "ref.groupby('dif').count().reset_index().plot(x='dif', y='ref_Anth', kind='scatter', alpha = 0.1,)\n"
   ]
  },
  {
   "cell_type": "code",
   "execution_count": 141,
   "id": "d69fb16a",
   "metadata": {},
   "outputs": [
    {
     "data": {
      "text/html": [
       "<div>\n",
       "<style scoped>\n",
       "    .dataframe tbody tr th:only-of-type {\n",
       "        vertical-align: middle;\n",
       "    }\n",
       "\n",
       "    .dataframe tbody tr th {\n",
       "        vertical-align: top;\n",
       "    }\n",
       "\n",
       "    .dataframe thead th {\n",
       "        text-align: right;\n",
       "    }\n",
       "</style>\n",
       "<table border=\"1\" class=\"dataframe\">\n",
       "  <thead>\n",
       "    <tr style=\"text-align: right;\">\n",
       "      <th></th>\n",
       "      <th>ref_Anth</th>\n",
       "      <th>ref_Arxiv</th>\n",
       "      <th>cosine</th>\n",
       "      <th>Jaccard</th>\n",
       "      <th>dif</th>\n",
       "    </tr>\n",
       "  </thead>\n",
       "  <tbody>\n",
       "    <tr>\n",
       "      <th>0</th>\n",
       "      <td>103</td>\n",
       "      <td>98</td>\n",
       "      <td>0.999025</td>\n",
       "      <td>0.993084</td>\n",
       "      <td>5</td>\n",
       "    </tr>\n",
       "    <tr>\n",
       "      <th>1</th>\n",
       "      <td>10</td>\n",
       "      <td>9</td>\n",
       "      <td>0.999497</td>\n",
       "      <td>0.975108</td>\n",
       "      <td>1</td>\n",
       "    </tr>\n",
       "    <tr>\n",
       "      <th>2</th>\n",
       "      <td>52</td>\n",
       "      <td>52</td>\n",
       "      <td>0.910497</td>\n",
       "      <td>0.981017</td>\n",
       "      <td>0</td>\n",
       "    </tr>\n",
       "    <tr>\n",
       "      <th>4</th>\n",
       "      <td>43</td>\n",
       "      <td>41</td>\n",
       "      <td>0.999967</td>\n",
       "      <td>0.991091</td>\n",
       "      <td>2</td>\n",
       "    </tr>\n",
       "    <tr>\n",
       "      <th>5</th>\n",
       "      <td>65</td>\n",
       "      <td>40</td>\n",
       "      <td>0.997437</td>\n",
       "      <td>0.829216</td>\n",
       "      <td>25</td>\n",
       "    </tr>\n",
       "    <tr>\n",
       "      <th>...</th>\n",
       "      <td>...</td>\n",
       "      <td>...</td>\n",
       "      <td>...</td>\n",
       "      <td>...</td>\n",
       "      <td>...</td>\n",
       "    </tr>\n",
       "    <tr>\n",
       "      <th>1995</th>\n",
       "      <td>70</td>\n",
       "      <td>65</td>\n",
       "      <td>0.999369</td>\n",
       "      <td>0.989617</td>\n",
       "      <td>5</td>\n",
       "    </tr>\n",
       "    <tr>\n",
       "      <th>1996</th>\n",
       "      <td>76</td>\n",
       "      <td>44</td>\n",
       "      <td>0.934366</td>\n",
       "      <td>0.396257</td>\n",
       "      <td>32</td>\n",
       "    </tr>\n",
       "    <tr>\n",
       "      <th>1997</th>\n",
       "      <td>35</td>\n",
       "      <td>33</td>\n",
       "      <td>0.999646</td>\n",
       "      <td>0.992841</td>\n",
       "      <td>2</td>\n",
       "    </tr>\n",
       "    <tr>\n",
       "      <th>1998</th>\n",
       "      <td>13</td>\n",
       "      <td>17</td>\n",
       "      <td>0.996497</td>\n",
       "      <td>0.978793</td>\n",
       "      <td>-4</td>\n",
       "    </tr>\n",
       "    <tr>\n",
       "      <th>1999</th>\n",
       "      <td>94</td>\n",
       "      <td>91</td>\n",
       "      <td>0.975993</td>\n",
       "      <td>0.985747</td>\n",
       "      <td>3</td>\n",
       "    </tr>\n",
       "  </tbody>\n",
       "</table>\n",
       "<p>1794 rows × 5 columns</p>\n",
       "</div>"
      ],
      "text/plain": [
       "      ref_Anth  ref_Arxiv    cosine   Jaccard  dif\n",
       "0          103         98  0.999025  0.993084    5\n",
       "1           10          9  0.999497  0.975108    1\n",
       "2           52         52  0.910497  0.981017    0\n",
       "4           43         41  0.999967  0.991091    2\n",
       "5           65         40  0.997437  0.829216   25\n",
       "...        ...        ...       ...       ...  ...\n",
       "1995        70         65  0.999369  0.989617    5\n",
       "1996        76         44  0.934366  0.396257   32\n",
       "1997        35         33  0.999646  0.992841    2\n",
       "1998        13         17  0.996497  0.978793   -4\n",
       "1999        94         91  0.975993  0.985747    3\n",
       "\n",
       "[1794 rows x 5 columns]"
      ]
     },
     "execution_count": 141,
     "metadata": {},
     "output_type": "execute_result"
    }
   ],
   "source": [
    "ref"
   ]
  },
  {
   "cell_type": "code",
   "execution_count": 151,
   "id": "7a8be06f",
   "metadata": {
    "scrolled": true
   },
   "outputs": [
    {
     "data": {
      "text/plain": [
       "<AxesSubplot:xlabel='dif', ylabel='Jaccard'>"
      ]
     },
     "execution_count": 151,
     "metadata": {},
     "output_type": "execute_result"
    },
    {
     "data": {
      "image/png": "[encoded data removed]",
      "text/plain": [
       "<Figure size 432x288 with 1 Axes>"
      ]
     },
     "metadata": {
      "needs_background": "light"
     },
     "output_type": "display_data"
    }
   ],
   "source": [
    "# plt.pyplot.plot('dif', 'Jaccard', 'o',data = ref)\n",
    "ref.plot('dif', 'Jaccard', kind='scatter', alpha = 0.5)"
   ]
  },
  {
   "cell_type": "code",
   "execution_count": 152,
   "id": "db5749c2",
   "metadata": {},
   "outputs": [
    {
     "data": {
      "text/plain": [
       "<AxesSubplot:xlabel='dif', ylabel='cosine'>"
      ]
     },
     "execution_count": 152,
     "metadata": {},
     "output_type": "execute_result"
    },
    {
     "data": {
      "image/png": "[encoded data removed]",
      "text/plain": [
       "<Figure size 432x288 with 1 Axes>"
      ]
     },
     "metadata": {
      "needs_background": "light"
     },
     "output_type": "display_data"
    }
   ],
   "source": [
    "ref.plot('dif', 'cosine', kind='scatter', alpha = 0.5)\n",
    "                                             "
   ]
  },
  {
   "cell_type": "markdown",
   "id": "108d8347",
   "metadata": {},
   "source": [
    "# End ref"
   ]
  },
  {
   "cell_type": "markdown",
   "id": "454f32f2",
   "metadata": {},
   "source": [
    "# start scatter matrix"
   ]
  },
  {
   "cell_type": "code",
   "execution_count": 158,
   "id": "b8900b84",
   "metadata": {},
   "outputs": [
    {
     "data": {
      "text/plain": [
       "Index(['title', 'year', 'month', 'url', 'title_Arxiv', 'pdf_url_Arxiv',\n",
       "       'published_Arxiv', 'result_Arxiv', 'Succes', 'w_Anth', 'w_Arxiv',\n",
       "       'w_both', 'pages_Anth', 'pages_Arxiv', 'cosine', 'len_blocks',\n",
       "       'len_Anth', 'len_Arxiv', 'len_both', 'ref_Anth', 'ref_Arxiv',\n",
       "       'Jaccard'],\n",
       "      dtype='object')"
      ]
     },
     "execution_count": 158,
     "metadata": {},
     "output_type": "execute_result"
    }
   ],
   "source": [
    "sample.columns"
   ]
  },
  {
   "cell_type": "code",
   "execution_count": 171,
   "id": "5396b724",
   "metadata": {},
   "outputs": [
    {
     "data": {
      "text/html": [
       "<div>\n",
       "<style scoped>\n",
       "    .dataframe tbody tr th:only-of-type {\n",
       "        vertical-align: middle;\n",
       "    }\n",
       "\n",
       "    .dataframe tbody tr th {\n",
       "        vertical-align: top;\n",
       "    }\n",
       "\n",
       "    .dataframe thead th {\n",
       "        text-align: right;\n",
       "    }\n",
       "</style>\n",
       "<table border=\"1\" class=\"dataframe\">\n",
       "  <thead>\n",
       "    <tr style=\"text-align: right;\">\n",
       "      <th></th>\n",
       "      <th>year</th>\n",
       "      <th>Succes</th>\n",
       "      <th>w_Anth</th>\n",
       "      <th>w_Arxiv</th>\n",
       "      <th>w_both</th>\n",
       "      <th>pages_Anth</th>\n",
       "      <th>pages_Arxiv</th>\n",
       "      <th>cosine</th>\n",
       "      <th>len_blocks</th>\n",
       "      <th>len_Anth</th>\n",
       "      <th>len_Arxiv</th>\n",
       "      <th>len_both</th>\n",
       "      <th>Jaccard</th>\n",
       "    </tr>\n",
       "  </thead>\n",
       "  <tbody>\n",
       "    <tr>\n",
       "      <th>count</th>\n",
       "      <td>2000.000000</td>\n",
       "      <td>2000.000000</td>\n",
       "      <td>1799.000000</td>\n",
       "      <td>1799.000000</td>\n",
       "      <td>1799.000000</td>\n",
       "      <td>1799.000000</td>\n",
       "      <td>1799.000000</td>\n",
       "      <td>1799.000000</td>\n",
       "      <td>1799.000000</td>\n",
       "      <td>1799.000000</td>\n",
       "      <td>1799.000000</td>\n",
       "      <td>1799.000000</td>\n",
       "      <td>1799.000000</td>\n",
       "    </tr>\n",
       "    <tr>\n",
       "      <th>mean</th>\n",
       "      <td>2019.339000</td>\n",
       "      <td>0.899500</td>\n",
       "      <td>6256.074486</td>\n",
       "      <td>6143.641467</td>\n",
       "      <td>4109.546415</td>\n",
       "      <td>10.495275</td>\n",
       "      <td>10.503057</td>\n",
       "      <td>0.958994</td>\n",
       "      <td>130.876042</td>\n",
       "      <td>141.816565</td>\n",
       "      <td>142.230128</td>\n",
       "      <td>141.814897</td>\n",
       "      <td>0.907562</td>\n",
       "    </tr>\n",
       "    <tr>\n",
       "      <th>std</th>\n",
       "      <td>1.580927</td>\n",
       "      <td>0.300741</td>\n",
       "      <td>2307.860855</td>\n",
       "      <td>2242.695046</td>\n",
       "      <td>2648.813332</td>\n",
       "      <td>3.940302</td>\n",
       "      <td>3.906565</td>\n",
       "      <td>0.087035</td>\n",
       "      <td>85.302463</td>\n",
       "      <td>77.730852</td>\n",
       "      <td>77.628586</td>\n",
       "      <td>77.733885</td>\n",
       "      <td>0.147273</td>\n",
       "    </tr>\n",
       "    <tr>\n",
       "      <th>min</th>\n",
       "      <td>2014.000000</td>\n",
       "      <td>0.000000</td>\n",
       "      <td>502.000000</td>\n",
       "      <td>1375.000000</td>\n",
       "      <td>0.000000</td>\n",
       "      <td>3.000000</td>\n",
       "      <td>3.000000</td>\n",
       "      <td>0.308500</td>\n",
       "      <td>1.000000</td>\n",
       "      <td>1.000000</td>\n",
       "      <td>1.000000</td>\n",
       "      <td>0.000000</td>\n",
       "      <td>0.005949</td>\n",
       "    </tr>\n",
       "    <tr>\n",
       "      <th>25%</th>\n",
       "      <td>2018.000000</td>\n",
       "      <td>1.000000</td>\n",
       "      <td>4444.000000</td>\n",
       "      <td>4432.000000</td>\n",
       "      <td>1794.000000</td>\n",
       "      <td>8.000000</td>\n",
       "      <td>8.000000</td>\n",
       "      <td>0.966810</td>\n",
       "      <td>68.500000</td>\n",
       "      <td>84.000000</td>\n",
       "      <td>84.000000</td>\n",
       "      <td>84.000000</td>\n",
       "      <td>0.896704</td>\n",
       "    </tr>\n",
       "    <tr>\n",
       "      <th>50%</th>\n",
       "      <td>2020.000000</td>\n",
       "      <td>1.000000</td>\n",
       "      <td>6273.000000</td>\n",
       "      <td>6148.000000</td>\n",
       "      <td>3990.000000</td>\n",
       "      <td>10.000000</td>\n",
       "      <td>10.000000</td>\n",
       "      <td>0.997527</td>\n",
       "      <td>127.000000</td>\n",
       "      <td>133.000000</td>\n",
       "      <td>134.000000</td>\n",
       "      <td>133.000000</td>\n",
       "      <td>0.982561</td>\n",
       "    </tr>\n",
       "    <tr>\n",
       "      <th>75%</th>\n",
       "      <td>2021.000000</td>\n",
       "      <td>1.000000</td>\n",
       "      <td>7406.000000</td>\n",
       "      <td>7282.000000</td>\n",
       "      <td>6180.000000</td>\n",
       "      <td>12.000000</td>\n",
       "      <td>12.000000</td>\n",
       "      <td>0.999667</td>\n",
       "      <td>190.000000</td>\n",
       "      <td>193.000000</td>\n",
       "      <td>193.000000</td>\n",
       "      <td>193.000000</td>\n",
       "      <td>0.990166</td>\n",
       "    </tr>\n",
       "    <tr>\n",
       "      <th>max</th>\n",
       "      <td>2021.000000</td>\n",
       "      <td>1.000000</td>\n",
       "      <td>29143.000000</td>\n",
       "      <td>28067.000000</td>\n",
       "      <td>25440.000000</td>\n",
       "      <td>55.000000</td>\n",
       "      <td>54.000000</td>\n",
       "      <td>1.000000</td>\n",
       "      <td>696.000000</td>\n",
       "      <td>696.000000</td>\n",
       "      <td>696.000000</td>\n",
       "      <td>696.000000</td>\n",
       "      <td>1.000000</td>\n",
       "    </tr>\n",
       "  </tbody>\n",
       "</table>\n",
       "</div>"
      ],
      "text/plain": [
       "              year       Succes        w_Anth       w_Arxiv        w_both  \\\n",
       "count  2000.000000  2000.000000   1799.000000   1799.000000   1799.000000   \n",
       "mean   2019.339000     0.899500   6256.074486   6143.641467   4109.546415   \n",
       "std       1.580927     0.300741   2307.860855   2242.695046   2648.813332   \n",
       "min    2014.000000     0.000000    502.000000   1375.000000      0.000000   \n",
       "25%    2018.000000     1.000000   4444.000000   4432.000000   1794.000000   \n",
       "50%    2020.000000     1.000000   6273.000000   6148.000000   3990.000000   \n",
       "75%    2021.000000     1.000000   7406.000000   7282.000000   6180.000000   \n",
       "max    2021.000000     1.000000  29143.000000  28067.000000  25440.000000   \n",
       "\n",
       "        pages_Anth  pages_Arxiv       cosine   len_blocks     len_Anth  \\\n",
       "count  1799.000000  1799.000000  1799.000000  1799.000000  1799.000000   \n",
       "mean     10.495275    10.503057     0.958994   130.876042   141.816565   \n",
       "std       3.940302     3.906565     0.087035    85.302463    77.730852   \n",
       "min       3.000000     3.000000     0.308500     1.000000     1.000000   \n",
       "25%       8.000000     8.000000     0.966810    68.500000    84.000000   \n",
       "50%      10.000000    10.000000     0.997527   127.000000   133.000000   \n",
       "75%      12.000000    12.000000     0.999667   190.000000   193.000000   \n",
       "max      55.000000    54.000000     1.000000   696.000000   696.000000   \n",
       "\n",
       "         len_Arxiv     len_both      Jaccard  \n",
       "count  1799.000000  1799.000000  1799.000000  \n",
       "mean    142.230128   141.814897     0.907562  \n",
       "std      77.628586    77.733885     0.147273  \n",
       "min       1.000000     0.000000     0.005949  \n",
       "25%      84.000000    84.000000     0.896704  \n",
       "50%     134.000000   133.000000     0.982561  \n",
       "75%     193.000000   193.000000     0.990166  \n",
       "max     696.000000   696.000000     1.000000  "
      ]
     },
     "execution_count": 171,
     "metadata": {},
     "output_type": "execute_result"
    }
   ],
   "source": [
    "sample.describe()"
   ]
  },
  {
   "cell_type": "code",
   "execution_count": 182,
   "id": "edac94d4",
   "metadata": {},
   "outputs": [],
   "source": [
    "x[['dif']] = sample['pages_Anth']-sample['pages_Arxiv']"
   ]
  },
  {
   "cell_type": "code",
   "execution_count": 210,
   "id": "9cc7c525",
   "metadata": {},
   "outputs": [
    {
     "data": {
      "text/plain": [
       "<AxesSubplot:>"
      ]
     },
     "execution_count": 210,
     "metadata": {},
     "output_type": "execute_result"
    },
    {
     "data": {
      "image/png": "[encoded data removed]",
      "text/plain": [
       "<Figure size 432x288 with 1 Axes>"
      ]
     },
     "metadata": {
      "needs_background": "light"
     },
     "output_type": "display_data"
    }
   ],
   "source": [
    "x.plot()"
   ]
  },
  {
   "cell_type": "code",
   "execution_count": null,
   "id": "0cb2b985",
   "metadata": {},
   "outputs": [],
   "source": []
  },
  {
   "cell_type": "code",
   "execution_count": 215,
   "id": "663a40b1",
   "metadata": {
    "scrolled": false
   },
   "outputs": [
    {
     "data": {
      "image/png": "[encoded data removed]",
      "text/plain": [
       "<Figure size 432x288 with 1 Axes>"
      ]
     },
     "metadata": {
      "needs_background": "light"
     },
     "output_type": "display_data"
    },
    {
     "data": {
      "image/png": "[encoded data removed]",
      "text/plain": [
       "<Figure size 432x288 with 1 Axes>"
      ]
     },
     "metadata": {
      "needs_background": "light"
     },
     "output_type": "display_data"
    }
   ],
   "source": [
    "# plot pages Anth and pages Arxiv\n",
    "sample.plot('pages_Arxiv', 'pages_Anth', kind='scatter',alpha=0.1)\n",
    "plt.pyplot.plot([0, 55], [0, 55], c='r')\n",
    "plt.pyplot.show()\n",
    "sample.plot('pages_Arxiv', 'pages_Anth', kind='scatter',xlim=[0,25], ylim=[0,25],alpha=0.1)\n",
    "plt.pyplot.plot([0, 55], [0, 55], c='r')\n",
    "plt.pyplot.show()"
   ]
  },
  {
   "cell_type": "code",
   "execution_count": 216,
   "id": "454c1949",
   "metadata": {},
   "outputs": [
    {
     "data": {
      "text/plain": [
       "Index(['title', 'year', 'month', 'url', 'title_Arxiv', 'pdf_url_Arxiv',\n",
       "       'published_Arxiv', 'result_Arxiv', 'Succes', 'w_Anth', 'w_Arxiv',\n",
       "       'w_both', 'pages_Anth', 'pages_Arxiv', 'cosine', 'len_blocks',\n",
       "       'len_Anth', 'len_Arxiv', 'len_both', 'ref_Anth', 'ref_Arxiv',\n",
       "       'Jaccard'],\n",
       "      dtype='object')"
      ]
     },
     "execution_count": 216,
     "metadata": {},
     "output_type": "execute_result"
    }
   ],
   "source": [
    "sample.columns"
   ]
  },
  {
   "cell_type": "code",
   "execution_count": 220,
   "id": "2df3a39c",
   "metadata": {},
   "outputs": [
    {
     "data": {
      "image/png": "[encoded data removed]",
      "text/plain": [
       "<Figure size 432x288 with 16 Axes>"
      ]
     },
     "metadata": {
      "needs_background": "light"
     },
     "output_type": "display_data"
    }
   ],
   "source": [
    "# ['title', 'year', 'month', 'url', 'title_Arxiv', 'pdf_url_Arxiv',\n",
    "#        'published_Arxiv', 'result_Arxiv', 'Succes', 'w_Anth', 'w_Arxiv',\n",
    "#        'w_both', 'pages_Anth', 'pages_Arxiv', 'cosine', 'len_blocks',\n",
    "#        'len_Anth', 'len_Arxiv', 'len_both', 'ref_Anth', 'ref_Arxiv',\n",
    "#        'Jaccard'],\n",
    "\n",
    "#'w_Anth'\n",
    "#'pages_Anth'\n",
    "#'cosine'\n",
    "#'ref_Anth'\n",
    "#'Jaccard'\n",
    "\n",
    "pd.plotting.scatter_matrix(sample[['w_Anth','pages_Anth','cosine','Jaccard']], alpha=0.2);"
   ]
  },
  {
   "cell_type": "markdown",
   "id": "456f0e8c",
   "metadata": {},
   "source": [
    "# start "
   ]
  },
  {
   "cell_type": "code",
   "execution_count": 226,
   "id": "e75b876a",
   "metadata": {
    "scrolled": true
   },
   "outputs": [
    {
     "data": {
      "image/png": "[encoded data removed]",
      "text/plain": [
       "<Figure size 432x288 with 1 Axes>"
      ]
     },
     "metadata": {
      "needs_background": "light"
     },
     "output_type": "display_data"
    }
   ],
   "source": [
    "# sample['len_blocks'].unique(), len(sample['len_blocks'].unique())\n",
    "sample['len_blocks'].plot(kind = 'density')\n",
    "plt.pyplot.plot([0, 0], [0, 0.004], c='r')\n",
    "plt.pyplot.show()"
   ]
  },
  {
   "cell_type": "code",
   "execution_count": 227,
   "id": "22f2b389",
   "metadata": {},
   "outputs": [
    {
     "data": {
      "text/plain": [
       "count    1799.000000\n",
       "mean      130.876042\n",
       "std        85.302463\n",
       "min         1.000000\n",
       "25%        68.500000\n",
       "50%       127.000000\n",
       "75%       190.000000\n",
       "max       696.000000\n",
       "Name: len_blocks, dtype: float64"
      ]
     },
     "execution_count": 227,
     "metadata": {},
     "output_type": "execute_result"
    }
   ],
   "source": [
    "sample['len_blocks'].describe()"
   ]
  },
  {
   "cell_type": "code",
   "execution_count": 233,
   "id": "34d68720",
   "metadata": {},
   "outputs": [
    {
     "data": {
      "text/plain": [
       "201"
      ]
     },
     "execution_count": 233,
     "metadata": {},
     "output_type": "execute_result"
    }
   ],
   "source": [
    "sample.cosine.isna().sum()"
   ]
  },
  {
   "cell_type": "code",
   "execution_count": 242,
   "id": "18a78d06",
   "metadata": {},
   "outputs": [
    {
     "data": {
      "text/plain": [
       "<AxesSubplot:title={'center':'Density plot cosin score of papers'}, ylabel='Density'>"
      ]
     },
     "execution_count": 242,
     "metadata": {},
     "output_type": "execute_result"
    },
    {
     "data": {
      "image/png": "[encoded data removed]",
      "text/plain": [
       "<Figure size 432x288 with 1 Axes>"
      ]
     },
     "metadata": {
      "needs_background": "light"
     },
     "output_type": "display_data"
    }
   ],
   "source": [
    "sample['cosine'].plot(kind= 'density', title= 'Density plot cosin score of papers')"
   ]
  },
  {
   "cell_type": "code",
   "execution_count": 243,
   "id": "fdf9e48e",
   "metadata": {},
   "outputs": [
    {
     "data": {
      "text/html": [
       "<div>\n",
       "<style scoped>\n",
       "    .dataframe tbody tr th:only-of-type {\n",
       "        vertical-align: middle;\n",
       "    }\n",
       "\n",
       "    .dataframe tbody tr th {\n",
       "        vertical-align: top;\n",
       "    }\n",
       "\n",
       "    .dataframe thead th {\n",
       "        text-align: right;\n",
       "    }\n",
       "</style>\n",
       "<table border=\"1\" class=\"dataframe\">\n",
       "  <thead>\n",
       "    <tr style=\"text-align: right;\">\n",
       "      <th></th>\n",
       "      <th>year</th>\n",
       "      <th>month</th>\n",
       "      <th>published_Arxiv</th>\n",
       "    </tr>\n",
       "  </thead>\n",
       "  <tbody>\n",
       "    <tr>\n",
       "      <th>0</th>\n",
       "      <td>2021</td>\n",
       "      <td>November</td>\n",
       "      <td>2021-09-10 12:13:45+00:00</td>\n",
       "    </tr>\n",
       "    <tr>\n",
       "      <th>1</th>\n",
       "      <td>2015</td>\n",
       "      <td>July</td>\n",
       "      <td>2017-08-19 14:43:50+00:00</td>\n",
       "    </tr>\n",
       "    <tr>\n",
       "      <th>2</th>\n",
       "      <td>2020</td>\n",
       "      <td>July</td>\n",
       "      <td>2020-05-04 17:01:11+00:00</td>\n",
       "    </tr>\n",
       "    <tr>\n",
       "      <th>3</th>\n",
       "      <td>2018</td>\n",
       "      <td>July</td>\n",
       "      <td>2018-01-22 18:58:18+00:00</td>\n",
       "    </tr>\n",
       "    <tr>\n",
       "      <th>4</th>\n",
       "      <td>2019</td>\n",
       "      <td>July</td>\n",
       "      <td>2019-11-20 11:14:07+00:00</td>\n",
       "    </tr>\n",
       "    <tr>\n",
       "      <th>...</th>\n",
       "      <td>...</td>\n",
       "      <td>...</td>\n",
       "      <td>...</td>\n",
       "    </tr>\n",
       "    <tr>\n",
       "      <th>1995</th>\n",
       "      <td>2021</td>\n",
       "      <td>August</td>\n",
       "      <td>2021-06-07 09:56:18+00:00</td>\n",
       "    </tr>\n",
       "    <tr>\n",
       "      <th>1996</th>\n",
       "      <td>2020</td>\n",
       "      <td>November</td>\n",
       "      <td>2020-04-30 16:18:18+00:00</td>\n",
       "    </tr>\n",
       "    <tr>\n",
       "      <th>1997</th>\n",
       "      <td>2020</td>\n",
       "      <td>November</td>\n",
       "      <td>2020-10-03 03:18:52+00:00</td>\n",
       "    </tr>\n",
       "    <tr>\n",
       "      <th>1998</th>\n",
       "      <td>2021</td>\n",
       "      <td>August</td>\n",
       "      <td>2021-06-30 20:04:55+00:00</td>\n",
       "    </tr>\n",
       "    <tr>\n",
       "      <th>1999</th>\n",
       "      <td>2020</td>\n",
       "      <td>December</td>\n",
       "      <td>2020-11-01 02:10:25+00:00</td>\n",
       "    </tr>\n",
       "  </tbody>\n",
       "</table>\n",
       "<p>2000 rows × 3 columns</p>\n",
       "</div>"
      ],
      "text/plain": [
       "      year     month            published_Arxiv\n",
       "0     2021  November  2021-09-10 12:13:45+00:00\n",
       "1     2015      July  2017-08-19 14:43:50+00:00\n",
       "2     2020      July  2020-05-04 17:01:11+00:00\n",
       "3     2018      July  2018-01-22 18:58:18+00:00\n",
       "4     2019      July  2019-11-20 11:14:07+00:00\n",
       "...    ...       ...                        ...\n",
       "1995  2021    August  2021-06-07 09:56:18+00:00\n",
       "1996  2020  November  2020-04-30 16:18:18+00:00\n",
       "1997  2020  November  2020-10-03 03:18:52+00:00\n",
       "1998  2021    August  2021-06-30 20:04:55+00:00\n",
       "1999  2020  December  2020-11-01 02:10:25+00:00\n",
       "\n",
       "[2000 rows x 3 columns]"
      ]
     },
     "execution_count": 243,
     "metadata": {},
     "output_type": "execute_result"
    }
   ],
   "source": [
    "sample[['year', 'month', 'published_Arxiv']]"
   ]
  },
  {
   "cell_type": "markdown",
   "id": "ca424dc4",
   "metadata": {},
   "source": [
    "pd.to_datetime('2021-09-10 12:13:45+00:00'), pd.to_datetime('2021 july'), pd.to_datetime('2019 7'), pd.to_datetime('1999 December'), pd.to_datetime('1800 June')\n"
   ]
  },
  {
   "cell_type": "markdown",
   "id": "2cd71f94",
   "metadata": {},
   "source": [
    "sample['month'].unique()"
   ]
  },
  {
   "cell_type": "markdown",
   "id": "3a498686",
   "metadata": {},
   "source": [
    "not_sample['month'].unique()"
   ]
  },
  {
   "cell_type": "markdown",
   "id": "24f62ff6",
   "metadata": {},
   "source": [
    "'6--9 September'.split('-')[-1], '29 October--3 November'.split('-')[-1]"
   ]
  },
  {
   "cell_type": "markdown",
   "id": "573c45c1",
   "metadata": {},
   "source": [
    "'December 8-9'.split('-')[0], 'May 11{--}13'.split('{')[0], '1{--}3 December'.split('}')[-1]\n"
   ]
  },
  {
   "cell_type": "markdown",
   "id": "6eb68228",
   "metadata": {},
   "source": [
    "sample.month"
   ]
  },
  {
   "cell_type": "markdown",
   "id": "b5cfd652",
   "metadata": {},
   "source": [
    "sample.month.describe(), sample.month.unique()"
   ]
  },
  {
   "cell_type": "code",
   "execution_count": 244,
   "id": "0f89ef0e",
   "metadata": {},
   "outputs": [
    {
     "data": {
      "text/plain": [
       "count         2000\n",
       "unique          23\n",
       "top       November\n",
       "freq           679\n",
       "Name: month, dtype: object"
      ]
     },
     "execution_count": 244,
     "metadata": {},
     "output_type": "execute_result"
    }
   ],
   "source": [
    "arg = {\n",
    "'November': 'November', \n",
    "'July': 'July',\n",
    "'August':'August', \n",
    "'September': 'September',\n",
    "'May': 'May',\n",
    "'June':'June', \n",
    "'October':'October',\n",
    "'April':'April', \n",
    "'December':'December',\n",
    "'12':'12',\n",
    "'February':'February',\n",
    "'March':'March',\n",
    "'19 August':'19 August',\n",
    "'January':'January',\n",
    "'7':'7',\n",
    "'16 October':'16 October',\n",
    "    \n",
    "'October{--}November': 'November',\n",
    "'September{--}October':'October', \n",
    "'1{--}3 December': '3 December', \n",
    "'May 11{--}13': 'May 11',\n",
    "'May{--}June': 'June',\n",
    "\n",
    "'May 31--2 June': '2 June',        \n",
    "'6--9 September': '9 September', \n",
    "'12--13 November': '13 November',    \n",
    "\n",
    "'4--6 December': '6 December',\n",
    "'11--12 September': '12 September', \n",
    "'29 October--3 November':'3 November',\n",
    "'October-November': 'November', \n",
    "'November 2-3': '3 November', \n",
    "'October 29-30': 'October 30',\n",
    "'September 5-8':'September 5-8', \n",
    "'December 8-9': 'December 9', \n",
    "'October 28 - November 1': 'November 1',\n",
    "'December 3-4':'December 4', \n",
    "'15-16 September': '16 September',\n",
    "np.nan : 'NY'\n",
    "}\n",
    "sample['month'].map(arg,na_action='ignore').describe()"
   ]
  },
  {
   "cell_type": "code",
   "execution_count": 255,
   "id": "022e1536",
   "metadata": {
    "scrolled": true
   },
   "outputs": [],
   "source": [
    "time = sample.copy()\n",
    "time['month'].map(arg,na_action='ignore')\n",
    "time['dt_Anth'] = pd.to_datetime(time['year'].astype(str)+ ' '+time['month'].map(arg,na_action='ignore'))\n",
    "time['dt_Arxiv'] = pd.to_datetime(time['published_Arxiv'].apply(lambda s: s[:-15]),utc=False )"
   ]
  },
  {
   "cell_type": "markdown",
   "id": "51514619",
   "metadata": {},
   "source": [
    "sample['Anth_datetime'] = pd.to_datetime(sample['year'].astype(str)+ ' '+sample['month'].map(arg,na_action='ignore'))\n",
    "sample['published_Arxiv'] = pd.to_datetime(sample['published_Arxiv'],utc=False )"
   ]
  },
  {
   "cell_type": "code",
   "execution_count": 256,
   "id": "0fe33bbb",
   "metadata": {
    "scrolled": true
   },
   "outputs": [],
   "source": [
    "time['dif'] = time['dt_Anth']-time['dt_Arxiv']"
   ]
  },
  {
   "cell_type": "code",
   "execution_count": null,
   "id": "bd6e0e5a",
   "metadata": {},
   "outputs": [],
   "source": []
  },
  {
   "cell_type": "code",
   "execution_count": 266,
   "id": "48419c17",
   "metadata": {},
   "outputs": [
    {
     "data": {
      "text/html": [
       "<div>\n",
       "<style scoped>\n",
       "    .dataframe tbody tr th:only-of-type {\n",
       "        vertical-align: middle;\n",
       "    }\n",
       "\n",
       "    .dataframe tbody tr th {\n",
       "        vertical-align: top;\n",
       "    }\n",
       "\n",
       "    .dataframe thead th {\n",
       "        text-align: right;\n",
       "    }\n",
       "</style>\n",
       "<table border=\"1\" class=\"dataframe\">\n",
       "  <thead>\n",
       "    <tr style=\"text-align: right;\">\n",
       "      <th></th>\n",
       "      <th>year</th>\n",
       "      <th>month</th>\n",
       "      <th>dt_Anth</th>\n",
       "      <th>dt_Arxiv</th>\n",
       "      <th>published_Arxiv</th>\n",
       "      <th>dif</th>\n",
       "    </tr>\n",
       "  </thead>\n",
       "  <tbody>\n",
       "    <tr>\n",
       "      <th>0</th>\n",
       "      <td>2021</td>\n",
       "      <td>November</td>\n",
       "      <td>2021-11-01</td>\n",
       "      <td>2021-09-10</td>\n",
       "      <td>2021-09-10 12:13:45+00:00</td>\n",
       "      <td>52 days</td>\n",
       "    </tr>\n",
       "    <tr>\n",
       "      <th>1</th>\n",
       "      <td>2015</td>\n",
       "      <td>July</td>\n",
       "      <td>2015-07-01</td>\n",
       "      <td>2017-08-19</td>\n",
       "      <td>2017-08-19 14:43:50+00:00</td>\n",
       "      <td>-780 days</td>\n",
       "    </tr>\n",
       "    <tr>\n",
       "      <th>2</th>\n",
       "      <td>2020</td>\n",
       "      <td>July</td>\n",
       "      <td>2020-07-01</td>\n",
       "      <td>2020-05-04</td>\n",
       "      <td>2020-05-04 17:01:11+00:00</td>\n",
       "      <td>58 days</td>\n",
       "    </tr>\n",
       "    <tr>\n",
       "      <th>3</th>\n",
       "      <td>2018</td>\n",
       "      <td>July</td>\n",
       "      <td>2018-07-01</td>\n",
       "      <td>2018-01-22</td>\n",
       "      <td>2018-01-22 18:58:18+00:00</td>\n",
       "      <td>160 days</td>\n",
       "    </tr>\n",
       "    <tr>\n",
       "      <th>4</th>\n",
       "      <td>2019</td>\n",
       "      <td>July</td>\n",
       "      <td>2019-07-01</td>\n",
       "      <td>2019-11-20</td>\n",
       "      <td>2019-11-20 11:14:07+00:00</td>\n",
       "      <td>-142 days</td>\n",
       "    </tr>\n",
       "    <tr>\n",
       "      <th>5</th>\n",
       "      <td>2016</td>\n",
       "      <td>August</td>\n",
       "      <td>2016-08-01</td>\n",
       "      <td>2016-03-19</td>\n",
       "      <td>2016-03-19 10:09:53+00:00</td>\n",
       "      <td>135 days</td>\n",
       "    </tr>\n",
       "    <tr>\n",
       "      <th>6</th>\n",
       "      <td>2017</td>\n",
       "      <td>September</td>\n",
       "      <td>2017-09-01</td>\n",
       "      <td>2017-04-15</td>\n",
       "      <td>2017-04-15 03:42:51+00:00</td>\n",
       "      <td>139 days</td>\n",
       "    </tr>\n",
       "    <tr>\n",
       "      <th>7</th>\n",
       "      <td>2018</td>\n",
       "      <td>October-November</td>\n",
       "      <td>2018-11-01</td>\n",
       "      <td>2018-09-05</td>\n",
       "      <td>2018-09-05 01:08:23+00:00</td>\n",
       "      <td>57 days</td>\n",
       "    </tr>\n",
       "    <tr>\n",
       "      <th>8</th>\n",
       "      <td>2018</td>\n",
       "      <td>May</td>\n",
       "      <td>2018-05-01</td>\n",
       "      <td>2017-05-17</td>\n",
       "      <td>2017-05-17 17:45:15+00:00</td>\n",
       "      <td>349 days</td>\n",
       "    </tr>\n",
       "    <tr>\n",
       "      <th>9</th>\n",
       "      <td>2018</td>\n",
       "      <td>July</td>\n",
       "      <td>2018-07-01</td>\n",
       "      <td>2017-11-15</td>\n",
       "      <td>2017-11-15 02:12:34+00:00</td>\n",
       "      <td>228 days</td>\n",
       "    </tr>\n",
       "    <tr>\n",
       "      <th>10</th>\n",
       "      <td>2021</td>\n",
       "      <td>November</td>\n",
       "      <td>2021-11-01</td>\n",
       "      <td>2021-09-10</td>\n",
       "      <td>2021-09-10 10:52:21+00:00</td>\n",
       "      <td>52 days</td>\n",
       "    </tr>\n",
       "    <tr>\n",
       "      <th>11</th>\n",
       "      <td>2021</td>\n",
       "      <td>November</td>\n",
       "      <td>2021-11-01</td>\n",
       "      <td>2020-08-28</td>\n",
       "      <td>2020-08-28 18:22:19+00:00</td>\n",
       "      <td>430 days</td>\n",
       "    </tr>\n",
       "    <tr>\n",
       "      <th>12</th>\n",
       "      <td>2021</td>\n",
       "      <td>November</td>\n",
       "      <td>2021-11-01</td>\n",
       "      <td>2021-09-14</td>\n",
       "      <td>2021-09-14 02:08:23+00:00</td>\n",
       "      <td>48 days</td>\n",
       "    </tr>\n",
       "    <tr>\n",
       "      <th>13</th>\n",
       "      <td>2021</td>\n",
       "      <td>November</td>\n",
       "      <td>2021-11-01</td>\n",
       "      <td>2021-08-29</td>\n",
       "      <td>2021-08-29 16:11:01+00:00</td>\n",
       "      <td>64 days</td>\n",
       "    </tr>\n",
       "    <tr>\n",
       "      <th>14</th>\n",
       "      <td>2018</td>\n",
       "      <td>May</td>\n",
       "      <td>2018-05-01</td>\n",
       "      <td>2017-09-26</td>\n",
       "      <td>2017-09-26 09:04:29+00:00</td>\n",
       "      <td>217 days</td>\n",
       "    </tr>\n",
       "    <tr>\n",
       "      <th>15</th>\n",
       "      <td>2021</td>\n",
       "      <td>August</td>\n",
       "      <td>2021-08-01</td>\n",
       "      <td>2021-05-31</td>\n",
       "      <td>2021-05-31 13:15:55+00:00</td>\n",
       "      <td>62 days</td>\n",
       "    </tr>\n",
       "    <tr>\n",
       "      <th>16</th>\n",
       "      <td>2019</td>\n",
       "      <td>June</td>\n",
       "      <td>2019-06-01</td>\n",
       "      <td>2019-04-02</td>\n",
       "      <td>2019-04-02 18:22:09+00:00</td>\n",
       "      <td>60 days</td>\n",
       "    </tr>\n",
       "    <tr>\n",
       "      <th>17</th>\n",
       "      <td>2018</td>\n",
       "      <td>July</td>\n",
       "      <td>2018-07-01</td>\n",
       "      <td>2018-05-16</td>\n",
       "      <td>2018-05-16 01:57:47+00:00</td>\n",
       "      <td>46 days</td>\n",
       "    </tr>\n",
       "    <tr>\n",
       "      <th>18</th>\n",
       "      <td>2015</td>\n",
       "      <td>May{--}June</td>\n",
       "      <td>2015-06-01</td>\n",
       "      <td>2015-08-24</td>\n",
       "      <td>2015-08-24 14:15:39+00:00</td>\n",
       "      <td>-84 days</td>\n",
       "    </tr>\n",
       "    <tr>\n",
       "      <th>19</th>\n",
       "      <td>2018</td>\n",
       "      <td>July</td>\n",
       "      <td>2018-07-01</td>\n",
       "      <td>2018-05-13</td>\n",
       "      <td>2018-05-13 14:24:31+00:00</td>\n",
       "      <td>49 days</td>\n",
       "    </tr>\n",
       "    <tr>\n",
       "      <th>20</th>\n",
       "      <td>2021</td>\n",
       "      <td>November</td>\n",
       "      <td>2021-11-01</td>\n",
       "      <td>2021-10-09</td>\n",
       "      <td>2021-10-09 21:09:21+00:00</td>\n",
       "      <td>23 days</td>\n",
       "    </tr>\n",
       "    <tr>\n",
       "      <th>21</th>\n",
       "      <td>2021</td>\n",
       "      <td>June</td>\n",
       "      <td>2021-06-01</td>\n",
       "      <td>2020-10-23</td>\n",
       "      <td>2020-10-23 13:45:26+00:00</td>\n",
       "      <td>221 days</td>\n",
       "    </tr>\n",
       "    <tr>\n",
       "      <th>22</th>\n",
       "      <td>2018</td>\n",
       "      <td>October</td>\n",
       "      <td>2018-10-01</td>\n",
       "      <td>2018-11-05</td>\n",
       "      <td>2018-11-05 18:39:54+00:00</td>\n",
       "      <td>-35 days</td>\n",
       "    </tr>\n",
       "    <tr>\n",
       "      <th>23</th>\n",
       "      <td>2021</td>\n",
       "      <td>August</td>\n",
       "      <td>2021-08-01</td>\n",
       "      <td>2021-05-24</td>\n",
       "      <td>2021-05-24 12:45:42+00:00</td>\n",
       "      <td>69 days</td>\n",
       "    </tr>\n",
       "    <tr>\n",
       "      <th>24</th>\n",
       "      <td>2021</td>\n",
       "      <td>April</td>\n",
       "      <td>2021-04-01</td>\n",
       "      <td>2021-02-19</td>\n",
       "      <td>2021-02-19 21:59:03+00:00</td>\n",
       "      <td>41 days</td>\n",
       "    </tr>\n",
       "    <tr>\n",
       "      <th>25</th>\n",
       "      <td>2017</td>\n",
       "      <td>August</td>\n",
       "      <td>2017-08-01</td>\n",
       "      <td>2017-06-29</td>\n",
       "      <td>2017-06-29 03:19:39+00:00</td>\n",
       "      <td>33 days</td>\n",
       "    </tr>\n",
       "    <tr>\n",
       "      <th>26</th>\n",
       "      <td>2020</td>\n",
       "      <td>November</td>\n",
       "      <td>2020-11-01</td>\n",
       "      <td>2020-10-11</td>\n",
       "      <td>2020-10-11 19:51:21+00:00</td>\n",
       "      <td>21 days</td>\n",
       "    </tr>\n",
       "    <tr>\n",
       "      <th>27</th>\n",
       "      <td>2021</td>\n",
       "      <td>June</td>\n",
       "      <td>2021-06-01</td>\n",
       "      <td>2021-01-05</td>\n",
       "      <td>2021-01-05 12:13:09+00:00</td>\n",
       "      <td>147 days</td>\n",
       "    </tr>\n",
       "    <tr>\n",
       "      <th>28</th>\n",
       "      <td>2019</td>\n",
       "      <td>November</td>\n",
       "      <td>2019-11-01</td>\n",
       "      <td>2019-11-19</td>\n",
       "      <td>2019-11-19 15:18:39+00:00</td>\n",
       "      <td>-18 days</td>\n",
       "    </tr>\n",
       "    <tr>\n",
       "      <th>29</th>\n",
       "      <td>2021</td>\n",
       "      <td>June</td>\n",
       "      <td>2021-06-01</td>\n",
       "      <td>2020-10-20</td>\n",
       "      <td>2020-10-20 13:28:27+00:00</td>\n",
       "      <td>224 days</td>\n",
       "    </tr>\n",
       "  </tbody>\n",
       "</table>\n",
       "</div>"
      ],
      "text/plain": [
       "    year             month    dt_Anth   dt_Arxiv            published_Arxiv  \\\n",
       "0   2021          November 2021-11-01 2021-09-10  2021-09-10 12:13:45+00:00   \n",
       "1   2015              July 2015-07-01 2017-08-19  2017-08-19 14:43:50+00:00   \n",
       "2   2020              July 2020-07-01 2020-05-04  2020-05-04 17:01:11+00:00   \n",
       "3   2018              July 2018-07-01 2018-01-22  2018-01-22 18:58:18+00:00   \n",
       "4   2019              July 2019-07-01 2019-11-20  2019-11-20 11:14:07+00:00   \n",
       "5   2016            August 2016-08-01 2016-03-19  2016-03-19 10:09:53+00:00   \n",
       "6   2017         September 2017-09-01 2017-04-15  2017-04-15 03:42:51+00:00   \n",
       "7   2018  October-November 2018-11-01 2018-09-05  2018-09-05 01:08:23+00:00   \n",
       "8   2018               May 2018-05-01 2017-05-17  2017-05-17 17:45:15+00:00   \n",
       "9   2018              July 2018-07-01 2017-11-15  2017-11-15 02:12:34+00:00   \n",
       "10  2021          November 2021-11-01 2021-09-10  2021-09-10 10:52:21+00:00   \n",
       "11  2021          November 2021-11-01 2020-08-28  2020-08-28 18:22:19+00:00   \n",
       "12  2021          November 2021-11-01 2021-09-14  2021-09-14 02:08:23+00:00   \n",
       "13  2021          November 2021-11-01 2021-08-29  2021-08-29 16:11:01+00:00   \n",
       "14  2018               May 2018-05-01 2017-09-26  2017-09-26 09:04:29+00:00   \n",
       "15  2021            August 2021-08-01 2021-05-31  2021-05-31 13:15:55+00:00   \n",
       "16  2019              June 2019-06-01 2019-04-02  2019-04-02 18:22:09+00:00   \n",
       "17  2018              July 2018-07-01 2018-05-16  2018-05-16 01:57:47+00:00   \n",
       "18  2015       May{--}June 2015-06-01 2015-08-24  2015-08-24 14:15:39+00:00   \n",
       "19  2018              July 2018-07-01 2018-05-13  2018-05-13 14:24:31+00:00   \n",
       "20  2021          November 2021-11-01 2021-10-09  2021-10-09 21:09:21+00:00   \n",
       "21  2021              June 2021-06-01 2020-10-23  2020-10-23 13:45:26+00:00   \n",
       "22  2018           October 2018-10-01 2018-11-05  2018-11-05 18:39:54+00:00   \n",
       "23  2021            August 2021-08-01 2021-05-24  2021-05-24 12:45:42+00:00   \n",
       "24  2021             April 2021-04-01 2021-02-19  2021-02-19 21:59:03+00:00   \n",
       "25  2017            August 2017-08-01 2017-06-29  2017-06-29 03:19:39+00:00   \n",
       "26  2020          November 2020-11-01 2020-10-11  2020-10-11 19:51:21+00:00   \n",
       "27  2021              June 2021-06-01 2021-01-05  2021-01-05 12:13:09+00:00   \n",
       "28  2019          November 2019-11-01 2019-11-19  2019-11-19 15:18:39+00:00   \n",
       "29  2021              June 2021-06-01 2020-10-20  2020-10-20 13:28:27+00:00   \n",
       "\n",
       "         dif  \n",
       "0    52 days  \n",
       "1  -780 days  \n",
       "2    58 days  \n",
       "3   160 days  \n",
       "4  -142 days  \n",
       "5   135 days  \n",
       "6   139 days  \n",
       "7    57 days  \n",
       "8   349 days  \n",
       "9   228 days  \n",
       "10   52 days  \n",
       "11  430 days  \n",
       "12   48 days  \n",
       "13   64 days  \n",
       "14  217 days  \n",
       "15   62 days  \n",
       "16   60 days  \n",
       "17   46 days  \n",
       "18  -84 days  \n",
       "19   49 days  \n",
       "20   23 days  \n",
       "21  221 days  \n",
       "22  -35 days  \n",
       "23   69 days  \n",
       "24   41 days  \n",
       "25   33 days  \n",
       "26   21 days  \n",
       "27  147 days  \n",
       "28  -18 days  \n",
       "29  224 days  "
      ]
     },
     "execution_count": 266,
     "metadata": {},
     "output_type": "execute_result"
    }
   ],
   "source": [
    "time[['year', 'month','dt_Anth', 'dt_Arxiv', 'published_Arxiv', 'dif']].head(30)"
   ]
  },
  {
   "cell_type": "code",
   "execution_count": 269,
   "id": "02bdf24d",
   "metadata": {},
   "outputs": [
    {
     "data": {
      "text/plain": [
       "Timedelta('52 days 00:00:00')"
      ]
     },
     "execution_count": 269,
     "metadata": {},
     "output_type": "execute_result"
    }
   ],
   "source": [
    "time['dif'][0]"
   ]
  },
  {
   "cell_type": "code",
   "execution_count": 272,
   "id": "ed7f009c",
   "metadata": {},
   "outputs": [
    {
     "ename": "AttributeError",
     "evalue": "'Series' object has no attribute 'days'",
     "output_type": "error",
     "traceback": [
      "\u001b[1;31m---------------------------------------------------------------------------\u001b[0m",
      "\u001b[1;31mAttributeError\u001b[0m                            Traceback (most recent call last)",
      "\u001b[1;32m~\\AppData\\Local\\Temp/ipykernel_17568/253794795.py\u001b[0m in \u001b[0;36m<module>\u001b[1;34m\u001b[0m\n\u001b[1;32m----> 1\u001b[1;33m \u001b[0mtime\u001b[0m\u001b[1;33m[\u001b[0m\u001b[1;34m'day'\u001b[0m\u001b[1;33m]\u001b[0m \u001b[1;33m=\u001b[0m \u001b[0mtime\u001b[0m\u001b[1;33m[\u001b[0m\u001b[1;34m'dif'\u001b[0m\u001b[1;33m]\u001b[0m\u001b[1;33m.\u001b[0m\u001b[0mdays\u001b[0m\u001b[1;33m\u001b[0m\u001b[1;33m\u001b[0m\u001b[0m\n\u001b[0m",
      "\u001b[1;32m~\\Anaconda3\\lib\\site-packages\\pandas\\core\\generic.py\u001b[0m in \u001b[0;36m__getattr__\u001b[1;34m(self, name)\u001b[0m\n\u001b[0;32m   5485\u001b[0m         ):\n\u001b[0;32m   5486\u001b[0m             \u001b[1;32mreturn\u001b[0m \u001b[0mself\u001b[0m\u001b[1;33m[\u001b[0m\u001b[0mname\u001b[0m\u001b[1;33m]\u001b[0m\u001b[1;33m\u001b[0m\u001b[1;33m\u001b[0m\u001b[0m\n\u001b[1;32m-> 5487\u001b[1;33m         \u001b[1;32mreturn\u001b[0m \u001b[0mobject\u001b[0m\u001b[1;33m.\u001b[0m\u001b[0m__getattribute__\u001b[0m\u001b[1;33m(\u001b[0m\u001b[0mself\u001b[0m\u001b[1;33m,\u001b[0m \u001b[0mname\u001b[0m\u001b[1;33m)\u001b[0m\u001b[1;33m\u001b[0m\u001b[1;33m\u001b[0m\u001b[0m\n\u001b[0m\u001b[0;32m   5488\u001b[0m \u001b[1;33m\u001b[0m\u001b[0m\n\u001b[0;32m   5489\u001b[0m     \u001b[1;32mdef\u001b[0m \u001b[0m__setattr__\u001b[0m\u001b[1;33m(\u001b[0m\u001b[0mself\u001b[0m\u001b[1;33m,\u001b[0m \u001b[0mname\u001b[0m\u001b[1;33m:\u001b[0m \u001b[0mstr\u001b[0m\u001b[1;33m,\u001b[0m \u001b[0mvalue\u001b[0m\u001b[1;33m)\u001b[0m \u001b[1;33m->\u001b[0m \u001b[1;32mNone\u001b[0m\u001b[1;33m:\u001b[0m\u001b[1;33m\u001b[0m\u001b[1;33m\u001b[0m\u001b[0m\n",
      "\u001b[1;31mAttributeError\u001b[0m: 'Series' object has no attribute 'days'"
     ]
    }
   ],
   "source": [
    "time['day'] = time['dif'].days"
   ]
  },
  {
   "cell_type": "code",
   "execution_count": 267,
   "id": "97068f06",
   "metadata": {},
   "outputs": [
    {
     "data": {
      "text/plain": [
       "<AxesSubplot:>"
      ]
     },
     "execution_count": 267,
     "metadata": {},
     "output_type": "execute_result"
    },
    {
     "data": {
      "image/png": "[encoded data removed]",
      "text/plain": [
       "<Figure size 432x288 with 1 Axes>"
      ]
     },
     "metadata": {
      "needs_background": "light"
     },
     "output_type": "display_data"
    }
   ],
   "source": [
    "time['dif'].plot()"
   ]
  },
  {
   "cell_type": "code",
   "execution_count": null,
   "id": "7ff5ef3e",
   "metadata": {
    "scrolled": true
   },
   "outputs": [],
   "source": [
    "sample[['Anth_datetime', 'year', 'month', 'published_Arxiv']].head(20)"
   ]
  },
  {
   "cell_type": "code",
   "execution_count": null,
   "id": "6b4f99cc",
   "metadata": {},
   "outputs": [],
   "source": [
    "df = sample[['Anth_datetime', 'year', 'month', 'published_Arxiv']].copy()"
   ]
  },
  {
   "cell_type": "code",
   "execution_count": null,
   "id": "1c2b0b03",
   "metadata": {},
   "outputs": [],
   "source": [
    "df['Anth_datetime']"
   ]
  },
  {
   "cell_type": "code",
   "execution_count": null,
   "id": "fc3f88e0",
   "metadata": {},
   "outputs": [],
   "source": [
    "df['diff'] = df['Anth_datetime']-df['published_Arxiv'].replace(tzinfo=None)"
   ]
  },
  {
   "cell_type": "code",
   "execution_count": null,
   "id": "5828854d",
   "metadata": {},
   "outputs": [],
   "source": [
    "sample['published_Arxiv'][1]"
   ]
  },
  {
   "cell_type": "code",
   "execution_count": null,
   "id": "bb072a38",
   "metadata": {},
   "outputs": [],
   "source": [
    "'2017-04-15 03:42:51+00:00'[:-15]"
   ]
  },
  {
   "cell_type": "code",
   "execution_count": null,
   "id": "0249c1fc",
   "metadata": {},
   "outputs": [],
   "source": [
    "pd.to_datetime('2017-04-15 03:42:51+00:00') - pd.to_datetime('2017-04-15 03:42:51+00:00')"
   ]
  },
  {
   "cell_type": "markdown",
   "id": "6baab1a5",
   "metadata": {},
   "source": [
    "# figures"
   ]
  }
 ],
 "metadata": {
  "kernelspec": {
   "display_name": "Python 3 (ipykernel)",
   "language": "python",
   "name": "python3"
  },
  "language_info": {
   "codemirror_mode": {
    "name": "ipython",
    "version": 3
   },
   "file_extension": ".py",
   "mimetype": "text/x-python",
   "name": "python",
   "nbconvert_exporter": "python",
   "pygments_lexer": "ipython3",
   "version": "3.9.7"
  }
 },
 "nbformat": 4,
 "nbformat_minor": 5
}
