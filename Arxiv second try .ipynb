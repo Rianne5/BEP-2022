{
 "cells": [
  {
   "cell_type": "code",
   "execution_count": 2,
   "id": "025b5c1d",
   "metadata": {},
   "outputs": [],
   "source": [
    "import arxiv\n",
    "import pandas as pd\n",
    "import requests"
   ]
  },
  {
   "cell_type": "code",
   "execution_count": null,
   "id": "ba40cd4b",
   "metadata": {},
   "outputs": [],
   "source": [
    "Revisiting Consistency Regularization for Semi-supervised Change Detection in Remote Sensing Images\n",
    "\n",
    "data"
   ]
  },
  {
   "cell_type": "code",
   "execution_count": 18,
   "id": "58d2f19f",
   "metadata": {},
   "outputs": [
    {
     "data": {
      "text/plain": [
       "arxiv.Search(query='%22Revisiting+Consistency+Regularization+for+Semi-supervised+Change+Detection+in+Remote+Sensing+Images%22', id_list=[], max_results=15, sort_by=<SortCriterion.SubmittedDate: 'submittedDate'>, sort_order=<SortOrder.Descending: 'descending'>)"
      ]
     },
     "execution_count": 18,
     "metadata": {},
     "output_type": "execute_result"
    }
   ],
   "source": [
    "search = arxiv.Search(\n",
    "        query = \"%22Revisiting+Consistency+Regularization+for+Semi-supervised+Change+Detection+in+Remote+Sensing+Images%22\",\n",
    "        max_results = 15,\n",
    "        sort_by = arxiv.SortCriterion.SubmittedDate)\n",
    "search"
   ]
  },
  {
   "cell_type": "code",
   "execution_count": 19,
   "id": "325540b2",
   "metadata": {},
   "outputs": [],
   "source": [
    "for result in search.results():\n",
    "    print(result.title)"
   ]
  },
  {
   "cell_type": "code",
   "execution_count": 34,
   "id": "58885537",
   "metadata": {},
   "outputs": [
    {
     "data": {
      "text/plain": [
       "arxiv.Search(query='%22Semi supervised Change%22', id_list=[], max_results=15, sort_by=<SortCriterion.SubmittedDate: 'submittedDate'>, sort_order=<SortOrder.Descending: 'descending'>)"
      ]
     },
     "execution_count": 34,
     "metadata": {},
     "output_type": "execute_result"
    }
   ],
   "source": [
    "search = arxiv.Search(\n",
    "        query = \"%22Semi supervised Change%22\",\n",
    "        max_results = 15,\n",
    "        sort_by = arxiv.SortCriterion.SubmittedDate)\n",
    "search"
   ]
  },
  {
   "cell_type": "code",
   "execution_count": 35,
   "id": "d20e6ff0",
   "metadata": {},
   "outputs": [
    {
     "name": "stdout",
     "output_type": "stream",
     "text": [
      "Revisiting Consistency Regularization for Semi-supervised Change Detection in Remote Sensing Images\n",
      "BLDNet: A Semi-supervised Change Detection Building Damage Framework using Graph Convolutional Networks and Urban Domain Knowledge\n",
      "Unsupervised Behavior Change Detection in Multidimensional Data Streams for Maritime Traffic Monitoring\n"
     ]
    }
   ],
   "source": [
    "for result in search.results():\n",
    "    print(result.title)"
   ]
  },
  {
   "cell_type": "code",
   "execution_count": null,
   "id": "0d29ba7f",
   "metadata": {},
   "outputs": [],
   "source": [
    "# use %22 and remove all _-* from search query"
   ]
  },
  {
   "cell_type": "code",
   "execution_count": 36,
   "id": "9a514db6",
   "metadata": {
    "scrolled": true
   },
   "outputs": [
    {
     "data": {
      "text/plain": [
       "arxiv.Search(query='%22Impact of Electron Electron Cusp on Configuration Interaction Energies%22', id_list=[], max_results=15, sort_by=<SortCriterion.SubmittedDate: 'submittedDate'>, sort_order=<SortOrder.Descending: 'descending'>)"
      ]
     },
     "execution_count": 36,
     "metadata": {},
     "output_type": "execute_result"
    }
   ],
   "source": [
    "search = arxiv.Search(\n",
    "        query = \"%22Impact of Electron Electron Cusp on Configuration Interaction Energies%22\",\n",
    "        max_results = 15,\n",
    "        sort_by = arxiv.SortCriterion.SubmittedDate)\n",
    "search"
   ]
  },
  {
   "cell_type": "code",
   "execution_count": 37,
   "id": "fc66a0b8",
   "metadata": {},
   "outputs": [
    {
     "name": "stdout",
     "output_type": "stream",
     "text": [
      "Impact of Electron-Electron Cusp on Configuration Interaction Energies\n"
     ]
    }
   ],
   "source": [
    "for result in search.results():\n",
    "    print(result.title)"
   ]
  },
  {
   "cell_type": "code",
   "execution_count": null,
   "id": "6ca28922",
   "metadata": {},
   "outputs": [],
   "source": [
    "# Impact of Electron-Electron Cusp on Configuration Interaction Energies is an arxiv paper title\n",
    "\n"
   ]
  }
 ],
 "metadata": {
  "kernelspec": {
   "display_name": "Python 3 (ipykernel)",
   "language": "python",
   "name": "python3"
  },
  "language_info": {
   "codemirror_mode": {
    "name": "ipython",
    "version": 3
   },
   "file_extension": ".py",
   "mimetype": "text/x-python",
   "name": "python",
   "nbconvert_exporter": "python",
   "pygments_lexer": "ipython3",
   "version": "3.9.7"
  }
 },
 "nbformat": 4,
 "nbformat_minor": 5
}
