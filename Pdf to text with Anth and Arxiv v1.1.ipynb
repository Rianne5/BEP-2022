{
 "cells": [
  {
   "cell_type": "code",
   "execution_count": null,
   "id": "33d4bba9",
   "metadata": {},
   "outputs": [],
   "source": [
    "import pandas as pd\n",
    "import spacy\n",
    "from spacypdfreader import pdf_reader"
   ]
  },
  {
   "cell_type": "code",
   "execution_count": null,
   "id": "93d7f1cd",
   "metadata": {},
   "outputs": [],
   "source": [
    "nlp = spacy.load('en_core_web_sm')\n",
    "\n",
    "doc_Arxiv = (pdf_reader(\"pdf Arxiv\\Term_Expansion_and_FinBERT_fine_tuning_for_Hypernym_and_Synonym_Ranking_of_Financial_Terms.pdf\", nlp))\n",
    "doc_Anth = (pdf_reader(\"pdf Anth\\Anth-Term Expansion and FinBERT fine-tuning for Hypernym and Synonym Ranking of Financial Terms.pdf\", nlp))\n",
    "\n"
   ]
  },
  {
   "cell_type": "code",
   "execution_count": null,
   "id": "177ccec2",
   "metadata": {},
   "outputs": [],
   "source": []
  },
  {
   "cell_type": "code",
   "execution_count": null,
   "id": "5d7dc70d",
   "metadata": {},
   "outputs": [],
   "source": []
  }
 ],
 "metadata": {
  "kernelspec": {
   "display_name": "Python 3 (ipykernel)",
   "language": "python",
   "name": "python3"
  },
  "language_info": {
   "codemirror_mode": {
    "name": "ipython",
    "version": 3
   },
   "file_extension": ".py",
   "mimetype": "text/x-python",
   "name": "python",
   "nbconvert_exporter": "python",
   "pygments_lexer": "ipython3",
   "version": "3.9.7"
  }
 },
 "nbformat": 4,
 "nbformat_minor": 5
}
