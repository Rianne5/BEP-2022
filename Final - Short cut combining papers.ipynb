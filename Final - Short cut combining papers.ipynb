{
 "cells": [
  {
   "cell_type": "code",
   "execution_count": 1,
   "id": "a40a5fb2",
   "metadata": {},
   "outputs": [],
   "source": [
    "from function import *"
   ]
  },
  {
   "cell_type": "code",
   "execution_count": 2,
   "id": "72843135",
   "metadata": {},
   "outputs": [],
   "source": [
    "import pandas as pd\n",
    "import arxiv\n",
    "import pandas as pd\n",
    "import requests\n",
    "import urllib\n",
    "import numpy as np"
   ]
  },
  {
   "cell_type": "code",
   "execution_count": 3,
   "id": "6f5f7903",
   "metadata": {},
   "outputs": [
    {
     "name": "stderr",
     "output_type": "stream",
     "text": [
      "C:\\Users\\20193635\\Anaconda3\\lib\\site-packages\\IPython\\core\\interactiveshell.py:3444: DtypeWarning: Columns (6,8) have mixed types.Specify dtype option on import or set low_memory=False.\n",
      "  exec(code_obj, self.user_global_ns, self.user_ns)\n"
     ]
    }
   ],
   "source": [
    "table = pd.read_csv('combined_table.csv',index_col='Unnamed: 0')"
   ]
  },
  {
   "cell_type": "code",
   "execution_count": 4,
   "id": "993e7696",
   "metadata": {},
   "outputs": [
    {
     "name": "stdout",
     "output_type": "stream",
     "text": [
      "iteration:  0\n",
      "-- start sentence: The Illinois Columbia System in the CoNLL 2014 Shared Task\n",
      "Might be error in: Line with iloc: IndexError: index 0 is out of bounds for axis 0 with size 0\n",
      "iteration:  1\n",
      "-- start sentence: RACAI GEC    A hybrid approach to Grammatical Error Correction\n",
      "Might be error in: Line with iloc: IndexError: index 0 is out of bounds for axis 0 with size 0\n",
      "iteration:  2\n",
      "-- start sentence: Grammatical Error Detection Using Tagger Disagreement\n",
      "Might be error in: Line with iloc: IndexError: index 0 is out of bounds for axis 0 with size 0\n",
      "Assumption: Arxiv stopped\n"
     ]
    }
   ],
   "source": [
    "table = run(table)"
   ]
  },
  {
   "cell_type": "code",
   "execution_count": 5,
   "id": "9c2a8598",
   "metadata": {},
   "outputs": [
    {
     "data": {
      "text/plain": [
       "33313"
      ]
     },
     "execution_count": 5,
     "metadata": {},
     "output_type": "execute_result"
    }
   ],
   "source": [
    "#nr searches done:\n",
    "len(table) - table['title_Arxiv'].isna().sum()\n",
    "#? #? #164 #368 #577 #640 #698 #904 #1121 #1213 #1284 #1284 # 1377 #1548 #1672 #1768\n",
    "# 1836 #2211? #2185 #2285 # 2329 # 2390 #2587 #2711 #2754\n",
    "# 2920 #3037  #3076 #3154 #3198 #3256 #3363 #3384 #? \n",
    "#Changed strike =0 of succesful paperfound.\n",
    "#4202 #6201 #6201 #6201 #6306 #7574 #7625 #9635 #11643 #11643\n",
    "#11776 #13778\n",
    "#15784 #15784 #15784\n",
    "#17800 #17800 #17800 #17800 #17800\n",
    "#19810\n",
    "#20812 :1000 iterations -> 1002 less -> 2 extra results.\n",
    "#21813 #remove duplicates and languages\n",
    "#22282\n",
    "#23283\n",
    "#24288\n",
    "#25290\n",
    "#25290\n",
    "#27293\n",
    "#28291\n",
    "#29293 -> 10000 iterations -> 10 results\n",
    "#31294 #31294\n",
    "#33313 #33313\n",
    "# ->5000 for 5 results\n",
    "\n"
   ]
  },
  {
   "cell_type": "code",
   "execution_count": null,
   "id": "4b6a4d3b",
   "metadata": {},
   "outputs": [],
   "source": [
    "table.to_csv('combined_table.csv')"
   ]
  },
  {
   "cell_type": "code",
   "execution_count": null,
   "id": "76ac5500",
   "metadata": {},
   "outputs": [],
   "source": []
  }
 ],
 "metadata": {
  "kernelspec": {
   "display_name": "Python 3 (ipykernel)",
   "language": "python",
   "name": "python3"
  },
  "language_info": {
   "codemirror_mode": {
    "name": "ipython",
    "version": 3
   },
   "file_extension": ".py",
   "mimetype": "text/x-python",
   "name": "python",
   "nbconvert_exporter": "python",
   "pygments_lexer": "ipython3",
   "version": "3.9.7"
  }
 },
 "nbformat": 4,
 "nbformat_minor": 5
}
