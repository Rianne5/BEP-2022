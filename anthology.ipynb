{
 "cells": [
  {
   "cell_type": "code",
   "execution_count": 1,
   "id": "db0ab1b6",
   "metadata": {},
   "outputs": [],
   "source": [
    "import pandas as pd"
   ]
  },
  {
   "cell_type": "code",
   "execution_count": null,
   "id": "df74c42e",
   "metadata": {},
   "outputs": [],
   "source": []
  },
  {
   "cell_type": "code",
   "execution_count": 2,
   "id": "270036f0",
   "metadata": {
    "scrolled": true
   },
   "outputs": [],
   "source": [
    "from pybtex.database.input import bibtex\n",
    "\n",
    "#open a bibtex file\n",
    "parser = bibtex.Parser()\n",
    "bibdata = parser.parse_file(\"anthology.bib\")\n",
    "lst_ant = []\n",
    "\n",
    "i= 0\n",
    "#loop through the individual references\n",
    "for bib_id in bibdata.entries:\n",
    "    \n",
    "    b = bibdata.entries[bib_id].fields\n",
    "    try:      \n",
    "        lst_ant.append(b)\n",
    "        i +=1  \n",
    "        \n",
    "        \n",
    "        # change these lines to create a SQL insert\n",
    "#         print(b[\"title\"])\n",
    "#         print(b[\"journal\"])\n",
    "#         print(b[\"year\"])\n",
    "        #deal with multiple authors\n",
    "#         for author in bibdata.entries[bib_id].persons[\"author\"]:\n",
    "#             print(author.first(), author.last())\n",
    "    # field may not exist for a reference\n",
    "    except(KeyError):\n",
    "        continue\n"
   ]
  },
  {
   "cell_type": "code",
   "execution_count": 3,
   "id": "be9cbb3d",
   "metadata": {},
   "outputs": [
    {
     "data": {
      "text/plain": [
       "OrderedCaseInsensitiveDict([('title', '{H}ate{BERT}: Retraining {BERT} for Abusive Language Detection in {E}nglish'), ('booktitle', 'Proceedings of the 5th Workshop on Online Abuse and Harms (WOAH 2021)'), ('month', 'August'), ('year', '2021'), ('address', 'Online'), ('publisher', 'Association for Computational Linguistics'), ('url', 'https://aclanthology.org/2021.woah-1.3'), ('doi', '10.18653/v1/2021.woah-1.3'), ('pages', '17--25')])"
      ]
     },
     "execution_count": 3,
     "metadata": {},
     "output_type": "execute_result"
    }
   ],
   "source": [
    "lst_ant[3]#['title']"
   ]
  },
  {
   "cell_type": "code",
   "execution_count": 10,
   "id": "89177e2b",
   "metadata": {},
   "outputs": [
    {
     "data": {
      "text/plain": [
       "'HateBERT: Retraining BERT for Abusive Language Detection in English'"
      ]
     },
     "execution_count": 10,
     "metadata": {},
     "output_type": "execute_result"
    }
   ],
   "source": [
    "lst_ant[3]['title'].replace('}', '').replace('{', '')"
   ]
  },
  {
   "cell_type": "code",
   "execution_count": 16,
   "id": "56b73f74",
   "metadata": {
    "scrolled": true
   },
   "outputs": [
    {
     "data": {
      "text/html": [
       "<div>\n",
       "<style scoped>\n",
       "    .dataframe tbody tr th:only-of-type {\n",
       "        vertical-align: middle;\n",
       "    }\n",
       "\n",
       "    .dataframe tbody tr th {\n",
       "        vertical-align: top;\n",
       "    }\n",
       "\n",
       "    .dataframe thead th {\n",
       "        text-align: right;\n",
       "    }\n",
       "</style>\n",
       "<table border=\"1\" class=\"dataframe\">\n",
       "  <thead>\n",
       "    <tr style=\"text-align: right;\">\n",
       "      <th></th>\n",
       "      <th>ISBN</th>\n",
       "      <th>address</th>\n",
       "      <th>booktitle</th>\n",
       "      <th>doi</th>\n",
       "      <th>journal</th>\n",
       "      <th>language</th>\n",
       "      <th>month</th>\n",
       "      <th>note</th>\n",
       "      <th>number</th>\n",
       "      <th>pages</th>\n",
       "      <th>publisher</th>\n",
       "      <th>title</th>\n",
       "      <th>url</th>\n",
       "      <th>volume</th>\n",
       "      <th>year</th>\n",
       "    </tr>\n",
       "  </thead>\n",
       "  <tbody>\n",
       "    <tr>\n",
       "      <th>0</th>\n",
       "      <td>NaN</td>\n",
       "      <td>Online</td>\n",
       "      <td>NaN</td>\n",
       "      <td>NaN</td>\n",
       "      <td>NaN</td>\n",
       "      <td>NaN</td>\n",
       "      <td>August</td>\n",
       "      <td>NaN</td>\n",
       "      <td>NaN</td>\n",
       "      <td>NaN</td>\n",
       "      <td>Association for Computational Linguistics</td>\n",
       "      <td>Proceedings of the 5th Workshop on Online Abus...</td>\n",
       "      <td>https://aclanthology.org/2021.woah-1.0</td>\n",
       "      <td>NaN</td>\n",
       "      <td>2021</td>\n",
       "    </tr>\n",
       "    <tr>\n",
       "      <th>1</th>\n",
       "      <td>NaN</td>\n",
       "      <td>Online</td>\n",
       "      <td>Proceedings of the 5th Workshop on Online Abus...</td>\n",
       "      <td>10.18653/v1/2021.woah-1.1</td>\n",
       "      <td>NaN</td>\n",
       "      <td>NaN</td>\n",
       "      <td>August</td>\n",
       "      <td>NaN</td>\n",
       "      <td>NaN</td>\n",
       "      <td>1--5</td>\n",
       "      <td>Association for Computational Linguistics</td>\n",
       "      <td>Exploiting Auxiliary Data for Offensive Langua...</td>\n",
       "      <td>https://aclanthology.org/2021.woah-1.1</td>\n",
       "      <td>NaN</td>\n",
       "      <td>2021</td>\n",
       "    </tr>\n",
       "    <tr>\n",
       "      <th>2</th>\n",
       "      <td>NaN</td>\n",
       "      <td>Online</td>\n",
       "      <td>Proceedings of the 5th Workshop on Online Abus...</td>\n",
       "      <td>10.18653/v1/2021.woah-1.2</td>\n",
       "      <td>NaN</td>\n",
       "      <td>NaN</td>\n",
       "      <td>August</td>\n",
       "      <td>NaN</td>\n",
       "      <td>NaN</td>\n",
       "      <td>6--16</td>\n",
       "      <td>Association for Computational Linguistics</td>\n",
       "      <td>Modeling Profanity and Hate Speech in Social M...</td>\n",
       "      <td>https://aclanthology.org/2021.woah-1.2</td>\n",
       "      <td>NaN</td>\n",
       "      <td>2021</td>\n",
       "    </tr>\n",
       "    <tr>\n",
       "      <th>3</th>\n",
       "      <td>NaN</td>\n",
       "      <td>Online</td>\n",
       "      <td>Proceedings of the 5th Workshop on Online Abus...</td>\n",
       "      <td>10.18653/v1/2021.woah-1.3</td>\n",
       "      <td>NaN</td>\n",
       "      <td>NaN</td>\n",
       "      <td>August</td>\n",
       "      <td>NaN</td>\n",
       "      <td>NaN</td>\n",
       "      <td>17--25</td>\n",
       "      <td>Association for Computational Linguistics</td>\n",
       "      <td>{H}ate{BERT}: Retraining {BERT} for Abusive La...</td>\n",
       "      <td>https://aclanthology.org/2021.woah-1.3</td>\n",
       "      <td>NaN</td>\n",
       "      <td>2021</td>\n",
       "    </tr>\n",
       "    <tr>\n",
       "      <th>4</th>\n",
       "      <td>NaN</td>\n",
       "      <td>Online</td>\n",
       "      <td>Proceedings of the 5th Workshop on Online Abus...</td>\n",
       "      <td>10.18653/v1/2021.woah-1.4</td>\n",
       "      <td>NaN</td>\n",
       "      <td>NaN</td>\n",
       "      <td>August</td>\n",
       "      <td>NaN</td>\n",
       "      <td>NaN</td>\n",
       "      <td>26--35</td>\n",
       "      <td>Association for Computational Linguistics</td>\n",
       "      <td>Memes in the Wild: Assessing the Generalizabil...</td>\n",
       "      <td>https://aclanthology.org/2021.woah-1.4</td>\n",
       "      <td>NaN</td>\n",
       "      <td>2021</td>\n",
       "    </tr>\n",
       "    <tr>\n",
       "      <th>...</th>\n",
       "      <td>...</td>\n",
       "      <td>...</td>\n",
       "      <td>...</td>\n",
       "      <td>...</td>\n",
       "      <td>...</td>\n",
       "      <td>...</td>\n",
       "      <td>...</td>\n",
       "      <td>...</td>\n",
       "      <td>...</td>\n",
       "      <td>...</td>\n",
       "      <td>...</td>\n",
       "      <td>...</td>\n",
       "      <td>...</td>\n",
       "      <td>...</td>\n",
       "      <td>...</td>\n",
       "    </tr>\n",
       "    <tr>\n",
       "      <th>74515</th>\n",
       "      <td>NaN</td>\n",
       "      <td>Massachusetts Institute of Technology</td>\n",
       "      <td>Proceedings of the Conference on Mechanical Tr...</td>\n",
       "      <td>NaN</td>\n",
       "      <td>NaN</td>\n",
       "      <td>NaN</td>\n",
       "      <td>17-20 June</td>\n",
       "      <td>NaN</td>\n",
       "      <td>NaN</td>\n",
       "      <td>NaN</td>\n",
       "      <td>NaN</td>\n",
       "      <td>Teaching foreign languages or {MT} and languag...</td>\n",
       "      <td>https://aclanthology.org/1952.earlymt-1.22</td>\n",
       "      <td>NaN</td>\n",
       "      <td>1952</td>\n",
       "    </tr>\n",
       "    <tr>\n",
       "      <th>74516</th>\n",
       "      <td>NaN</td>\n",
       "      <td>Massachusetts Institute of Technology</td>\n",
       "      <td>Proceedings of the Conference on Mechanical Tr...</td>\n",
       "      <td>NaN</td>\n",
       "      <td>NaN</td>\n",
       "      <td>NaN</td>\n",
       "      <td>17-20 June</td>\n",
       "      <td>NaN</td>\n",
       "      <td>NaN</td>\n",
       "      <td>NaN</td>\n",
       "      <td>NaN</td>\n",
       "      <td>Machine techniques for index searching and for...</td>\n",
       "      <td>https://aclanthology.org/1952.earlymt-1.23</td>\n",
       "      <td>NaN</td>\n",
       "      <td>1952</td>\n",
       "    </tr>\n",
       "    <tr>\n",
       "      <th>74517</th>\n",
       "      <td>NaN</td>\n",
       "      <td>Massachusetts Institute of Technology</td>\n",
       "      <td>Proceedings of the Conference on Mechanical Tr...</td>\n",
       "      <td>NaN</td>\n",
       "      <td>NaN</td>\n",
       "      <td>NaN</td>\n",
       "      <td>17-20 June</td>\n",
       "      <td>NaN</td>\n",
       "      <td>NaN</td>\n",
       "      <td>NaN</td>\n",
       "      <td>NaN</td>\n",
       "      <td>Transcript of discussions</td>\n",
       "      <td>https://aclanthology.org/1952.earlymt-1.24</td>\n",
       "      <td>NaN</td>\n",
       "      <td>1952</td>\n",
       "    </tr>\n",
       "    <tr>\n",
       "      <th>74518</th>\n",
       "      <td>NaN</td>\n",
       "      <td>Massachusetts Institute of Technology</td>\n",
       "      <td>Proceedings of the Conference on Mechanical Tr...</td>\n",
       "      <td>NaN</td>\n",
       "      <td>NaN</td>\n",
       "      <td>NaN</td>\n",
       "      <td>17-20 June</td>\n",
       "      <td>NaN</td>\n",
       "      <td>NaN</td>\n",
       "      <td>NaN</td>\n",
       "      <td>NaN</td>\n",
       "      <td>The first conference on mechanical translation</td>\n",
       "      <td>https://aclanthology.org/1952.earlymt-1.25</td>\n",
       "      <td>NaN</td>\n",
       "      <td>1952</td>\n",
       "    </tr>\n",
       "    <tr>\n",
       "      <th>74519</th>\n",
       "      <td>NaN</td>\n",
       "      <td>Massachusetts Institute of Technology</td>\n",
       "      <td>Proceedings of the Conference on Mechanical Tr...</td>\n",
       "      <td>NaN</td>\n",
       "      <td>NaN</td>\n",
       "      <td>NaN</td>\n",
       "      <td>17-20 June</td>\n",
       "      <td>NaN</td>\n",
       "      <td>NaN</td>\n",
       "      <td>NaN</td>\n",
       "      <td>NaN</td>\n",
       "      <td>The conference on mechanical translation held ...</td>\n",
       "      <td>https://aclanthology.org/1952.earlymt-1.26</td>\n",
       "      <td>NaN</td>\n",
       "      <td>1952</td>\n",
       "    </tr>\n",
       "  </tbody>\n",
       "</table>\n",
       "<p>74520 rows × 15 columns</p>\n",
       "</div>"
      ],
      "text/plain": [
       "      ISBN                                address  \\\n",
       "0      NaN                                 Online   \n",
       "1      NaN                                 Online   \n",
       "2      NaN                                 Online   \n",
       "3      NaN                                 Online   \n",
       "4      NaN                                 Online   \n",
       "...    ...                                    ...   \n",
       "74515  NaN  Massachusetts Institute of Technology   \n",
       "74516  NaN  Massachusetts Institute of Technology   \n",
       "74517  NaN  Massachusetts Institute of Technology   \n",
       "74518  NaN  Massachusetts Institute of Technology   \n",
       "74519  NaN  Massachusetts Institute of Technology   \n",
       "\n",
       "                                               booktitle  \\\n",
       "0                                                    NaN   \n",
       "1      Proceedings of the 5th Workshop on Online Abus...   \n",
       "2      Proceedings of the 5th Workshop on Online Abus...   \n",
       "3      Proceedings of the 5th Workshop on Online Abus...   \n",
       "4      Proceedings of the 5th Workshop on Online Abus...   \n",
       "...                                                  ...   \n",
       "74515  Proceedings of the Conference on Mechanical Tr...   \n",
       "74516  Proceedings of the Conference on Mechanical Tr...   \n",
       "74517  Proceedings of the Conference on Mechanical Tr...   \n",
       "74518  Proceedings of the Conference on Mechanical Tr...   \n",
       "74519  Proceedings of the Conference on Mechanical Tr...   \n",
       "\n",
       "                             doi journal language       month note number  \\\n",
       "0                            NaN     NaN      NaN      August  NaN    NaN   \n",
       "1      10.18653/v1/2021.woah-1.1     NaN      NaN      August  NaN    NaN   \n",
       "2      10.18653/v1/2021.woah-1.2     NaN      NaN      August  NaN    NaN   \n",
       "3      10.18653/v1/2021.woah-1.3     NaN      NaN      August  NaN    NaN   \n",
       "4      10.18653/v1/2021.woah-1.4     NaN      NaN      August  NaN    NaN   \n",
       "...                          ...     ...      ...         ...  ...    ...   \n",
       "74515                        NaN     NaN      NaN  17-20 June  NaN    NaN   \n",
       "74516                        NaN     NaN      NaN  17-20 June  NaN    NaN   \n",
       "74517                        NaN     NaN      NaN  17-20 June  NaN    NaN   \n",
       "74518                        NaN     NaN      NaN  17-20 June  NaN    NaN   \n",
       "74519                        NaN     NaN      NaN  17-20 June  NaN    NaN   \n",
       "\n",
       "        pages                                  publisher  \\\n",
       "0         NaN  Association for Computational Linguistics   \n",
       "1        1--5  Association for Computational Linguistics   \n",
       "2       6--16  Association for Computational Linguistics   \n",
       "3      17--25  Association for Computational Linguistics   \n",
       "4      26--35  Association for Computational Linguistics   \n",
       "...       ...                                        ...   \n",
       "74515     NaN                                        NaN   \n",
       "74516     NaN                                        NaN   \n",
       "74517     NaN                                        NaN   \n",
       "74518     NaN                                        NaN   \n",
       "74519     NaN                                        NaN   \n",
       "\n",
       "                                                   title  \\\n",
       "0      Proceedings of the 5th Workshop on Online Abus...   \n",
       "1      Exploiting Auxiliary Data for Offensive Langua...   \n",
       "2      Modeling Profanity and Hate Speech in Social M...   \n",
       "3      {H}ate{BERT}: Retraining {BERT} for Abusive La...   \n",
       "4      Memes in the Wild: Assessing the Generalizabil...   \n",
       "...                                                  ...   \n",
       "74515  Teaching foreign languages or {MT} and languag...   \n",
       "74516  Machine techniques for index searching and for...   \n",
       "74517                          Transcript of discussions   \n",
       "74518     The first conference on mechanical translation   \n",
       "74519  The conference on mechanical translation held ...   \n",
       "\n",
       "                                              url volume  year  \n",
       "0          https://aclanthology.org/2021.woah-1.0    NaN  2021  \n",
       "1          https://aclanthology.org/2021.woah-1.1    NaN  2021  \n",
       "2          https://aclanthology.org/2021.woah-1.2    NaN  2021  \n",
       "3          https://aclanthology.org/2021.woah-1.3    NaN  2021  \n",
       "4          https://aclanthology.org/2021.woah-1.4    NaN  2021  \n",
       "...                                           ...    ...   ...  \n",
       "74515  https://aclanthology.org/1952.earlymt-1.22    NaN  1952  \n",
       "74516  https://aclanthology.org/1952.earlymt-1.23    NaN  1952  \n",
       "74517  https://aclanthology.org/1952.earlymt-1.24    NaN  1952  \n",
       "74518  https://aclanthology.org/1952.earlymt-1.25    NaN  1952  \n",
       "74519  https://aclanthology.org/1952.earlymt-1.26    NaN  1952  \n",
       "\n",
       "[74520 rows x 15 columns]"
      ]
     },
     "execution_count": 16,
     "metadata": {},
     "output_type": "execute_result"
    }
   ],
   "source": [
    "df = pd.DataFrame(lst_ant)\n",
    "df"
   ]
  },
  {
   "cell_type": "code",
   "execution_count": 25,
   "id": "dc131104",
   "metadata": {},
   "outputs": [
    {
     "name": "stderr",
     "output_type": "stream",
     "text": [
      "C:\\Users\\20193635\\AppData\\Local\\Temp/ipykernel_11008/111540803.py:1: FutureWarning: The default value of regex will change from True to False in a future version. In addition, single character regular expressions will *not* be treated as literal strings when regex=True.\n",
      "  df['title'] = df['title'].str.replace('}', '').str.replace('{', '')\n"
     ]
    },
    {
     "data": {
      "text/plain": [
       "0        Proceedings of the 5th Workshop on Online Abus...\n",
       "1        Exploiting Auxiliary Data for Offensive Langua...\n",
       "2        Modeling Profanity and Hate Speech in Social M...\n",
       "3        HateBERT: Retraining BERT for Abusive Language...\n",
       "4        Memes in the Wild: Assessing the Generalizabil...\n",
       "                               ...                        \n",
       "74515    Teaching foreign languages or MT and language ...\n",
       "74516    Machine techniques for index searching and for...\n",
       "74517                            Transcript of discussions\n",
       "74518       The first conference on mechanical translation\n",
       "74519    The conference on mechanical translation held ...\n",
       "Name: title, Length: 74520, dtype: object"
      ]
     },
     "execution_count": 25,
     "metadata": {},
     "output_type": "execute_result"
    }
   ],
   "source": [
    "df['title'] = df['title'].str.replace('}', '').str.replace('{', '')\n",
    "df.title"
   ]
  },
  {
   "cell_type": "code",
   "execution_count": 7,
   "id": "65e59737",
   "metadata": {},
   "outputs": [
    {
     "data": {
      "text/plain": [
       "'https://aclanthology.org/2021.woah-1.1'"
      ]
     },
     "execution_count": 7,
     "metadata": {},
     "output_type": "execute_result"
    }
   ],
   "source": [
    "df['url'][1]"
   ]
  },
  {
   "cell_type": "code",
   "execution_count": 5,
   "id": "c4970214",
   "metadata": {
    "scrolled": true
   },
   "outputs": [
    {
     "data": {
      "text/html": [
       "<div>\n",
       "<style scoped>\n",
       "    .dataframe tbody tr th:only-of-type {\n",
       "        vertical-align: middle;\n",
       "    }\n",
       "\n",
       "    .dataframe tbody tr th {\n",
       "        vertical-align: top;\n",
       "    }\n",
       "\n",
       "    .dataframe thead th {\n",
       "        text-align: right;\n",
       "    }\n",
       "</style>\n",
       "<table border=\"1\" class=\"dataframe\">\n",
       "  <thead>\n",
       "    <tr style=\"text-align: right;\">\n",
       "      <th></th>\n",
       "      <th>ISBN</th>\n",
       "      <th>address</th>\n",
       "      <th>booktitle</th>\n",
       "      <th>doi</th>\n",
       "      <th>journal</th>\n",
       "      <th>language</th>\n",
       "      <th>month</th>\n",
       "      <th>note</th>\n",
       "      <th>number</th>\n",
       "      <th>pages</th>\n",
       "      <th>publisher</th>\n",
       "      <th>title</th>\n",
       "      <th>url</th>\n",
       "      <th>volume</th>\n",
       "      <th>year</th>\n",
       "    </tr>\n",
       "  </thead>\n",
       "  <tbody>\n",
       "    <tr>\n",
       "      <th>count</th>\n",
       "      <td>1405</td>\n",
       "      <td>66759</td>\n",
       "      <td>69936</td>\n",
       "      <td>27985</td>\n",
       "      <td>2538</td>\n",
       "      <td>3029</td>\n",
       "      <td>66501</td>\n",
       "      <td>200</td>\n",
       "      <td>1834</td>\n",
       "      <td>57877</td>\n",
       "      <td>63550</td>\n",
       "      <td>74520</td>\n",
       "      <td>74520</td>\n",
       "      <td>2319</td>\n",
       "      <td>74520</td>\n",
       "    </tr>\n",
       "    <tr>\n",
       "      <th>unique</th>\n",
       "      <td>37</td>\n",
       "      <td>395</td>\n",
       "      <td>2224</td>\n",
       "      <td>27980</td>\n",
       "      <td>3</td>\n",
       "      <td>4</td>\n",
       "      <td>176</td>\n",
       "      <td>83</td>\n",
       "      <td>6</td>\n",
       "      <td>22148</td>\n",
       "      <td>112</td>\n",
       "      <td>73566</td>\n",
       "      <td>74514</td>\n",
       "      <td>47</td>\n",
       "      <td>60</td>\n",
       "    </tr>\n",
       "    <tr>\n",
       "      <th>top</th>\n",
       "      <td>979-10-95546-34-4</td>\n",
       "      <td>Online</td>\n",
       "      <td>Proceedings of the 12th Language Resources and...</td>\n",
       "      <td>10.18653/v1/W15-43</td>\n",
       "      <td>Computational Linguistics</td>\n",
       "      <td>French</td>\n",
       "      <td>June</td>\n",
       "      <td>Microfiche 79</td>\n",
       "      <td>4</td>\n",
       "      <td>1--10</td>\n",
       "      <td>Association for Computational Linguistics</td>\n",
       "      <td>Advertisements</td>\n",
       "      <td>https://aclanthology.org/2006.amta-panels.5</td>\n",
       "      <td>9</td>\n",
       "      <td>2020</td>\n",
       "    </tr>\n",
       "    <tr>\n",
       "      <th>freq</th>\n",
       "      <td>896</td>\n",
       "      <td>6818</td>\n",
       "      <td>895</td>\n",
       "      <td>3</td>\n",
       "      <td>1726</td>\n",
       "      <td>1440</td>\n",
       "      <td>11222</td>\n",
       "      <td>14</td>\n",
       "      <td>460</td>\n",
       "      <td>230</td>\n",
       "      <td>39982</td>\n",
       "      <td>59</td>\n",
       "      <td>2</td>\n",
       "      <td>126</td>\n",
       "      <td>7140</td>\n",
       "    </tr>\n",
       "  </tbody>\n",
       "</table>\n",
       "</div>"
      ],
      "text/plain": [
       "                     ISBN address  \\\n",
       "count                1405   66759   \n",
       "unique                 37     395   \n",
       "top     979-10-95546-34-4  Online   \n",
       "freq                  896    6818   \n",
       "\n",
       "                                                booktitle                 doi  \\\n",
       "count                                               69936               27985   \n",
       "unique                                               2224               27980   \n",
       "top     Proceedings of the 12th Language Resources and...  10.18653/v1/W15-43   \n",
       "freq                                                  895                   3   \n",
       "\n",
       "                          journal language  month           note number  \\\n",
       "count                        2538     3029  66501            200   1834   \n",
       "unique                          3        4    176             83      6   \n",
       "top     Computational Linguistics   French   June  Microfiche 79      4   \n",
       "freq                         1726     1440  11222             14    460   \n",
       "\n",
       "        pages                                  publisher           title  \\\n",
       "count   57877                                      63550           74520   \n",
       "unique  22148                                        112           73566   \n",
       "top     1--10  Association for Computational Linguistics  Advertisements   \n",
       "freq      230                                      39982              59   \n",
       "\n",
       "                                                url volume   year  \n",
       "count                                         74520   2319  74520  \n",
       "unique                                        74514     47     60  \n",
       "top     https://aclanthology.org/2006.amta-panels.5      9   2020  \n",
       "freq                                              2    126   7140  "
      ]
     },
     "execution_count": 5,
     "metadata": {},
     "output_type": "execute_result"
    }
   ],
   "source": [
    "df.describe()"
   ]
  },
  {
   "cell_type": "code",
   "execution_count": 27,
   "id": "38912c14",
   "metadata": {},
   "outputs": [
    {
     "data": {
      "text/plain": [
       "74520"
      ]
     },
     "execution_count": 27,
     "metadata": {},
     "output_type": "execute_result"
    }
   ],
   "source": [
    "len(df)"
   ]
  },
  {
   "cell_type": "code",
   "execution_count": null,
   "id": "b63e0d0b",
   "metadata": {},
   "outputs": [],
   "source": []
  },
  {
   "cell_type": "code",
   "execution_count": 28,
   "id": "42a51eb2",
   "metadata": {},
   "outputs": [
    {
     "data": {
      "text/plain": [
       "'Exploiting Auxiliary Data for Offensive Language Detection with Bidirectional Transformers'"
      ]
     },
     "execution_count": 28,
     "metadata": {},
     "output_type": "execute_result"
    }
   ],
   "source": [
    "df.title[1]"
   ]
  },
  {
   "cell_type": "markdown",
   "id": "eabdb764",
   "metadata": {},
   "source": [
    "# downloading pdf"
   ]
  },
  {
   "cell_type": "code",
   "execution_count": 12,
   "id": "2c89719a",
   "metadata": {},
   "outputs": [
    {
     "data": {
      "text/plain": [
       "('pdf\\\\Anthology.pdf', <http.client.HTTPMessage at 0x1b705b93d90>)"
      ]
     },
     "execution_count": 12,
     "metadata": {},
     "output_type": "execute_result"
    }
   ],
   "source": [
    "# import urllib\n",
    "# urllib.request.urlretrieve(df['url'][1]+'.pdf', \"pdf\\Anthology.pdf\")"
   ]
  },
  {
   "cell_type": "markdown",
   "id": "67dc7621",
   "metadata": {},
   "source": [
    "# save df "
   ]
  },
  {
   "cell_type": "code",
   "execution_count": 30,
   "id": "ce335882",
   "metadata": {},
   "outputs": [],
   "source": [
    "# df.to_csv('anthology_table.csv')"
   ]
  }
 ],
 "metadata": {
  "kernelspec": {
   "display_name": "Python 3 (ipykernel)",
   "language": "python",
   "name": "python3"
  },
  "language_info": {
   "codemirror_mode": {
    "name": "ipython",
    "version": 3
   },
   "file_extension": ".py",
   "mimetype": "text/x-python",
   "name": "python",
   "nbconvert_exporter": "python",
   "pygments_lexer": "ipython3",
   "version": "3.9.7"
  }
 },
 "nbformat": 4,
 "nbformat_minor": 5
}
