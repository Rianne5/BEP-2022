{
 "cells": [
  {
   "cell_type": "code",
   "execution_count": 1,
   "id": "010f0100",
   "metadata": {},
   "outputs": [],
   "source": [
    "from function import *"
   ]
  },
  {
   "cell_type": "code",
   "execution_count": 2,
   "id": "bab962f7",
   "metadata": {},
   "outputs": [],
   "source": [
    "import pandas as pd\n",
    "import os\n",
    "import arxiv\n",
    "\n",
    "import urllib\n",
    "from sklearn.metrics.pairwise import cosine_similarity\n",
    "import fitz\n",
    "import tensorflow_hub as hub\n",
    "import numpy as np "
   ]
  },
  {
   "cell_type": "code",
   "execution_count": 3,
   "id": "bf3589c9",
   "metadata": {},
   "outputs": [],
   "source": [
    "import time"
   ]
  },
  {
   "cell_type": "code",
   "execution_count": 4,
   "id": "92abc326",
   "metadata": {},
   "outputs": [],
   "source": [
    "embed = hub.load(\"https://tfhub.dev/google/universal-sentence-encoder/4\")"
   ]
  },
  {
   "cell_type": "code",
   "execution_count": 5,
   "id": "e113906e",
   "metadata": {},
   "outputs": [],
   "source": [
    "# loc_name_Arxiv1 = \"pdftest/2108.13487v1.Want_To_Reduce_Labeling_Cost_GPT_3_Can_Help.pdf\"\n",
    "# loc_name_Anth1 = \"pdftest/Anth-Want To Reduce Labeling Cost GPT-3 Can Help.pdf\"\n",
    "\n",
    "# loc_name_Arxiv2 = \"pdftest/2112.15051v1.Does_QA_based_intermediate_training_help_fine_tuning_language_models_for_text_classification.pdf\"\n",
    "# loc_name_Anth2 = \"pdftest/Anth-Does QA-based intermediate training help fine-tuning language models for text classification.pdf\"\n",
    "\n",
    "# loc_name_Arxiv3 = \"pdftest/2201.11934v1.A_Secure_and_Efficient_Federated_Learning_Framework_for_NLP.pdf\"\n",
    "# loc_name_Anth3 = \"pdftest/Anth-A Secure and Efficient Federated Learning Framework for NLP.pdf\"\n",
    "\n",
    "loc_name_Arxiv = \"pdftest/Term_Expansion_and_FinBERT_fine_tuning_for_Hypernym_and_Synonym_Ranking_of_Financial_Terms.pdf\"\n",
    "loc_name_Anth = \"pdftest/Anth-Term Expansion and FinBERT fine-tuning for Hypernym and Synonym Ranking of Financial Terms.pdf\"\n",
    "\n",
    "\n",
    "\n",
    "\n",
    "doc_Arxiv = fitz.open(loc_name_Arxiv)\n",
    "doc_Anth = fitz.open(loc_name_Anth)\n",
    "\n",
    "# doc_Arxiv1 = fitz.open(loc_name_Arxiv1)\n",
    "# doc_Anth1 = fitz.open(loc_name_Anth1)\n",
    "\n",
    "# doc_Arxiv2 = fitz.open(loc_name_Arxiv2)\n",
    "# doc_Anth2 = fitz.open(loc_name_Anth2)\n",
    "\n",
    "# doc_Arxiv3 = fitz.open(loc_name_Arxiv3)\n",
    "# doc_Anth3 = fitz.open(loc_name_Anth3)"
   ]
  },
  {
   "cell_type": "code",
   "execution_count": 6,
   "id": "201499c6",
   "metadata": {},
   "outputs": [],
   "source": [
    "# loc_name_Arxiv6 = \"pdf sim/Arxiv.pdf\"\n",
    "# loc_name_Anth6 = \"pdf sim/Anth.pdf\"\n",
    "\n",
    "# doc_Arxiv6 = fitz.open(loc_name_Arxiv6)\n",
    "# doc_Anth6 = fitz.open(loc_name_Anth6)"
   ]
  },
  {
   "cell_type": "code",
   "execution_count": 5,
   "id": "417ab78c",
   "metadata": {},
   "outputs": [],
   "source": [
    "def test_sim(embed, loc_name_Arxiv, loc_name_Anth):\n",
    "#sometimes download not available. Then download works but does not give a good pdf so reading does not work\n",
    "#         embed = hub.load(\"https://tfhub.dev/google/universal-sentence-encoder/4\")\n",
    "        print('start load')\n",
    "        doc_Arxiv = fitz.open(loc_name_Arxiv)\n",
    "        doc_Anth = fitz.open(loc_name_Anth)\n",
    "        \n",
    "        print('start blocks')\n",
    "        b_Anth = get_blocks(doc_Anth)\n",
    "        b_Arxiv = get_blocks(doc_Arxiv)\n",
    "        rect = (5,180,40,570)\n",
    "        remove_bar = doc_Arxiv.load_page(0).get_text(\"text\",clip=rect)\n",
    "        try:\n",
    "            b_Arxiv.remove(remove_bar)\n",
    "        except:\n",
    "            print('Unable to remove bar from arxiv')\n",
    "    \n",
    "        elem_both_list = set(b_Anth)&set(b_Arxiv)\n",
    "        print('elem_both_list')\n",
    "        print(elem_both_list)\n",
    "        print('start join')\n",
    "        #join blocks\n",
    "#         p_Anth = join_diff(b_Anth, elem_both_list)\n",
    "#         p_Arxiv = join_diff(b_Arxiv, elem_both_list)\n",
    "        p_Anth = join_blocks(b_Anth, elem_both_list)\n",
    "        p_Arxiv = join_blocks(b_Arxiv, elem_both_list)\n",
    "    \n",
    "        print('start embed')\n",
    "        #similarity\n",
    "            \n",
    "        result = sim(p_Anth,p_Arxiv,embed)\n",
    "        return result, b_Arxiv, b_Anth"
   ]
  },
  {
   "cell_type": "code",
   "execution_count": null,
   "id": "9d410616",
   "metadata": {},
   "outputs": [],
   "source": [
    "test_sim_result = test_sim(embed, 'pdf Anth/Anth-Artificial Text Detection via Examining the Topology of Attention Maps.pdf',\n",
    "                          'pdf Arxiv/2108.08375v1.Contributions_of_Transformer_Attention_Heads_in_Multi_and_Cross_lingual_Tasks.pdf')"
   ]
  },
  {
   "cell_type": "code",
   "execution_count": null,
   "id": "d3cfc285",
   "metadata": {},
   "outputs": [],
   "source": [
    "b_Arxiv = test_sim_result[1]\n",
    "b_Anth = test_sim_result[2]"
   ]
  },
  {
   "cell_type": "code",
   "execution_count": 7,
   "id": "2f34f5ca",
   "metadata": {},
   "outputs": [],
   "source": [
    "# doc_Anth\n",
    "b_Anth = get_blocks(doc_Anth)\n",
    "b_Arxiv = get_blocks(doc_Arxiv)\n",
    "\n",
    "                \n",
    "elem_both_list = set(b_Anth)&set(b_Arxiv)\n",
    "# print('start join')\n",
    "#join blocks\n",
    "p_Anth = join_blocks(b_Anth, elem_both_list)\n",
    "p_Arxiv = join_blocks(b_Arxiv, elem_both_list)\n",
    "\n",
    "\n",
    "if [i for i, x in enumerate(b_Arxiv) if x.find('arXiv:')>= 0] !=[]:\n",
    "    i_sidebar = [i for i, x in enumerate(b_Arxiv) if x.find('arXiv:')>= 0][0]\n",
    "    if len(b_Arxiv[i_sidebar])< 50: #dont remove references by accident normal is length 41\n",
    "        x = b_Arxiv.pop(i_sidebar)\n",
    "            \n",
    "#             elem_both_list = set()\n",
    "elem_both_list = set(b_Anth)&set(b_Arxiv)\n",
    "#sometimes same occurs twice in paper then remove this from elem_both_list\n",
    "dup = [x for x in elem_both_list if b_Anth.count(x)>1]\n",
    "dup = set(dup + [x for x in elem_both_list if b_Anth.count(x)>1])\n",
    "for el in dup:\n",
    "    elem_both_list.remove(el)"
   ]
  },
  {
   "cell_type": "code",
   "execution_count": 8,
   "id": "3a4af36e",
   "metadata": {},
   "outputs": [],
   "source": [
    "anth = join_blocks(b_Anth, elem_both_list)\n",
    "arxiv = join_blocks(b_Arxiv, elem_both_list)"
   ]
  },
  {
   "cell_type": "code",
   "execution_count": 43,
   "id": "8c4775c8",
   "metadata": {
    "scrolled": true
   },
   "outputs": [
    {
     "name": "stderr",
     "output_type": "stream",
     "text": [
      "C:\\Users\\20193635\\AppData\\Local\\Temp/ipykernel_14304/1264256420.py:42: SettingWithCopyWarning: \n",
      "A value is trying to be set on a copy of a slice from a DataFrame.\n",
      "Try using .loc[row_indexer,col_indexer] = value instead\n",
      "\n",
      "See the caveats in the documentation: https://pandas.pydata.org/pandas-docs/stable/user_guide/indexing.html#returning-a-view-versus-a-copy\n",
      "  df2['cosine'] = df2.apply(lambda x:cosine_similarity(embed([x.Anth]),embed([x.Arxiv])), axis=1)\n",
      "\n",
      "C:\\Users\\20193635\\AppData\\Local\\Temp/ipykernel_14304/1264256420.py:43: SettingWithCopyWarning: \n",
      "A value is trying to be set on a copy of a slice from a DataFrame.\n",
      "Try using .loc[row_indexer,col_indexer] = value instead\n",
      "\n",
      "See the caveats in the documentation: https://pandas.pydata.org/pandas-docs/stable/user_guide/indexing.html#returning-a-view-versus-a-copy\n",
      "  df2['cosine'] = df2['cosine'].astype(float)\n",
      "\n"
     ]
    }
   ],
   "source": [
    "#     print('start sim')\n",
    "#     print('Length Anthology: {}\\nLength Arxiv:{}'.format(len(anth),len(arxiv)))\n",
    "# len_Anth = len(anth)\n",
    "# len_Arxiv = len(arxiv)\n",
    "    \n",
    "# set_Anth = set(clean_n(\" \".join(anth)).split())\n",
    "# set_Arxiv = set(clean_n(\" \".join(arxiv)).split())\n",
    "    \n",
    "#     # jacc = Intersection/Union\n",
    "# jacc = len(set_Anth & set_Arxiv)/len(set_Anth | set_Arxiv)\n",
    "    \n",
    "    \n",
    "    #action if not same length make it one big string\n",
    "if len(anth) != len(arxiv):\n",
    "    u_anth = \" \".join(anth)\n",
    "    u_arxiv = \" \".join(arxiv)\n",
    "        #could be just length of words??\n",
    "#         print('Updated length Anthology: {}\\nUpdated length Arxiv:{}'.format(len(u_anth),len(u_arxiv)))\n",
    "    df = pd.DataFrame()\n",
    "    df['Anth'] = [u_anth]\n",
    "    df['Arxiv'] = [u_arxiv]\n",
    "    len_blocks = 1\n",
    "else:\n",
    "    df = pd.DataFrame()\n",
    "    df['Anth'] = anth\n",
    "    df['Arxiv'] = arxiv\n",
    "    len_blocks= len(anth)\n",
    "\n",
    "df['Anth'] = df['Anth'].apply(clean_n)\n",
    "df['Arxiv'] = df['Arxiv'].apply(clean_n)\n",
    "#     print(df)\n",
    "    \n",
    "df['words Anth'] = df['Anth'].apply(lambda x: len(x.split()))\n",
    "df['words Arxiv'] = df['Arxiv'].apply(lambda x: len(x.split()))\n",
    "w_Anth = sum(df['words Anth'])\n",
    "w_Arxiv = sum(df['words Arxiv'])\n",
    "\n",
    "df['weight'] = df['words Anth']+df['words Arxiv']\n",
    "\n",
    "#     print('start cosin')\n",
    "\n",
    "# df2['cosine'] = df2.apply(lambda x:cosine_similarity(embed([x.Anth]),embed([x.Arxiv])), axis=1)\n",
    "# df2['cosine'] = df2['cosine'].astype(float)\n",
    "\n",
    "    \n",
    "df['cosine'] = df.apply(lambda x:cosine_similarity(embed([x.Anth]),embed([x.Arxiv])), axis=1)\n",
    "df['cosine'] = df['cosine'].astype(float).round(6)\n",
    "df2 = df[df['words Anth']>50] #shorter pieces are often just headings, \n",
    "    \n",
    "weight_avg = round(np.average( df2['cosine'], weights = df2['weight']),6)\n",
    "# weight_avg = round(np.average( df['cosine'], weights = df['weight']),6)"
   ]
  },
  {
   "cell_type": "code",
   "execution_count": 12,
   "id": "0596423c",
   "metadata": {},
   "outputs": [
    {
     "data": {
      "text/plain": [
       "<AxesSubplot:>"
      ]
     },
     "execution_count": 12,
     "metadata": {},
     "output_type": "execute_result"
    },
    {
     "data": {
      "image/png": "[encoded data removed]",
      "text/plain": [
       "<Figure size 432x288 with 1 Axes>"
      ]
     },
     "metadata": {
      "needs_background": "light"
     },
     "output_type": "display_data"
    }
   ],
   "source": [
    "df[df['words Anth']>10]['words Anth'].plot(kind='bar')"
   ]
  },
  {
   "cell_type": "code",
   "execution_count": 158,
   "id": "b1ef62bc",
   "metadata": {},
   "outputs": [
    {
     "data": {
      "image/png": "[encoded data removed]",
      "text/plain": [
       "<Figure size 432x288 with 1 Axes>"
      ]
     },
     "metadata": {
      "needs_background": "light"
     },
     "output_type": "display_data"
    }
   ],
   "source": [
    "ax = df[df['words Anth']>50]['words Anth'].plot(kind='bar',  xlabel = 'Section', ylabel = 'Number of words')\n",
    "#xticks = [0,20,40,60,80]\n",
    "#title = 'Number of words for each section',"
   ]
  },
  {
   "cell_type": "code",
   "execution_count": 159,
   "id": "57598937",
   "metadata": {},
   "outputs": [],
   "source": [
    "fig = ax.get_figure()\n",
    "fig\n",
    "# fig.savefig('No title bar df2')"
   ]
  },
  {
   "cell_type": "code",
   "execution_count": 116,
   "id": "edd21cca",
   "metadata": {},
   "outputs": [
    {
     "data": {
      "text/plain": [
       "<AxesSubplot:>"
      ]
     },
     "execution_count": 116,
     "metadata": {},
     "output_type": "execute_result"
    },
    {
     "data": {
      "image/png": "[encoded data removed]",
      "text/plain": [
       "<Figure size 432x288 with 1 Axes>"
      ]
     },
     "metadata": {
      "needs_background": "light"
     },
     "output_type": "display_data"
    }
   ],
   "source": [
    "df[df['words Anth']>1]['words Anth'].plot(kind='bar')"
   ]
  },
  {
   "cell_type": "code",
   "execution_count": 113,
   "id": "d937c157",
   "metadata": {},
   "outputs": [
    {
     "data": {
      "text/plain": [
       "<AxesSubplot:>"
      ]
     },
     "execution_count": 113,
     "metadata": {},
     "output_type": "execute_result"
    },
    {
     "data": {
      "image/png": "[encoded data removed]",
      "text/plain": [
       "<Figure size 432x288 with 1 Axes>"
      ]
     },
     "metadata": {
      "needs_background": "light"
     },
     "output_type": "display_data"
    }
   ],
   "source": [
    "df[df['words Anth']>50]['cosine'].plot(kind='bar')"
   ]
  },
  {
   "cell_type": "code",
   "execution_count": 15,
   "id": "bea7c538",
   "metadata": {},
   "outputs": [
    {
     "data": {
      "text/plain": [
       "<AxesSubplot:ylabel='Density'>"
      ]
     },
     "execution_count": 15,
     "metadata": {},
     "output_type": "execute_result"
    },
    {
     "data": {
      "image/png": "[encoded data removed]",
      "text/plain": [
       "<Figure size 432x288 with 1 Axes>"
      ]
     },
     "metadata": {
      "needs_background": "light"
     },
     "output_type": "display_data"
    }
   ],
   "source": [
    "df[df['words Anth']>10]['words Anth'].plot(kind='density')"
   ]
  },
  {
   "cell_type": "code",
   "execution_count": 151,
   "id": "b85eb341",
   "metadata": {
    "scrolled": true
   },
   "outputs": [
    {
     "data": {
      "image/png": "[encoded data removed]",
      "text/plain": [
       "<Figure size 432x288 with 1 Axes>"
      ]
     },
     "metadata": {
      "needs_background": "light"
     },
     "output_type": "display_data"
    }
   ],
   "source": [
    "ax = df2.plot(kind = 'scatter', x='weight', y= 'cosine')#.save_fig('Scatterplot of cosine and weight')\n"
   ]
  },
  {
   "cell_type": "code",
   "execution_count": 104,
   "id": "2d1e3195",
   "metadata": {},
   "outputs": [
    {
     "data": {
      "text/html": [
       "<div>\n",
       "<style scoped>\n",
       "    .dataframe tbody tr th:only-of-type {\n",
       "        vertical-align: middle;\n",
       "    }\n",
       "\n",
       "    .dataframe tbody tr th {\n",
       "        vertical-align: top;\n",
       "    }\n",
       "\n",
       "    .dataframe thead th {\n",
       "        text-align: right;\n",
       "    }\n",
       "</style>\n",
       "<table border=\"1\" class=\"dataframe\">\n",
       "  <thead>\n",
       "    <tr style=\"text-align: right;\">\n",
       "      <th></th>\n",
       "      <th>words Anth</th>\n",
       "      <th>words Arxiv</th>\n",
       "      <th>weight</th>\n",
       "      <th>cosine</th>\n",
       "    </tr>\n",
       "  </thead>\n",
       "  <tbody>\n",
       "    <tr>\n",
       "      <th>count</th>\n",
       "      <td>11.000000</td>\n",
       "      <td>11.000000</td>\n",
       "      <td>11.000000</td>\n",
       "      <td>11.000000</td>\n",
       "    </tr>\n",
       "    <tr>\n",
       "      <th>mean</th>\n",
       "      <td>349.818182</td>\n",
       "      <td>350.545455</td>\n",
       "      <td>700.363636</td>\n",
       "      <td>0.986807</td>\n",
       "    </tr>\n",
       "    <tr>\n",
       "      <th>std</th>\n",
       "      <td>392.556192</td>\n",
       "      <td>392.941055</td>\n",
       "      <td>785.448187</td>\n",
       "      <td>0.024704</td>\n",
       "    </tr>\n",
       "    <tr>\n",
       "      <th>min</th>\n",
       "      <td>75.000000</td>\n",
       "      <td>66.000000</td>\n",
       "      <td>141.000000</td>\n",
       "      <td>0.922924</td>\n",
       "    </tr>\n",
       "    <tr>\n",
       "      <th>25%</th>\n",
       "      <td>81.500000</td>\n",
       "      <td>89.000000</td>\n",
       "      <td>168.000000</td>\n",
       "      <td>0.991534</td>\n",
       "    </tr>\n",
       "    <tr>\n",
       "      <th>50%</th>\n",
       "      <td>193.000000</td>\n",
       "      <td>193.000000</td>\n",
       "      <td>386.000000</td>\n",
       "      <td>0.998476</td>\n",
       "    </tr>\n",
       "    <tr>\n",
       "      <th>75%</th>\n",
       "      <td>390.500000</td>\n",
       "      <td>385.000000</td>\n",
       "      <td>775.500000</td>\n",
       "      <td>0.999576</td>\n",
       "    </tr>\n",
       "    <tr>\n",
       "      <th>max</th>\n",
       "      <td>1108.000000</td>\n",
       "      <td>1121.000000</td>\n",
       "      <td>2229.000000</td>\n",
       "      <td>1.000000</td>\n",
       "    </tr>\n",
       "  </tbody>\n",
       "</table>\n",
       "</div>"
      ],
      "text/plain": [
       "        words Anth  words Arxiv       weight     cosine\n",
       "count    11.000000    11.000000    11.000000  11.000000\n",
       "mean    349.818182   350.545455   700.363636   0.986807\n",
       "std     392.556192   392.941055   785.448187   0.024704\n",
       "min      75.000000    66.000000   141.000000   0.922924\n",
       "25%      81.500000    89.000000   168.000000   0.991534\n",
       "50%     193.000000   193.000000   386.000000   0.998476\n",
       "75%     390.500000   385.000000   775.500000   0.999576\n",
       "max    1108.000000  1121.000000  2229.000000   1.000000"
      ]
     },
     "execution_count": 104,
     "metadata": {},
     "output_type": "execute_result"
    }
   ],
   "source": [
    "df2.describe()"
   ]
  },
  {
   "cell_type": "code",
   "execution_count": 109,
   "id": "d394edfb",
   "metadata": {},
   "outputs": [
    {
     "name": "stdout",
     "output_type": "stream",
     "text": [
      "\\begin{tabular}{lrrrr}\n",
      "\\toprule\n",
      "{} &  words Anth &  words Arxiv &  weight &  cosine \\\\\n",
      "\\midrule\n",
      "\\textbf{count} &       68.00 &        68.00 &   68.00 &   68.00 \\\\\n",
      "\\textbf{mean } &       62.78 &        62.59 &  125.37 &    0.99 \\\\\n",
      "\\textbf{std  } &      197.98 &       198.34 &  396.30 &    0.07 \\\\\n",
      "\\textbf{min  } &        2.00 &         2.00 &    4.00 &    0.46 \\\\\n",
      "\\textbf{25\\%  } &        3.00 &         3.00 &    6.00 &    1.00 \\\\\n",
      "\\textbf{50\\%  } &        5.50 &         5.50 &   11.00 &    1.00 \\\\\n",
      "\\textbf{75\\%  } &       15.00 &        13.00 &   28.75 &    1.00 \\\\\n",
      "\\textbf{max  } &     1108.00 &      1121.00 & 2229.00 &    1.00 \\\\\n",
      "\\bottomrule\n",
      "\\end{tabular}\n",
      "\n"
     ]
    }
   ],
   "source": [
    "print(df.describe().to_latex(float_format=\"%.2f\", bold_rows=True))"
   ]
  },
  {
   "cell_type": "code",
   "execution_count": 86,
   "id": "69109520",
   "metadata": {},
   "outputs": [
    {
     "data": {
      "text/html": [
       "<div>\n",
       "<style scoped>\n",
       "    .dataframe tbody tr th:only-of-type {\n",
       "        vertical-align: middle;\n",
       "    }\n",
       "\n",
       "    .dataframe tbody tr th {\n",
       "        vertical-align: top;\n",
       "    }\n",
       "\n",
       "    .dataframe thead th {\n",
       "        text-align: right;\n",
       "    }\n",
       "</style>\n",
       "<table border=\"1\" class=\"dataframe\">\n",
       "  <thead>\n",
       "    <tr style=\"text-align: right;\">\n",
       "      <th></th>\n",
       "      <th>words Anth</th>\n",
       "      <th>words Arxiv</th>\n",
       "      <th>weight</th>\n",
       "      <th>cosine</th>\n",
       "    </tr>\n",
       "  </thead>\n",
       "  <tbody>\n",
       "    <tr>\n",
       "      <th>count</th>\n",
       "      <td>68.000000</td>\n",
       "      <td>68.000000</td>\n",
       "      <td>68.000000</td>\n",
       "      <td>68.000000</td>\n",
       "    </tr>\n",
       "    <tr>\n",
       "      <th>mean</th>\n",
       "      <td>62.779412</td>\n",
       "      <td>62.588235</td>\n",
       "      <td>125.367647</td>\n",
       "      <td>0.989947</td>\n",
       "    </tr>\n",
       "    <tr>\n",
       "      <th>std</th>\n",
       "      <td>197.981595</td>\n",
       "      <td>198.338564</td>\n",
       "      <td>396.297412</td>\n",
       "      <td>0.065914</td>\n",
       "    </tr>\n",
       "    <tr>\n",
       "      <th>min</th>\n",
       "      <td>2.000000</td>\n",
       "      <td>2.000000</td>\n",
       "      <td>4.000000</td>\n",
       "      <td>0.461530</td>\n",
       "    </tr>\n",
       "    <tr>\n",
       "      <th>25%</th>\n",
       "      <td>3.000000</td>\n",
       "      <td>3.000000</td>\n",
       "      <td>6.000000</td>\n",
       "      <td>1.000000</td>\n",
       "    </tr>\n",
       "    <tr>\n",
       "      <th>50%</th>\n",
       "      <td>5.500000</td>\n",
       "      <td>5.500000</td>\n",
       "      <td>11.000000</td>\n",
       "      <td>1.000000</td>\n",
       "    </tr>\n",
       "    <tr>\n",
       "      <th>75%</th>\n",
       "      <td>15.000000</td>\n",
       "      <td>13.000000</td>\n",
       "      <td>28.750000</td>\n",
       "      <td>1.000000</td>\n",
       "    </tr>\n",
       "    <tr>\n",
       "      <th>max</th>\n",
       "      <td>1108.000000</td>\n",
       "      <td>1121.000000</td>\n",
       "      <td>2229.000000</td>\n",
       "      <td>1.000000</td>\n",
       "    </tr>\n",
       "  </tbody>\n",
       "</table>\n",
       "</div>"
      ],
      "text/plain": [
       "        words Anth  words Arxiv       weight     cosine\n",
       "count    68.000000    68.000000    68.000000  68.000000\n",
       "mean     62.779412    62.588235   125.367647   0.989947\n",
       "std     197.981595   198.338564   396.297412   0.065914\n",
       "min       2.000000     2.000000     4.000000   0.461530\n",
       "25%       3.000000     3.000000     6.000000   1.000000\n",
       "50%       5.500000     5.500000    11.000000   1.000000\n",
       "75%      15.000000    13.000000    28.750000   1.000000\n",
       "max    1108.000000  1121.000000  2229.000000   1.000000"
      ]
     },
     "execution_count": 86,
     "metadata": {},
     "output_type": "execute_result"
    }
   ],
   "source": [
    "df.describe()"
   ]
  },
  {
   "cell_type": "code",
   "execution_count": 87,
   "id": "eb212f5b",
   "metadata": {},
   "outputs": [
    {
     "data": {
      "text/html": [
       "<div>\n",
       "<style scoped>\n",
       "    .dataframe tbody tr th:only-of-type {\n",
       "        vertical-align: middle;\n",
       "    }\n",
       "\n",
       "    .dataframe tbody tr th {\n",
       "        vertical-align: top;\n",
       "    }\n",
       "\n",
       "    .dataframe thead th {\n",
       "        text-align: right;\n",
       "    }\n",
       "</style>\n",
       "<table border=\"1\" class=\"dataframe\">\n",
       "  <thead>\n",
       "    <tr style=\"text-align: right;\">\n",
       "      <th></th>\n",
       "      <th>words Anth</th>\n",
       "      <th>words Arxiv</th>\n",
       "      <th>weight</th>\n",
       "      <th>cosine</th>\n",
       "    </tr>\n",
       "  </thead>\n",
       "  <tbody>\n",
       "    <tr>\n",
       "      <th>count</th>\n",
       "      <td>11.000000</td>\n",
       "      <td>11.000000</td>\n",
       "      <td>11.000000</td>\n",
       "      <td>11.000000</td>\n",
       "    </tr>\n",
       "    <tr>\n",
       "      <th>mean</th>\n",
       "      <td>349.818182</td>\n",
       "      <td>350.545455</td>\n",
       "      <td>700.363636</td>\n",
       "      <td>0.986807</td>\n",
       "    </tr>\n",
       "    <tr>\n",
       "      <th>std</th>\n",
       "      <td>392.556192</td>\n",
       "      <td>392.941055</td>\n",
       "      <td>785.448187</td>\n",
       "      <td>0.024704</td>\n",
       "    </tr>\n",
       "    <tr>\n",
       "      <th>min</th>\n",
       "      <td>75.000000</td>\n",
       "      <td>66.000000</td>\n",
       "      <td>141.000000</td>\n",
       "      <td>0.922924</td>\n",
       "    </tr>\n",
       "    <tr>\n",
       "      <th>25%</th>\n",
       "      <td>81.500000</td>\n",
       "      <td>89.000000</td>\n",
       "      <td>168.000000</td>\n",
       "      <td>0.991534</td>\n",
       "    </tr>\n",
       "    <tr>\n",
       "      <th>50%</th>\n",
       "      <td>193.000000</td>\n",
       "      <td>193.000000</td>\n",
       "      <td>386.000000</td>\n",
       "      <td>0.998476</td>\n",
       "    </tr>\n",
       "    <tr>\n",
       "      <th>75%</th>\n",
       "      <td>390.500000</td>\n",
       "      <td>385.000000</td>\n",
       "      <td>775.500000</td>\n",
       "      <td>0.999576</td>\n",
       "    </tr>\n",
       "    <tr>\n",
       "      <th>max</th>\n",
       "      <td>1108.000000</td>\n",
       "      <td>1121.000000</td>\n",
       "      <td>2229.000000</td>\n",
       "      <td>1.000000</td>\n",
       "    </tr>\n",
       "  </tbody>\n",
       "</table>\n",
       "</div>"
      ],
      "text/plain": [
       "        words Anth  words Arxiv       weight     cosine\n",
       "count    11.000000    11.000000    11.000000  11.000000\n",
       "mean    349.818182   350.545455   700.363636   0.986807\n",
       "std     392.556192   392.941055   785.448187   0.024704\n",
       "min      75.000000    66.000000   141.000000   0.922924\n",
       "25%      81.500000    89.000000   168.000000   0.991534\n",
       "50%     193.000000   193.000000   386.000000   0.998476\n",
       "75%     390.500000   385.000000   775.500000   0.999576\n",
       "max    1108.000000  1121.000000  2229.000000   1.000000"
      ]
     },
     "execution_count": 87,
     "metadata": {},
     "output_type": "execute_result"
    }
   ],
   "source": [
    "df2.describe()"
   ]
  },
  {
   "cell_type": "code",
   "execution_count": 175,
   "id": "57c6e156",
   "metadata": {},
   "outputs": [
    {
     "data": {
      "text/plain": [
       "'1 Introduction  Ontologies are rich sources of information that provide deep information about the underlying concepts and entities. This information is described for a speciﬁc domain, contains the clearly deﬁned relationship, and organizes in a deﬁned structure mostly as a hierarchy. These properties make ontologies a great source for getting a deeper understanding of the relationship and properties of resources from the domain in consideration. Public knowledge graphs and ontologies like DBpedia and Yago have been shown to work on various applications like '"
      ]
     },
     "execution_count": 175,
     "metadata": {},
     "output_type": "execute_result"
    }
   ],
   "source": [
    "df['Anth'][4]"
   ]
  }
 ],
 "metadata": {
  "kernelspec": {
   "display_name": "Python 3 (ipykernel)",
   "language": "python",
   "name": "python3"
  },
  "language_info": {
   "codemirror_mode": {
    "name": "ipython",
    "version": 3
   },
   "file_extension": ".py",
   "mimetype": "text/x-python",
   "name": "python",
   "nbconvert_exporter": "python",
   "pygments_lexer": "ipython3",
   "version": "3.9.7"
  }
 },
 "nbformat": 4,
 "nbformat_minor": 5
}
