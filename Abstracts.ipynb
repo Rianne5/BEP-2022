{
 "cells": [
  {
   "cell_type": "code",
   "execution_count": 5,
   "id": "a05921bc",
   "metadata": {},
   "outputs": [],
   "source": [
    "import pandas as pd\n",
    "import os\n",
    "import arxiv\n",
    "\n",
    "import urllib\n",
    "from sklearn.metrics.pairwise import cosine_similarity\n",
    "import fitz\n",
    "import tensorflow_hub as hub\n",
    "import numpy as np "
   ]
  },
  {
   "cell_type": "code",
   "execution_count": 6,
   "id": "0e566135",
   "metadata": {},
   "outputs": [],
   "source": [
    "from function import *"
   ]
  },
  {
   "cell_type": "code",
   "execution_count": 7,
   "id": "8aaab3a2",
   "metadata": {},
   "outputs": [],
   "source": [
    "import time\n",
    "import matplotlib as plt"
   ]
  },
  {
   "cell_type": "code",
   "execution_count": 8,
   "id": "a72ae579",
   "metadata": {},
   "outputs": [],
   "source": [
    "import sys\n",
    "import os"
   ]
  },
  {
   "cell_type": "code",
   "execution_count": 9,
   "id": "2185f599",
   "metadata": {},
   "outputs": [],
   "source": [
    "#use tranfer learning\n",
    "#takes longer to load than dan\n",
    "embed = hub.load(\"https://tfhub.dev/google/universal-sentence-encoder-large/5\")"
   ]
  },
  {
   "cell_type": "markdown",
   "id": "343b0449",
   "metadata": {},
   "source": [
    "# Get abstract from Anthology and Arxiv"
   ]
  },
  {
   "cell_type": "code",
   "execution_count": 10,
   "id": "1a127c8f",
   "metadata": {},
   "outputs": [
    {
     "name": "stderr",
     "output_type": "stream",
     "text": [
      "C:\\Users\\20193635\\Anaconda3\\lib\\site-packages\\IPython\\core\\interactiveshell.py:3444: DtypeWarning: Columns (6,8) have mixed types.Specify dtype option on import or set low_memory=False.\n",
      "  exec(code_obj, self.user_global_ns, self.user_ns)\n",
      "\n"
     ]
    }
   ],
   "source": [
    "table = pd.read_csv('combined_table.csv',index_col='Unnamed: 0')"
   ]
  },
  {
   "cell_type": "code",
   "execution_count": 11,
   "id": "1854be76",
   "metadata": {
    "scrolled": true
   },
   "outputs": [
    {
     "data": {
      "text/html": [
       "<div>\n",
       "<style scoped>\n",
       "    .dataframe tbody tr th:only-of-type {\n",
       "        vertical-align: middle;\n",
       "    }\n",
       "\n",
       "    .dataframe tbody tr th {\n",
       "        vertical-align: top;\n",
       "    }\n",
       "\n",
       "    .dataframe thead th {\n",
       "        text-align: right;\n",
       "    }\n",
       "</style>\n",
       "<table border=\"1\" class=\"dataframe\">\n",
       "  <thead>\n",
       "    <tr style=\"text-align: right;\">\n",
       "      <th></th>\n",
       "      <th>ISBN</th>\n",
       "      <th>address</th>\n",
       "      <th>booktitle</th>\n",
       "      <th>doi</th>\n",
       "      <th>journal</th>\n",
       "      <th>language</th>\n",
       "      <th>month</th>\n",
       "      <th>note</th>\n",
       "      <th>number</th>\n",
       "      <th>pages</th>\n",
       "      <th>publisher</th>\n",
       "      <th>title</th>\n",
       "      <th>url</th>\n",
       "      <th>volume</th>\n",
       "      <th>year</th>\n",
       "      <th>clean</th>\n",
       "      <th>title_Arxiv</th>\n",
       "      <th>pdf_url_Arxiv</th>\n",
       "      <th>published_Arxiv</th>\n",
       "      <th>result_Arxiv</th>\n",
       "    </tr>\n",
       "  </thead>\n",
       "  <tbody>\n",
       "    <tr>\n",
       "      <th>0</th>\n",
       "      <td>NaN</td>\n",
       "      <td>Online</td>\n",
       "      <td>NaN</td>\n",
       "      <td>NaN</td>\n",
       "      <td>NaN</td>\n",
       "      <td>NaN</td>\n",
       "      <td>August</td>\n",
       "      <td>NaN</td>\n",
       "      <td>NaN</td>\n",
       "      <td>NaN</td>\n",
       "      <td>Association for Computational Linguistics</td>\n",
       "      <td>Proceedings of the 5th Workshop on Online Abus...</td>\n",
       "      <td>https://aclanthology.org/2021.woah-1.0</td>\n",
       "      <td>NaN</td>\n",
       "      <td>2021</td>\n",
       "      <td>Proceedings of the 5th Workshop on Online Abus...</td>\n",
       "      <td>NF</td>\n",
       "      <td>NaN</td>\n",
       "      <td>NaN</td>\n",
       "      <td>NaN</td>\n",
       "    </tr>\n",
       "    <tr>\n",
       "      <th>1</th>\n",
       "      <td>NaN</td>\n",
       "      <td>Online</td>\n",
       "      <td>Proceedings of the 5th Workshop on Online Abus...</td>\n",
       "      <td>10.18653/v1/2021.woah-1.1</td>\n",
       "      <td>NaN</td>\n",
       "      <td>NaN</td>\n",
       "      <td>August</td>\n",
       "      <td>NaN</td>\n",
       "      <td>NaN</td>\n",
       "      <td>1--5</td>\n",
       "      <td>Association for Computational Linguistics</td>\n",
       "      <td>Exploiting Auxiliary Data for Offensive Langua...</td>\n",
       "      <td>https://aclanthology.org/2021.woah-1.1</td>\n",
       "      <td>NaN</td>\n",
       "      <td>2021</td>\n",
       "      <td>Exploiting Auxiliary Data for Offensive Langua...</td>\n",
       "      <td>NF</td>\n",
       "      <td>NaN</td>\n",
       "      <td>NaN</td>\n",
       "      <td>NaN</td>\n",
       "    </tr>\n",
       "    <tr>\n",
       "      <th>2</th>\n",
       "      <td>NaN</td>\n",
       "      <td>Online</td>\n",
       "      <td>Proceedings of the 5th Workshop on Online Abus...</td>\n",
       "      <td>10.18653/v1/2021.woah-1.2</td>\n",
       "      <td>NaN</td>\n",
       "      <td>NaN</td>\n",
       "      <td>August</td>\n",
       "      <td>NaN</td>\n",
       "      <td>NaN</td>\n",
       "      <td>6--16</td>\n",
       "      <td>Association for Computational Linguistics</td>\n",
       "      <td>Modeling Profanity and Hate Speech in Social M...</td>\n",
       "      <td>https://aclanthology.org/2021.woah-1.2</td>\n",
       "      <td>NaN</td>\n",
       "      <td>2021</td>\n",
       "      <td>Modeling Profanity and Hate Speech in Social M...</td>\n",
       "      <td>Modeling Profanity and Hate Speech in Social M...</td>\n",
       "      <td>http://arxiv.org/pdf/2106.07505v2</td>\n",
       "      <td>2021-06-14 15:34:37+00:00</td>\n",
       "      <td>http://arxiv.org/abs/2106.07505v2</td>\n",
       "    </tr>\n",
       "    <tr>\n",
       "      <th>3</th>\n",
       "      <td>NaN</td>\n",
       "      <td>Online</td>\n",
       "      <td>Proceedings of the 5th Workshop on Online Abus...</td>\n",
       "      <td>10.18653/v1/2021.woah-1.3</td>\n",
       "      <td>NaN</td>\n",
       "      <td>NaN</td>\n",
       "      <td>August</td>\n",
       "      <td>NaN</td>\n",
       "      <td>NaN</td>\n",
       "      <td>17--25</td>\n",
       "      <td>Association for Computational Linguistics</td>\n",
       "      <td>HateBERT: Retraining BERT for Abusive Language...</td>\n",
       "      <td>https://aclanthology.org/2021.woah-1.3</td>\n",
       "      <td>NaN</td>\n",
       "      <td>2021</td>\n",
       "      <td>HateBERT  Retraining BERT for Abusive Language...</td>\n",
       "      <td>HateBERT: Retraining BERT for Abusive Language...</td>\n",
       "      <td>http://arxiv.org/pdf/2010.12472v2</td>\n",
       "      <td>2020-10-23 15:14:14+00:00</td>\n",
       "      <td>http://arxiv.org/abs/2010.12472v2</td>\n",
       "    </tr>\n",
       "    <tr>\n",
       "      <th>4</th>\n",
       "      <td>NaN</td>\n",
       "      <td>Online</td>\n",
       "      <td>Proceedings of the 5th Workshop on Online Abus...</td>\n",
       "      <td>10.18653/v1/2021.woah-1.4</td>\n",
       "      <td>NaN</td>\n",
       "      <td>NaN</td>\n",
       "      <td>August</td>\n",
       "      <td>NaN</td>\n",
       "      <td>NaN</td>\n",
       "      <td>26--35</td>\n",
       "      <td>Association for Computational Linguistics</td>\n",
       "      <td>Memes in the Wild: Assessing the Generalizabil...</td>\n",
       "      <td>https://aclanthology.org/2021.woah-1.4</td>\n",
       "      <td>NaN</td>\n",
       "      <td>2021</td>\n",
       "      <td>Memes in the Wild  Assessing the Generalizabil...</td>\n",
       "      <td>Memes in the Wild: Assessing the Generalizabil...</td>\n",
       "      <td>http://arxiv.org/pdf/2107.04313v1</td>\n",
       "      <td>2021-07-09 09:04:05+00:00</td>\n",
       "      <td>http://arxiv.org/abs/2107.04313v1</td>\n",
       "    </tr>\n",
       "  </tbody>\n",
       "</table>\n",
       "</div>"
      ],
      "text/plain": [
       "  ISBN address                                          booktitle  \\\n",
       "0  NaN  Online                                                NaN   \n",
       "1  NaN  Online  Proceedings of the 5th Workshop on Online Abus...   \n",
       "2  NaN  Online  Proceedings of the 5th Workshop on Online Abus...   \n",
       "3  NaN  Online  Proceedings of the 5th Workshop on Online Abus...   \n",
       "4  NaN  Online  Proceedings of the 5th Workshop on Online Abus...   \n",
       "\n",
       "                         doi journal language   month note  number   pages  \\\n",
       "0                        NaN     NaN      NaN  August  NaN     NaN     NaN   \n",
       "1  10.18653/v1/2021.woah-1.1     NaN      NaN  August  NaN     NaN    1--5   \n",
       "2  10.18653/v1/2021.woah-1.2     NaN      NaN  August  NaN     NaN   6--16   \n",
       "3  10.18653/v1/2021.woah-1.3     NaN      NaN  August  NaN     NaN  17--25   \n",
       "4  10.18653/v1/2021.woah-1.4     NaN      NaN  August  NaN     NaN  26--35   \n",
       "\n",
       "                                   publisher  \\\n",
       "0  Association for Computational Linguistics   \n",
       "1  Association for Computational Linguistics   \n",
       "2  Association for Computational Linguistics   \n",
       "3  Association for Computational Linguistics   \n",
       "4  Association for Computational Linguistics   \n",
       "\n",
       "                                               title  \\\n",
       "0  Proceedings of the 5th Workshop on Online Abus...   \n",
       "1  Exploiting Auxiliary Data for Offensive Langua...   \n",
       "2  Modeling Profanity and Hate Speech in Social M...   \n",
       "3  HateBERT: Retraining BERT for Abusive Language...   \n",
       "4  Memes in the Wild: Assessing the Generalizabil...   \n",
       "\n",
       "                                      url  volume  year  \\\n",
       "0  https://aclanthology.org/2021.woah-1.0     NaN  2021   \n",
       "1  https://aclanthology.org/2021.woah-1.1     NaN  2021   \n",
       "2  https://aclanthology.org/2021.woah-1.2     NaN  2021   \n",
       "3  https://aclanthology.org/2021.woah-1.3     NaN  2021   \n",
       "4  https://aclanthology.org/2021.woah-1.4     NaN  2021   \n",
       "\n",
       "                                               clean  \\\n",
       "0  Proceedings of the 5th Workshop on Online Abus...   \n",
       "1  Exploiting Auxiliary Data for Offensive Langua...   \n",
       "2  Modeling Profanity and Hate Speech in Social M...   \n",
       "3  HateBERT  Retraining BERT for Abusive Language...   \n",
       "4  Memes in the Wild  Assessing the Generalizabil...   \n",
       "\n",
       "                                         title_Arxiv  \\\n",
       "0                                                 NF   \n",
       "1                                                 NF   \n",
       "2  Modeling Profanity and Hate Speech in Social M...   \n",
       "3  HateBERT: Retraining BERT for Abusive Language...   \n",
       "4  Memes in the Wild: Assessing the Generalizabil...   \n",
       "\n",
       "                       pdf_url_Arxiv            published_Arxiv  \\\n",
       "0                                NaN                        NaN   \n",
       "1                                NaN                        NaN   \n",
       "2  http://arxiv.org/pdf/2106.07505v2  2021-06-14 15:34:37+00:00   \n",
       "3  http://arxiv.org/pdf/2010.12472v2  2020-10-23 15:14:14+00:00   \n",
       "4  http://arxiv.org/pdf/2107.04313v1  2021-07-09 09:04:05+00:00   \n",
       "\n",
       "                        result_Arxiv  \n",
       "0                                NaN  \n",
       "1                                NaN  \n",
       "2  http://arxiv.org/abs/2106.07505v2  \n",
       "3  http://arxiv.org/abs/2010.12472v2  \n",
       "4  http://arxiv.org/abs/2107.04313v1  "
      ]
     },
     "execution_count": 11,
     "metadata": {},
     "output_type": "execute_result"
    }
   ],
   "source": [
    "table.head()"
   ]
  },
  {
   "cell_type": "code",
   "execution_count": 12,
   "id": "82153e0b",
   "metadata": {},
   "outputs": [],
   "source": [
    "def search_abstract(ids):\n",
    "    search = arxiv.Search(id_list = [ids],max_results=1)\n",
    "    for result in search.results():\n",
    "        a = result.summary\n",
    "        time.sleep(3)\n",
    "        return a"
   ]
  },
  {
   "cell_type": "code",
   "execution_count": 13,
   "id": "63c65304",
   "metadata": {},
   "outputs": [],
   "source": [
    "def get_id(s):\n",
    "    \"\"\"\n",
    "    Start functions for pdf to text\n",
    "    Get only first version instead of another from arxiv.\n",
    "    use apply function on the column to be changed.\"\"\"\n",
    "    return s.split('/')[-1]"
   ]
  },
  {
   "cell_type": "code",
   "execution_count": 14,
   "id": "80a28d5e",
   "metadata": {},
   "outputs": [],
   "source": [
    "# tab"
   ]
  },
  {
   "cell_type": "code",
   "execution_count": 15,
   "id": "f23f93f3",
   "metadata": {},
   "outputs": [],
   "source": [
    "abstract = pd.read_csv('abs_table.csv')"
   ]
  },
  {
   "cell_type": "code",
   "execution_count": 16,
   "id": "20291949",
   "metadata": {},
   "outputs": [
    {
     "data": {
      "text/html": [
       "<div>\n",
       "<style scoped>\n",
       "    .dataframe tbody tr th:only-of-type {\n",
       "        vertical-align: middle;\n",
       "    }\n",
       "\n",
       "    .dataframe tbody tr th {\n",
       "        vertical-align: top;\n",
       "    }\n",
       "\n",
       "    .dataframe thead th {\n",
       "        text-align: right;\n",
       "    }\n",
       "</style>\n",
       "<table border=\"1\" class=\"dataframe\">\n",
       "  <thead>\n",
       "    <tr style=\"text-align: right;\">\n",
       "      <th></th>\n",
       "      <th>abstract</th>\n",
       "      <th>url</th>\n",
       "    </tr>\n",
       "  </thead>\n",
       "  <tbody>\n",
       "    <tr>\n",
       "      <th>0</th>\n",
       "      <td>We advance the state-of-the-art in unsupervise...</td>\n",
       "      <td>https://aclanthology.org/2022.wit-1.1</td>\n",
       "    </tr>\n",
       "    <tr>\n",
       "      <th>1</th>\n",
       "      <td>With millions of documented recoveries from CO...</td>\n",
       "      <td>https://aclanthology.org/2022.wit-1.2</td>\n",
       "    </tr>\n",
       "  </tbody>\n",
       "</table>\n",
       "</div>"
      ],
      "text/plain": [
       "                                            abstract  \\\n",
       "0  We advance the state-of-the-art in unsupervise...   \n",
       "1  With millions of documented recoveries from CO...   \n",
       "\n",
       "                                     url  \n",
       "0  https://aclanthology.org/2022.wit-1.1  \n",
       "1  https://aclanthology.org/2022.wit-1.2  "
      ]
     },
     "execution_count": 16,
     "metadata": {},
     "output_type": "execute_result"
    }
   ],
   "source": [
    "abstract.head(2)"
   ]
  },
  {
   "cell_type": "code",
   "execution_count": 17,
   "id": "d8c73b83",
   "metadata": {
    "scrolled": true
   },
   "outputs": [
    {
     "data": {
      "text/html": [
       "<div>\n",
       "<style scoped>\n",
       "    .dataframe tbody tr th:only-of-type {\n",
       "        vertical-align: middle;\n",
       "    }\n",
       "\n",
       "    .dataframe tbody tr th {\n",
       "        vertical-align: top;\n",
       "    }\n",
       "\n",
       "    .dataframe thead th {\n",
       "        text-align: right;\n",
       "    }\n",
       "</style>\n",
       "<table border=\"1\" class=\"dataframe\">\n",
       "  <thead>\n",
       "    <tr style=\"text-align: right;\">\n",
       "      <th></th>\n",
       "      <th>ISBN</th>\n",
       "      <th>address</th>\n",
       "      <th>booktitle</th>\n",
       "      <th>doi</th>\n",
       "      <th>journal</th>\n",
       "      <th>language</th>\n",
       "      <th>month</th>\n",
       "      <th>note</th>\n",
       "      <th>number</th>\n",
       "      <th>pages</th>\n",
       "      <th>publisher</th>\n",
       "      <th>title</th>\n",
       "      <th>url</th>\n",
       "      <th>volume</th>\n",
       "      <th>year</th>\n",
       "      <th>clean</th>\n",
       "      <th>title_Arxiv</th>\n",
       "      <th>pdf_url_Arxiv</th>\n",
       "      <th>published_Arxiv</th>\n",
       "      <th>result_Arxiv</th>\n",
       "    </tr>\n",
       "  </thead>\n",
       "  <tbody>\n",
       "    <tr>\n",
       "      <th>2</th>\n",
       "      <td>NaN</td>\n",
       "      <td>Online</td>\n",
       "      <td>Proceedings of the 5th Workshop on Online Abus...</td>\n",
       "      <td>10.18653/v1/2021.woah-1.2</td>\n",
       "      <td>NaN</td>\n",
       "      <td>NaN</td>\n",
       "      <td>August</td>\n",
       "      <td>NaN</td>\n",
       "      <td>NaN</td>\n",
       "      <td>6--16</td>\n",
       "      <td>Association for Computational Linguistics</td>\n",
       "      <td>Modeling Profanity and Hate Speech in Social M...</td>\n",
       "      <td>https://aclanthology.org/2021.woah-1.2</td>\n",
       "      <td>NaN</td>\n",
       "      <td>2021</td>\n",
       "      <td>Modeling Profanity and Hate Speech in Social M...</td>\n",
       "      <td>Modeling Profanity and Hate Speech in Social M...</td>\n",
       "      <td>http://arxiv.org/pdf/2106.07505v2</td>\n",
       "      <td>2021-06-14 15:34:37+00:00</td>\n",
       "      <td>http://arxiv.org/abs/2106.07505v2</td>\n",
       "    </tr>\n",
       "    <tr>\n",
       "      <th>3</th>\n",
       "      <td>NaN</td>\n",
       "      <td>Online</td>\n",
       "      <td>Proceedings of the 5th Workshop on Online Abus...</td>\n",
       "      <td>10.18653/v1/2021.woah-1.3</td>\n",
       "      <td>NaN</td>\n",
       "      <td>NaN</td>\n",
       "      <td>August</td>\n",
       "      <td>NaN</td>\n",
       "      <td>NaN</td>\n",
       "      <td>17--25</td>\n",
       "      <td>Association for Computational Linguistics</td>\n",
       "      <td>HateBERT: Retraining BERT for Abusive Language...</td>\n",
       "      <td>https://aclanthology.org/2021.woah-1.3</td>\n",
       "      <td>NaN</td>\n",
       "      <td>2021</td>\n",
       "      <td>HateBERT  Retraining BERT for Abusive Language...</td>\n",
       "      <td>HateBERT: Retraining BERT for Abusive Language...</td>\n",
       "      <td>http://arxiv.org/pdf/2010.12472v2</td>\n",
       "      <td>2020-10-23 15:14:14+00:00</td>\n",
       "      <td>http://arxiv.org/abs/2010.12472v2</td>\n",
       "    </tr>\n",
       "  </tbody>\n",
       "</table>\n",
       "</div>"
      ],
      "text/plain": [
       "  ISBN address                                          booktitle  \\\n",
       "2  NaN  Online  Proceedings of the 5th Workshop on Online Abus...   \n",
       "3  NaN  Online  Proceedings of the 5th Workshop on Online Abus...   \n",
       "\n",
       "                         doi journal language   month note  number   pages  \\\n",
       "2  10.18653/v1/2021.woah-1.2     NaN      NaN  August  NaN     NaN   6--16   \n",
       "3  10.18653/v1/2021.woah-1.3     NaN      NaN  August  NaN     NaN  17--25   \n",
       "\n",
       "                                   publisher  \\\n",
       "2  Association for Computational Linguistics   \n",
       "3  Association for Computational Linguistics   \n",
       "\n",
       "                                               title  \\\n",
       "2  Modeling Profanity and Hate Speech in Social M...   \n",
       "3  HateBERT: Retraining BERT for Abusive Language...   \n",
       "\n",
       "                                      url  volume  year  \\\n",
       "2  https://aclanthology.org/2021.woah-1.2     NaN  2021   \n",
       "3  https://aclanthology.org/2021.woah-1.3     NaN  2021   \n",
       "\n",
       "                                               clean  \\\n",
       "2  Modeling Profanity and Hate Speech in Social M...   \n",
       "3  HateBERT  Retraining BERT for Abusive Language...   \n",
       "\n",
       "                                         title_Arxiv  \\\n",
       "2  Modeling Profanity and Hate Speech in Social M...   \n",
       "3  HateBERT: Retraining BERT for Abusive Language...   \n",
       "\n",
       "                       pdf_url_Arxiv            published_Arxiv  \\\n",
       "2  http://arxiv.org/pdf/2106.07505v2  2021-06-14 15:34:37+00:00   \n",
       "3  http://arxiv.org/pdf/2010.12472v2  2020-10-23 15:14:14+00:00   \n",
       "\n",
       "                        result_Arxiv  \n",
       "2  http://arxiv.org/abs/2106.07505v2  \n",
       "3  http://arxiv.org/abs/2010.12472v2  "
      ]
     },
     "execution_count": 17,
     "metadata": {},
     "output_type": "execute_result"
    }
   ],
   "source": [
    "table = table.dropna(subset= ['result_Arxiv'])\n",
    "table.head(2)"
   ]
  },
  {
   "cell_type": "code",
   "execution_count": 18,
   "id": "e28e6751",
   "metadata": {},
   "outputs": [
    {
     "data": {
      "text/html": [
       "<div>\n",
       "<style scoped>\n",
       "    .dataframe tbody tr th:only-of-type {\n",
       "        vertical-align: middle;\n",
       "    }\n",
       "\n",
       "    .dataframe tbody tr th {\n",
       "        vertical-align: top;\n",
       "    }\n",
       "\n",
       "    .dataframe thead th {\n",
       "        text-align: right;\n",
       "    }\n",
       "</style>\n",
       "<table border=\"1\" class=\"dataframe\">\n",
       "  <thead>\n",
       "    <tr style=\"text-align: right;\">\n",
       "      <th></th>\n",
       "      <th>ISBN</th>\n",
       "      <th>address</th>\n",
       "      <th>booktitle</th>\n",
       "      <th>doi</th>\n",
       "      <th>journal</th>\n",
       "      <th>language</th>\n",
       "      <th>month</th>\n",
       "      <th>note</th>\n",
       "      <th>number</th>\n",
       "      <th>pages</th>\n",
       "      <th>...</th>\n",
       "      <th>title</th>\n",
       "      <th>url</th>\n",
       "      <th>volume</th>\n",
       "      <th>year</th>\n",
       "      <th>clean</th>\n",
       "      <th>title_Arxiv</th>\n",
       "      <th>pdf_url_Arxiv</th>\n",
       "      <th>published_Arxiv</th>\n",
       "      <th>result_Arxiv</th>\n",
       "      <th>abstract</th>\n",
       "    </tr>\n",
       "  </thead>\n",
       "  <tbody>\n",
       "    <tr>\n",
       "      <th>0</th>\n",
       "      <td>NaN</td>\n",
       "      <td>Online</td>\n",
       "      <td>Proceedings of the 5th Workshop on Online Abus...</td>\n",
       "      <td>10.18653/v1/2021.woah-1.2</td>\n",
       "      <td>NaN</td>\n",
       "      <td>NaN</td>\n",
       "      <td>August</td>\n",
       "      <td>NaN</td>\n",
       "      <td>NaN</td>\n",
       "      <td>6--16</td>\n",
       "      <td>...</td>\n",
       "      <td>Modeling Profanity and Hate Speech in Social M...</td>\n",
       "      <td>https://aclanthology.org/2021.woah-1.2</td>\n",
       "      <td>NaN</td>\n",
       "      <td>2021</td>\n",
       "      <td>Modeling Profanity and Hate Speech in Social M...</td>\n",
       "      <td>Modeling Profanity and Hate Speech in Social M...</td>\n",
       "      <td>http://arxiv.org/pdf/2106.07505v2</td>\n",
       "      <td>2021-06-14 15:34:37+00:00</td>\n",
       "      <td>http://arxiv.org/abs/2106.07505v2</td>\n",
       "      <td>Hate speech and profanity detection suffer fro...</td>\n",
       "    </tr>\n",
       "    <tr>\n",
       "      <th>1</th>\n",
       "      <td>NaN</td>\n",
       "      <td>Online</td>\n",
       "      <td>Proceedings of the 5th Workshop on Online Abus...</td>\n",
       "      <td>10.18653/v1/2021.woah-1.3</td>\n",
       "      <td>NaN</td>\n",
       "      <td>NaN</td>\n",
       "      <td>August</td>\n",
       "      <td>NaN</td>\n",
       "      <td>NaN</td>\n",
       "      <td>17--25</td>\n",
       "      <td>...</td>\n",
       "      <td>HateBERT: Retraining BERT for Abusive Language...</td>\n",
       "      <td>https://aclanthology.org/2021.woah-1.3</td>\n",
       "      <td>NaN</td>\n",
       "      <td>2021</td>\n",
       "      <td>HateBERT  Retraining BERT for Abusive Language...</td>\n",
       "      <td>HateBERT: Retraining BERT for Abusive Language...</td>\n",
       "      <td>http://arxiv.org/pdf/2010.12472v2</td>\n",
       "      <td>2020-10-23 15:14:14+00:00</td>\n",
       "      <td>http://arxiv.org/abs/2010.12472v2</td>\n",
       "      <td>We introduce HateBERT, a re-trained BERT model...</td>\n",
       "    </tr>\n",
       "  </tbody>\n",
       "</table>\n",
       "<p>2 rows × 21 columns</p>\n",
       "</div>"
      ],
      "text/plain": [
       "  ISBN address                                          booktitle  \\\n",
       "0  NaN  Online  Proceedings of the 5th Workshop on Online Abus...   \n",
       "1  NaN  Online  Proceedings of the 5th Workshop on Online Abus...   \n",
       "\n",
       "                         doi journal language   month note  number   pages  \\\n",
       "0  10.18653/v1/2021.woah-1.2     NaN      NaN  August  NaN     NaN   6--16   \n",
       "1  10.18653/v1/2021.woah-1.3     NaN      NaN  August  NaN     NaN  17--25   \n",
       "\n",
       "   ...                                              title  \\\n",
       "0  ...  Modeling Profanity and Hate Speech in Social M...   \n",
       "1  ...  HateBERT: Retraining BERT for Abusive Language...   \n",
       "\n",
       "                                      url volume  year  \\\n",
       "0  https://aclanthology.org/2021.woah-1.2    NaN  2021   \n",
       "1  https://aclanthology.org/2021.woah-1.3    NaN  2021   \n",
       "\n",
       "                                               clean  \\\n",
       "0  Modeling Profanity and Hate Speech in Social M...   \n",
       "1  HateBERT  Retraining BERT for Abusive Language...   \n",
       "\n",
       "                                         title_Arxiv  \\\n",
       "0  Modeling Profanity and Hate Speech in Social M...   \n",
       "1  HateBERT: Retraining BERT for Abusive Language...   \n",
       "\n",
       "                       pdf_url_Arxiv            published_Arxiv  \\\n",
       "0  http://arxiv.org/pdf/2106.07505v2  2021-06-14 15:34:37+00:00   \n",
       "1  http://arxiv.org/pdf/2010.12472v2  2020-10-23 15:14:14+00:00   \n",
       "\n",
       "                        result_Arxiv  \\\n",
       "0  http://arxiv.org/abs/2106.07505v2   \n",
       "1  http://arxiv.org/abs/2010.12472v2   \n",
       "\n",
       "                                            abstract  \n",
       "0  Hate speech and profanity detection suffer fro...  \n",
       "1  We introduce HateBERT, a re-trained BERT model...  \n",
       "\n",
       "[2 rows x 21 columns]"
      ]
     },
     "execution_count": 18,
     "metadata": {},
     "output_type": "execute_result"
    }
   ],
   "source": [
    "table = table.merge(abstract, on='url')\n",
    "table.head(2)"
   ]
  },
  {
   "cell_type": "markdown",
   "id": "3d1ce438",
   "metadata": {},
   "source": [
    "## Two articles without abstract in bib file \n",
    "(also no abstract on site. It can be retrieved from the pdf)"
   ]
  },
  {
   "cell_type": "code",
   "execution_count": 22,
   "id": "7650dc9a",
   "metadata": {},
   "outputs": [
    {
     "data": {
      "text/plain": [
       "count                                                  7918\n",
       "unique                                                 7918\n",
       "top       Hate speech and profanity detection suffer fro...\n",
       "freq                                                      1\n",
       "Name: abstract, dtype: object"
      ]
     },
     "execution_count": 22,
     "metadata": {},
     "output_type": "execute_result"
    }
   ],
   "source": [
    "table['abstract'].describe()"
   ]
  },
  {
   "cell_type": "code",
   "execution_count": 42,
   "id": "03a14778",
   "metadata": {},
   "outputs": [
    {
     "data": {
      "text/html": [
       "<div>\n",
       "<style scoped>\n",
       "    .dataframe tbody tr th:only-of-type {\n",
       "        vertical-align: middle;\n",
       "    }\n",
       "\n",
       "    .dataframe tbody tr th {\n",
       "        vertical-align: top;\n",
       "    }\n",
       "\n",
       "    .dataframe thead th {\n",
       "        text-align: right;\n",
       "    }\n",
       "</style>\n",
       "<table border=\"1\" class=\"dataframe\">\n",
       "  <thead>\n",
       "    <tr style=\"text-align: right;\">\n",
       "      <th></th>\n",
       "      <th>ISBN</th>\n",
       "      <th>address</th>\n",
       "      <th>booktitle</th>\n",
       "      <th>doi</th>\n",
       "      <th>journal</th>\n",
       "      <th>language</th>\n",
       "      <th>month</th>\n",
       "      <th>note</th>\n",
       "      <th>number</th>\n",
       "      <th>pages</th>\n",
       "      <th>...</th>\n",
       "      <th>url</th>\n",
       "      <th>volume</th>\n",
       "      <th>year</th>\n",
       "      <th>clean</th>\n",
       "      <th>title_Arxiv</th>\n",
       "      <th>pdf_url_Arxiv</th>\n",
       "      <th>published_Arxiv</th>\n",
       "      <th>result_Arxiv</th>\n",
       "      <th>abstract</th>\n",
       "      <th>id_arxiv</th>\n",
       "    </tr>\n",
       "  </thead>\n",
       "  <tbody>\n",
       "    <tr>\n",
       "      <th>995</th>\n",
       "      <td>NaN</td>\n",
       "      <td>Punta Cana, Dominican Republic</td>\n",
       "      <td>Findings of the Association for Computational ...</td>\n",
       "      <td>10.18653/v1/2021.findings-emnlp.424</td>\n",
       "      <td>NaN</td>\n",
       "      <td>NaN</td>\n",
       "      <td>November</td>\n",
       "      <td>NaN</td>\n",
       "      <td>NaN</td>\n",
       "      <td>4929--4952</td>\n",
       "      <td>...</td>\n",
       "      <td>https://aclanthology.org/2021.findings-emnlp.424</td>\n",
       "      <td>NaN</td>\n",
       "      <td>2021</td>\n",
       "      <td>GeDi  Generative Discriminator Guided Sequence...</td>\n",
       "      <td>GeDi: Generative Discriminator Guided Sequence...</td>\n",
       "      <td>http://arxiv.org/pdf/2009.06367v2</td>\n",
       "      <td>2020-09-14 17:45:36+00:00</td>\n",
       "      <td>http://arxiv.org/abs/2009.06367v2</td>\n",
       "      <td>NaN</td>\n",
       "      <td>2009.06367v1</td>\n",
       "    </tr>\n",
       "    <tr>\n",
       "      <th>4831</th>\n",
       "      <td>NaN</td>\n",
       "      <td>Sydney, Australia</td>\n",
       "      <td>Proceedings of the The 17th Annual Workshop of...</td>\n",
       "      <td>NaN</td>\n",
       "      <td>NaN</td>\n",
       "      <td>NaN</td>\n",
       "      <td>4--6 December</td>\n",
       "      <td>NaN</td>\n",
       "      <td>NaN</td>\n",
       "      <td>28--34</td>\n",
       "      <td>...</td>\n",
       "      <td>https://aclanthology.org/U19-1004</td>\n",
       "      <td>NaN</td>\n",
       "      <td>2019</td>\n",
       "      <td>A neural joint model for Vietnamese word segme...</td>\n",
       "      <td>A neural joint model for Vietnamese word segme...</td>\n",
       "      <td>http://arxiv.org/pdf/1812.11459v3</td>\n",
       "      <td>2018-12-30 03:03:28+00:00</td>\n",
       "      <td>http://arxiv.org/abs/1812.11459v3</td>\n",
       "      <td>NaN</td>\n",
       "      <td>1812.11459v1</td>\n",
       "    </tr>\n",
       "  </tbody>\n",
       "</table>\n",
       "<p>2 rows × 22 columns</p>\n",
       "</div>"
      ],
      "text/plain": [
       "     ISBN                         address  \\\n",
       "995   NaN  Punta Cana, Dominican Republic   \n",
       "4831  NaN               Sydney, Australia   \n",
       "\n",
       "                                              booktitle  \\\n",
       "995   Findings of the Association for Computational ...   \n",
       "4831  Proceedings of the The 17th Annual Workshop of...   \n",
       "\n",
       "                                      doi journal language          month  \\\n",
       "995   10.18653/v1/2021.findings-emnlp.424     NaN      NaN       November   \n",
       "4831                                  NaN     NaN      NaN  4--6 December   \n",
       "\n",
       "     note  number       pages  ...  \\\n",
       "995   NaN     NaN  4929--4952  ...   \n",
       "4831  NaN     NaN      28--34  ...   \n",
       "\n",
       "                                                   url volume  year  \\\n",
       "995   https://aclanthology.org/2021.findings-emnlp.424    NaN  2021   \n",
       "4831                 https://aclanthology.org/U19-1004    NaN  2019   \n",
       "\n",
       "                                                  clean  \\\n",
       "995   GeDi  Generative Discriminator Guided Sequence...   \n",
       "4831  A neural joint model for Vietnamese word segme...   \n",
       "\n",
       "                                            title_Arxiv  \\\n",
       "995   GeDi: Generative Discriminator Guided Sequence...   \n",
       "4831  A neural joint model for Vietnamese word segme...   \n",
       "\n",
       "                          pdf_url_Arxiv            published_Arxiv  \\\n",
       "995   http://arxiv.org/pdf/2009.06367v2  2020-09-14 17:45:36+00:00   \n",
       "4831  http://arxiv.org/pdf/1812.11459v3  2018-12-30 03:03:28+00:00   \n",
       "\n",
       "                           result_Arxiv abstract      id_arxiv  \n",
       "995   http://arxiv.org/abs/2009.06367v2      NaN  2009.06367v1  \n",
       "4831  http://arxiv.org/abs/1812.11459v3      NaN  1812.11459v1  \n",
       "\n",
       "[2 rows x 22 columns]"
      ]
     },
     "execution_count": 42,
     "metadata": {},
     "output_type": "execute_result"
    }
   ],
   "source": [
    "table[table['abstract'].isna()]"
   ]
  },
  {
   "cell_type": "code",
   "execution_count": 24,
   "id": "6eae0b30",
   "metadata": {},
   "outputs": [],
   "source": [
    "table['id_arxiv'] = table['result_Arxiv'].apply(only_first).apply(get_id)"
   ]
  },
  {
   "cell_type": "code",
   "execution_count": 43,
   "id": "39ff5056",
   "metadata": {},
   "outputs": [
    {
     "data": {
      "text/plain": [
       "Index(['ISBN', 'address', 'booktitle', 'doi', 'journal', 'language', 'month',\n",
       "       'note', 'number', 'pages', 'publisher', 'title', 'url', 'volume',\n",
       "       'year', 'clean', 'title_Arxiv', 'pdf_url_Arxiv', 'published_Arxiv',\n",
       "       'result_Arxiv', 'abstract', 'id_arxiv'],\n",
       "      dtype='object')"
      ]
     },
     "execution_count": 43,
     "metadata": {},
     "output_type": "execute_result"
    }
   ],
   "source": [
    "table.columns"
   ]
  },
  {
   "cell_type": "code",
   "execution_count": 44,
   "id": "68fa98de",
   "metadata": {},
   "outputs": [],
   "source": [
    "table = table[['url','abstract', 'id_arxiv']]"
   ]
  },
  {
   "cell_type": "code",
   "execution_count": 53,
   "id": "58cb2ef1",
   "metadata": {},
   "outputs": [
    {
     "data": {
      "text/html": [
       "<div>\n",
       "<style scoped>\n",
       "    .dataframe tbody tr th:only-of-type {\n",
       "        vertical-align: middle;\n",
       "    }\n",
       "\n",
       "    .dataframe tbody tr th {\n",
       "        vertical-align: top;\n",
       "    }\n",
       "\n",
       "    .dataframe thead th {\n",
       "        text-align: right;\n",
       "    }\n",
       "</style>\n",
       "<table border=\"1\" class=\"dataframe\">\n",
       "  <thead>\n",
       "    <tr style=\"text-align: right;\">\n",
       "      <th></th>\n",
       "      <th>url</th>\n",
       "      <th>abstract</th>\n",
       "      <th>id_arxiv</th>\n",
       "    </tr>\n",
       "  </thead>\n",
       "  <tbody>\n",
       "    <tr>\n",
       "      <th>0</th>\n",
       "      <td>https://aclanthology.org/2021.woah-1.2</td>\n",
       "      <td>Hate speech and profanity detection suffer fro...</td>\n",
       "      <td>2106.07505v1</td>\n",
       "    </tr>\n",
       "    <tr>\n",
       "      <th>1</th>\n",
       "      <td>https://aclanthology.org/2021.woah-1.3</td>\n",
       "      <td>We introduce HateBERT, a re-trained BERT model...</td>\n",
       "      <td>2010.12472v1</td>\n",
       "    </tr>\n",
       "    <tr>\n",
       "      <th>2</th>\n",
       "      <td>https://aclanthology.org/2021.woah-1.4</td>\n",
       "      <td>Hateful memes pose a unique challenge for curr...</td>\n",
       "      <td>2107.04313v1</td>\n",
       "    </tr>\n",
       "    <tr>\n",
       "      <th>3</th>\n",
       "      <td>https://aclanthology.org/2021.woah-1.5</td>\n",
       "      <td>Content moderation is often performed by a col...</td>\n",
       "      <td>2107.04212v1</td>\n",
       "    </tr>\n",
       "    <tr>\n",
       "      <th>4</th>\n",
       "      <td>https://aclanthology.org/2021.woah-1.10</td>\n",
       "      <td>Bias mitigation approaches reduce models{'} de...</td>\n",
       "      <td>2108.01721v1</td>\n",
       "    </tr>\n",
       "  </tbody>\n",
       "</table>\n",
       "</div>"
      ],
      "text/plain": [
       "                                       url  \\\n",
       "0   https://aclanthology.org/2021.woah-1.2   \n",
       "1   https://aclanthology.org/2021.woah-1.3   \n",
       "2   https://aclanthology.org/2021.woah-1.4   \n",
       "3   https://aclanthology.org/2021.woah-1.5   \n",
       "4  https://aclanthology.org/2021.woah-1.10   \n",
       "\n",
       "                                            abstract      id_arxiv  \n",
       "0  Hate speech and profanity detection suffer fro...  2106.07505v1  \n",
       "1  We introduce HateBERT, a re-trained BERT model...  2010.12472v1  \n",
       "2  Hateful memes pose a unique challenge for curr...  2107.04313v1  \n",
       "3  Content moderation is often performed by a col...  2107.04212v1  \n",
       "4  Bias mitigation approaches reduce models{'} de...  2108.01721v1  "
      ]
     },
     "execution_count": 53,
     "metadata": {},
     "output_type": "execute_result"
    }
   ],
   "source": [
    "table.head()"
   ]
  },
  {
   "cell_type": "code",
   "execution_count": 41,
   "id": "d0ec7020",
   "metadata": {},
   "outputs": [
    {
     "data": {
      "text/plain": [
       "7920"
      ]
     },
     "execution_count": 41,
     "metadata": {},
     "output_type": "execute_result"
    }
   ],
   "source": [
    "len(table)"
   ]
  },
  {
   "cell_type": "code",
   "execution_count": 54,
   "id": "81680119",
   "metadata": {},
   "outputs": [
    {
     "name": "stderr",
     "output_type": "stream",
     "text": [
      "Time taken:      27228.056s\n"
     ]
    }
   ],
   "source": [
    "# tab = table.head(5)\n",
    "start = time.time()\n",
    "table['abstract_Arxiv'] = table['id_arxiv'].apply(search_abstract).apply(clean_n)\n",
    "end = time.time() \n",
    "print(\"Time taken:      {:.3f}s\".format(end - start), file=sys.stderr)"
   ]
  },
  {
   "cell_type": "code",
   "execution_count": 55,
   "id": "fcd0b498",
   "metadata": {},
   "outputs": [],
   "source": [
    "table.to_csv('table_emergency_copy.csv')"
   ]
  },
  {
   "cell_type": "code",
   "execution_count": 68,
   "id": "ab45658f",
   "metadata": {},
   "outputs": [
    {
     "data": {
      "text/plain": [
       "url               0\n",
       "abstract          2\n",
       "id_arxiv          0\n",
       "abstract_Arxiv    0\n",
       "dtype: int64"
      ]
     },
     "execution_count": 68,
     "metadata": {},
     "output_type": "execute_result"
    }
   ],
   "source": [
    "table.isna().sum()"
   ]
  },
  {
   "cell_type": "code",
   "execution_count": 72,
   "id": "a676a964",
   "metadata": {},
   "outputs": [],
   "source": [
    "table.loc[995]['abstract'] = 'While large-scale language models (LMs) are able to imitate the distribution of natural language well enough to generate realistic text, it is difficult to control which regions of the distribution they generate. This is especially problematic because datasets used for training large LMs usually contain significant toxicity, hate, bias, and negativity. One promising approach to address this is to use discriminators to guide decoding from LMs, but existing methods for this are too slow to be useful in practice for many applications. We present GeDi as a significantly more efficient discriminator-based approach for guiding decoding. GeDi guides generation at each step by computing classification probabilities for all possible next tokens via Bayes rule by normalizing over two class-conditional distributions; one conditioned on the desired attribute,  or control code, and another conditioned on the undesired attribute, or anti control code. We find that GeDi gives controllability on par with or better than previous controllable generation methods. GeDi results in significantly faster generation speeds than the only previous method that achieved comparable controllability in our experiments. We also show that GeDi can make GPT-2 and GPT-3 significantly less toxic while maintaining linguistic fluency, without sacrificing significantly on generation speed. Lastly, we find training GeDi on only three topics allows us to controllably generate new topics zero-shot from just a keyword.'\n",
    "table.loc[4831]['abstract'] = 'We propose the first multi-task learning model for joint Vietnamese word segmentation, part-of-speech (POS) tagging and dependency parsing. In particular, our model extends the BIST graph-based dependency parser (Kiperwasser and Goldberg, 2016) with BiLSTMCRF-based neural layers (Huang et al., 2015) for word segmentation and POS tagging. On Vietnamese benchmark datasets, experimental results show that our joint model obtains state-of-the-art or competitive performances.'\n",
    "\n"
   ]
  },
  {
   "cell_type": "code",
   "execution_count": 73,
   "id": "47ee442a",
   "metadata": {},
   "outputs": [
    {
     "data": {
      "text/plain": [
       "url               0\n",
       "abstract          0\n",
       "id_arxiv          0\n",
       "abstract_Arxiv    0\n",
       "dtype: int64"
      ]
     },
     "execution_count": 73,
     "metadata": {},
     "output_type": "execute_result"
    }
   ],
   "source": [
    "table.isna().sum()"
   ]
  },
  {
   "cell_type": "code",
   "execution_count": 74,
   "id": "93962632",
   "metadata": {},
   "outputs": [],
   "source": [
    "table['cosine_abstract'] = table.apply(lambda x:cosine_similarity(embed([x.abstract]),embed([x.abstract_Arxiv])), axis=1)\n",
    "table['cosine_abstract'] = table['cosine_abstract'].astype(float)"
   ]
  },
  {
   "cell_type": "code",
   "execution_count": 75,
   "id": "fd6370ac",
   "metadata": {},
   "outputs": [],
   "source": [
    "table_abstract = table[['url', 'cosine_abstract']]"
   ]
  },
  {
   "cell_type": "code",
   "execution_count": 76,
   "id": "f162beaf",
   "metadata": {},
   "outputs": [],
   "source": [
    "table_abstract.to_csv('table_cosine_abstract.csv')\n"
   ]
  },
  {
   "cell_type": "code",
   "execution_count": 77,
   "id": "2ea65cec",
   "metadata": {},
   "outputs": [
    {
     "data": {
      "text/html": [
       "<div>\n",
       "<style scoped>\n",
       "    .dataframe tbody tr th:only-of-type {\n",
       "        vertical-align: middle;\n",
       "    }\n",
       "\n",
       "    .dataframe tbody tr th {\n",
       "        vertical-align: top;\n",
       "    }\n",
       "\n",
       "    .dataframe thead th {\n",
       "        text-align: right;\n",
       "    }\n",
       "</style>\n",
       "<table border=\"1\" class=\"dataframe\">\n",
       "  <thead>\n",
       "    <tr style=\"text-align: right;\">\n",
       "      <th></th>\n",
       "      <th>url</th>\n",
       "      <th>cosine_abstract</th>\n",
       "    </tr>\n",
       "  </thead>\n",
       "  <tbody>\n",
       "    <tr>\n",
       "      <th>7918</th>\n",
       "      <td>https://aclanthology.org/2016.amta-researchers.4</td>\n",
       "      <td>1.0</td>\n",
       "    </tr>\n",
       "    <tr>\n",
       "      <th>7919</th>\n",
       "      <td>https://aclanthology.org/2016.amta-researchers.10</td>\n",
       "      <td>1.0</td>\n",
       "    </tr>\n",
       "  </tbody>\n",
       "</table>\n",
       "</div>"
      ],
      "text/plain": [
       "                                                    url  cosine_abstract\n",
       "7918   https://aclanthology.org/2016.amta-researchers.4              1.0\n",
       "7919  https://aclanthology.org/2016.amta-researchers.10              1.0"
      ]
     },
     "execution_count": 77,
     "metadata": {},
     "output_type": "execute_result"
    }
   ],
   "source": [
    "table_abstract.tail(2)"
   ]
  },
  {
   "cell_type": "code",
   "execution_count": 78,
   "id": "4645c7b5",
   "metadata": {},
   "outputs": [
    {
     "data": {
      "text/html": [
       "<div>\n",
       "<style scoped>\n",
       "    .dataframe tbody tr th:only-of-type {\n",
       "        vertical-align: middle;\n",
       "    }\n",
       "\n",
       "    .dataframe tbody tr th {\n",
       "        vertical-align: top;\n",
       "    }\n",
       "\n",
       "    .dataframe thead th {\n",
       "        text-align: right;\n",
       "    }\n",
       "</style>\n",
       "<table border=\"1\" class=\"dataframe\">\n",
       "  <thead>\n",
       "    <tr style=\"text-align: right;\">\n",
       "      <th></th>\n",
       "      <th>cosine_abstract</th>\n",
       "    </tr>\n",
       "  </thead>\n",
       "  <tbody>\n",
       "    <tr>\n",
       "      <th>count</th>\n",
       "      <td>7920.000000</td>\n",
       "    </tr>\n",
       "    <tr>\n",
       "      <th>mean</th>\n",
       "      <td>0.978068</td>\n",
       "    </tr>\n",
       "    <tr>\n",
       "      <th>std</th>\n",
       "      <td>0.059433</td>\n",
       "    </tr>\n",
       "    <tr>\n",
       "      <th>min</th>\n",
       "      <td>0.407765</td>\n",
       "    </tr>\n",
       "    <tr>\n",
       "      <th>25%</th>\n",
       "      <td>0.989178</td>\n",
       "    </tr>\n",
       "    <tr>\n",
       "      <th>50%</th>\n",
       "      <td>0.999985</td>\n",
       "    </tr>\n",
       "    <tr>\n",
       "      <th>75%</th>\n",
       "      <td>1.000000</td>\n",
       "    </tr>\n",
       "    <tr>\n",
       "      <th>max</th>\n",
       "      <td>1.000000</td>\n",
       "    </tr>\n",
       "  </tbody>\n",
       "</table>\n",
       "</div>"
      ],
      "text/plain": [
       "       cosine_abstract\n",
       "count      7920.000000\n",
       "mean          0.978068\n",
       "std           0.059433\n",
       "min           0.407765\n",
       "25%           0.989178\n",
       "50%           0.999985\n",
       "75%           1.000000\n",
       "max           1.000000"
      ]
     },
     "execution_count": 78,
     "metadata": {},
     "output_type": "execute_result"
    }
   ],
   "source": [
    "table_abstract.describe()"
   ]
  },
  {
   "cell_type": "code",
   "execution_count": 89,
   "id": "50eac687",
   "metadata": {},
   "outputs": [
    {
     "data": {
      "text/plain": [
       "<AxesSubplot:ylabel='Frequency'>"
      ]
     },
     "execution_count": 89,
     "metadata": {},
     "output_type": "execute_result"
    },
    {
     "data": {
      "image/png": "[encoded data removed]",
      "text/plain": [
       "<Figure size 432x288 with 1 Axes>"
      ]
     },
     "metadata": {
      "needs_background": "light"
     },
     "output_type": "display_data"
    }
   ],
   "source": [
    "table['cosine_abstract'].plot(kind='hist', bins = 100)"
   ]
  },
  {
   "cell_type": "code",
   "execution_count": 91,
   "id": "831cf63a",
   "metadata": {},
   "outputs": [
    {
     "data": {
      "text/plain": [
       "<AxesSubplot:ylabel='Frequency'>"
      ]
     },
     "execution_count": 91,
     "metadata": {},
     "output_type": "execute_result"
    },
    {
     "data": {
      "image/png": "[encoded data removed]",
      "text/plain": [
       "<Figure size 432x288 with 1 Axes>"
      ]
     },
     "metadata": {
      "needs_background": "light"
     },
     "output_type": "display_data"
    }
   ],
   "source": [
    "table[table['cosine_abstract']<0.97].plot(kind='hist')"
   ]
  },
  {
   "cell_type": "code",
   "execution_count": 92,
   "id": "7a7b17e2",
   "metadata": {},
   "outputs": [
    {
     "data": {
      "text/html": [
       "<div>\n",
       "<style scoped>\n",
       "    .dataframe tbody tr th:only-of-type {\n",
       "        vertical-align: middle;\n",
       "    }\n",
       "\n",
       "    .dataframe tbody tr th {\n",
       "        vertical-align: top;\n",
       "    }\n",
       "\n",
       "    .dataframe thead th {\n",
       "        text-align: right;\n",
       "    }\n",
       "</style>\n",
       "<table border=\"1\" class=\"dataframe\">\n",
       "  <thead>\n",
       "    <tr style=\"text-align: right;\">\n",
       "      <th></th>\n",
       "      <th>url</th>\n",
       "      <th>abstract</th>\n",
       "      <th>id_arxiv</th>\n",
       "      <th>abstract_Arxiv</th>\n",
       "      <th>cosine_abstract</th>\n",
       "    </tr>\n",
       "  </thead>\n",
       "  <tbody>\n",
       "    <tr>\n",
       "      <th>271</th>\n",
       "      <td>https://aclanthology.org/2021.nuse-1.8</td>\n",
       "      <td>Automated storytelling has long captured the a...</td>\n",
       "      <td>2102.12634v1</td>\n",
       "      <td>The scope of this survey paper is to explore t...</td>\n",
       "      <td>0.487546</td>\n",
       "    </tr>\n",
       "    <tr>\n",
       "      <th>357</th>\n",
       "      <td>https://aclanthology.org/2021.naacl-main.27</td>\n",
       "      <td>We present a fast and scalable architecture ca...</td>\n",
       "      <td>2004.10663v1</td>\n",
       "      <td>In task-oriented dialogue systems, Dialogue St...</td>\n",
       "      <td>0.443520</td>\n",
       "    </tr>\n",
       "    <tr>\n",
       "      <th>656</th>\n",
       "      <td>https://aclanthology.org/2021.mtsummit-up.27</td>\n",
       "      <td>Production NMT systems typically need to serve...</td>\n",
       "      <td>2102.10160v1</td>\n",
       "      <td>Many modern Neural Machine Translation (NMT) s...</td>\n",
       "      <td>0.439994</td>\n",
       "    </tr>\n",
       "    <tr>\n",
       "      <th>2192</th>\n",
       "      <td>https://aclanthology.org/2021.acl-long.357</td>\n",
       "      <td>Event forecasting is a challenging, yet import...</td>\n",
       "      <td>2005.00792v1</td>\n",
       "      <td>Textual data are often accompanied by time inf...</td>\n",
       "      <td>0.471354</td>\n",
       "    </tr>\n",
       "    <tr>\n",
       "      <th>3545</th>\n",
       "      <td>https://aclanthology.org/2020.emnlp-main.577</td>\n",
       "      <td>Knowledge graphs (KGs) can vary greatly from o...</td>\n",
       "      <td>1904.09447v1</td>\n",
       "      <td>This work presents a joint solution to two cha...</td>\n",
       "      <td>0.469136</td>\n",
       "    </tr>\n",
       "    <tr>\n",
       "      <th>6555</th>\n",
       "      <td>https://aclanthology.org/P18-1141</td>\n",
       "      <td>We present a new method for estimating vector ...</td>\n",
       "      <td>1801.06807v1</td>\n",
       "      <td>Multilingual embeddings build on the success o...</td>\n",
       "      <td>0.459467</td>\n",
       "    </tr>\n",
       "    <tr>\n",
       "      <th>6831</th>\n",
       "      <td>https://aclanthology.org/D18-1018</td>\n",
       "      <td>Coreference resolution is an intermediate step...</td>\n",
       "      <td>1708.00160v1</td>\n",
       "      <td>We introduce an efficient algorithm for mining...</td>\n",
       "      <td>0.414184</td>\n",
       "    </tr>\n",
       "    <tr>\n",
       "      <th>7258</th>\n",
       "      <td>https://aclanthology.org/W17-5310</td>\n",
       "      <td>In this paper we present the model used by the...</td>\n",
       "      <td>1707.03103v1</td>\n",
       "      <td>In this paper we present the model used by the...</td>\n",
       "      <td>0.407765</td>\n",
       "    </tr>\n",
       "    <tr>\n",
       "      <th>7310</th>\n",
       "      <td>https://aclanthology.org/W17-3537</td>\n",
       "      <td>A generation system can only be as good as the...</td>\n",
       "      <td>1705.03802v1</td>\n",
       "      <td>Recently, several data-sets associating data t...</td>\n",
       "      <td>0.491150</td>\n",
       "    </tr>\n",
       "  </tbody>\n",
       "</table>\n",
       "</div>"
      ],
      "text/plain": [
       "                                               url  \\\n",
       "271         https://aclanthology.org/2021.nuse-1.8   \n",
       "357    https://aclanthology.org/2021.naacl-main.27   \n",
       "656   https://aclanthology.org/2021.mtsummit-up.27   \n",
       "2192    https://aclanthology.org/2021.acl-long.357   \n",
       "3545  https://aclanthology.org/2020.emnlp-main.577   \n",
       "6555             https://aclanthology.org/P18-1141   \n",
       "6831             https://aclanthology.org/D18-1018   \n",
       "7258             https://aclanthology.org/W17-5310   \n",
       "7310             https://aclanthology.org/W17-3537   \n",
       "\n",
       "                                               abstract      id_arxiv  \\\n",
       "271   Automated storytelling has long captured the a...  2102.12634v1   \n",
       "357   We present a fast and scalable architecture ca...  2004.10663v1   \n",
       "656   Production NMT systems typically need to serve...  2102.10160v1   \n",
       "2192  Event forecasting is a challenging, yet import...  2005.00792v1   \n",
       "3545  Knowledge graphs (KGs) can vary greatly from o...  1904.09447v1   \n",
       "6555  We present a new method for estimating vector ...  1801.06807v1   \n",
       "6831  Coreference resolution is an intermediate step...  1708.00160v1   \n",
       "7258  In this paper we present the model used by the...  1707.03103v1   \n",
       "7310  A generation system can only be as good as the...  1705.03802v1   \n",
       "\n",
       "                                         abstract_Arxiv  cosine_abstract  \n",
       "271   The scope of this survey paper is to explore t...         0.487546  \n",
       "357   In task-oriented dialogue systems, Dialogue St...         0.443520  \n",
       "656   Many modern Neural Machine Translation (NMT) s...         0.439994  \n",
       "2192  Textual data are often accompanied by time inf...         0.471354  \n",
       "3545  This work presents a joint solution to two cha...         0.469136  \n",
       "6555  Multilingual embeddings build on the success o...         0.459467  \n",
       "6831  We introduce an efficient algorithm for mining...         0.414184  \n",
       "7258  In this paper we present the model used by the...         0.407765  \n",
       "7310  Recently, several data-sets associating data t...         0.491150  "
      ]
     },
     "execution_count": 92,
     "metadata": {},
     "output_type": "execute_result"
    }
   ],
   "source": [
    "table[table['cosine_abstract']<0.5]"
   ]
  },
  {
   "cell_type": "code",
   "execution_count": 96,
   "id": "db61cc2e",
   "metadata": {},
   "outputs": [
    {
     "data": {
      "text/plain": [
       "('We introduce HateBERT, a re-trained BERT model for abusive language detection in English. The model was trained on RAL-E, a large-scale dataset of Reddit comments in English from communities banned for being offensive, abusive, or hateful that we have curated and made available to the public. We present the results of a detailed comparison between a general pre-trained language model and the retrained version on three English datasets for offensive, abusive language and hate speech detection tasks. In all datasets, HateBERT outperforms the corresponding general BERT model. We also discuss a battery of experiments comparing the portability of the fine-tuned models across the datasets, suggesting that portability is affected by compatibility of the annotated phenomena.',\n",
       " 'In this paper, we introduce HateBERT, a re-trained BERT model for abusive language detection in English. The model was trained on RAL-E, a large-scale dataset of Reddit comments in English from communities banned for being offensive, abusive, or hateful that we have collected and made available to the public. We present the results of a detailed comparison between a general pre-trained language model and the abuse-inclined version obtained by retraining with posts from the banned communities on three English datasets for offensive, abusive language and hate speech detection tasks. In all datasets, HateBERT outperforms the corresponding general BERT model. We also discuss a battery of experiments comparing the portability of the general pre-trained language model and its corresponding abusive language-inclined counterpart across the datasets, indicating that portability is affected by compatibility of the annotated phenomena.')"
      ]
     },
     "execution_count": 96,
     "metadata": {},
     "output_type": "execute_result"
    }
   ],
   "source": [
    "# similar example\n",
    "table.loc[1]['abstract'],table.loc[1]['abstract_Arxiv']"
   ]
  },
  {
   "cell_type": "code",
   "execution_count": null,
   "id": "214bbfdb",
   "metadata": {},
   "outputs": [],
   "source": [
    "#different example\n",
    "table.loc[1]['abstract'],table.loc[1]['abstract_Arxiv']"
   ]
  }
 ],
 "metadata": {
  "kernelspec": {
   "display_name": "Python 3 (ipykernel)",
   "language": "python",
   "name": "python3"
  },
  "language_info": {
   "codemirror_mode": {
    "name": "ipython",
    "version": 3
   },
   "file_extension": ".py",
   "mimetype": "text/x-python",
   "name": "python",
   "nbconvert_exporter": "python",
   "pygments_lexer": "ipython3",
   "version": "3.9.7"
  }
 },
 "nbformat": 4,
 "nbformat_minor": 5
}
