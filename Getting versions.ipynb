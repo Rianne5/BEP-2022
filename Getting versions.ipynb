{
 "cells": [
  {
   "cell_type": "markdown",
   "id": "c55dc58a",
   "metadata": {},
   "source": [
    "# Getting both versions from arxiv and anthology"
   ]
  },
  {
   "cell_type": "code",
   "execution_count": null,
   "id": "ed6d0c29",
   "metadata": {},
   "outputs": [],
   "source": [
    "# table with: title, name pdf arxiv, name pdf anthology"
   ]
  }
 ],
 "metadata": {
  "kernelspec": {
   "display_name": "Python 3 (ipykernel)",
   "language": "python",
   "name": "python3"
  },
  "language_info": {
   "codemirror_mode": {
    "name": "ipython",
    "version": 3
   },
   "file_extension": ".py",
   "mimetype": "text/x-python",
   "name": "python",
   "nbconvert_exporter": "python",
   "pygments_lexer": "ipython3",
   "version": "3.9.7"
  }
 },
 "nbformat": 4,
 "nbformat_minor": 5
}
